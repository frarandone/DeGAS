{
 "cells": [
  {
   "cell_type": "code",
   "execution_count": 1,
   "id": "afa5e2d3-2260-471c-adc0-83ca1a02a269",
   "metadata": {},
   "outputs": [],
   "source": [
    "from sogaPreprocessor import *\n",
    "from producecfg import *\n",
    "from libSOGA import *\n",
    "from libSOGAsmoother import *\n",
    "\n",
    "torch.set_default_dtype(torch.float64)"
   ]
  },
  {
   "cell_type": "markdown",
   "id": "655a4635",
   "metadata": {},
   "source": [
    "# Old Experiments"
   ]
  },
  {
   "cell_type": "code",
   "execution_count": null,
   "id": "a79b393d",
   "metadata": {},
   "outputs": [
    {
     "ename": "KeyboardInterrupt",
     "evalue": "",
     "output_type": "error",
     "traceback": [
      "\u001b[1;31m---------------------------------------------------------------------------\u001b[0m",
      "\u001b[1;31mKeyboardInterrupt\u001b[0m                         Traceback (most recent call last)",
      "Cell \u001b[1;32mIn[6], line 5\u001b[0m\n\u001b[0;32m      3\u001b[0m compiled \u001b[38;5;241m=\u001b[39m compile2SOGA(file)\n\u001b[0;32m      4\u001b[0m cfg \u001b[38;5;241m=\u001b[39m produce_cfg(compiled)\n\u001b[1;32m----> 5\u001b[0m output \u001b[38;5;241m=\u001b[39m start_SOGA_smooth(cfg)\n\u001b[0;32m      6\u001b[0m \u001b[38;5;28mprint\u001b[39m(output\u001b[38;5;241m.\u001b[39mvar_list)\n\u001b[0;32m      7\u001b[0m \u001b[38;5;28mprint\u001b[39m(output\u001b[38;5;241m.\u001b[39mgm\u001b[38;5;241m.\u001b[39mmean())\n",
      "File \u001b[1;32mc:\\Users\\birik\\github\\SOGA\\src\\libSOGAsmoother.py:235\u001b[0m, in \u001b[0;36mstart_SOGA_smooth\u001b[1;34m(cfg, params_dict, pruning, Kmax, parallel)\u001b[0m\n\u001b[0;32m    233\u001b[0m \u001b[38;5;66;03m# executes SOGA on nodes on exec_queue\u001b[39;00m\n\u001b[0;32m    234\u001b[0m \u001b[38;5;28;01mwhile\u001b[39;00m(\u001b[38;5;28mlen\u001b[39m(exec_queue)\u001b[38;5;241m>\u001b[39m\u001b[38;5;241m0\u001b[39m):\n\u001b[1;32m--> 235\u001b[0m     SOGAsmooth(exec_queue\u001b[38;5;241m.\u001b[39mpop(\u001b[38;5;241m0\u001b[39m), smoothed_vars, data, parallel, exec_queue, params_dict)\n\u001b[0;32m    237\u001b[0m \u001b[38;5;66;03m# returns output distribution\u001b[39;00m\n\u001b[0;32m    238\u001b[0m p, current_dist \u001b[38;5;241m=\u001b[39m merge(cfg\u001b[38;5;241m.\u001b[39mnode_list[\u001b[38;5;124m'\u001b[39m\u001b[38;5;124mexit\u001b[39m\u001b[38;5;124m'\u001b[39m]\u001b[38;5;241m.\u001b[39mlist_dist)\n",
      "File \u001b[1;32mc:\\Users\\birik\\github\\SOGA\\src\\libSOGAsmoother.py:320\u001b[0m, in \u001b[0;36mSOGAsmooth\u001b[1;34m(node, smoothed_vars, data, parallel, exec_queue, params_dict)\u001b[0m\n\u001b[0;32m    318\u001b[0m     updated_dist \u001b[38;5;241m=\u001b[39m update_rule(current_dist, node\u001b[38;5;241m.\u001b[39msmooth, data, params_dict)         \u001b[38;5;66;03m### see libSOGAupdate\u001b[39;00m\n\u001b[0;32m    319\u001b[0m \u001b[38;5;28;01melse\u001b[39;00m:\n\u001b[1;32m--> 320\u001b[0m     updated_dist \u001b[38;5;241m=\u001b[39m update_rule(current_dist, node\u001b[38;5;241m.\u001b[39mexpr, data, params_dict)\n\u001b[0;32m    322\u001b[0m \u001b[38;5;66;03m# smoothing\u001b[39;00m\n\u001b[0;32m    323\u001b[0m smooth_flag \u001b[38;5;241m=\u001b[39m check_dist_non_deg(updated_dist)\n",
      "File \u001b[1;32mc:\\Users\\birik\\github\\SOGA\\src\\libSOGAupdate.py:114\u001b[0m, in \u001b[0;36mupdate_rule\u001b[1;34m(dist, expr, data, params_dict)\u001b[0m\n\u001b[0;32m    112\u001b[0m \u001b[38;5;28;01melse\u001b[39;00m:\n\u001b[0;32m    113\u001b[0m     rule_func \u001b[38;5;241m=\u001b[39m asgmt_parse(dist\u001b[38;5;241m.\u001b[39mvar_list, expr, data, params_dict)    \n\u001b[1;32m--> 114\u001b[0m     \u001b[38;5;28;01mreturn\u001b[39;00m rule_func(dist)\n",
      "\u001b[1;31mKeyboardInterrupt\u001b[0m: "
     ]
    }
   ],
   "source": [
    "#program = 'ClickGraph'\n",
    "#file = '../programs/SOGA/' + program + '.soga'\n",
    "#compiled = compile2SOGA(file)\n",
    "#cfg = produce_cfg(compiled)\n",
    "#output = start_SOGA_smooth(cfg)\n",
    "#print(output.var_list)\n",
    "#print(output.gm.mean())\n",
    "#cfg.node_list"
   ]
  },
  {
   "cell_type": "code",
   "execution_count": 4,
   "id": "845825e8",
   "metadata": {},
   "outputs": [
    {
     "name": "stdout",
     "output_type": "stream",
     "text": [
      "\n",
      "BayesPointMachine| time: 0.06 | mean: tensor([ 0.0112, -0.1202, -0.2778, -4.1395, -2.8643, -4.7677, -2.9070, -2.1989,\n",
      "        -4.8623]) | var_list: ['w[0]', 'w[1]', 'w[2]', 'mean[0]', 'mean[1]', 'mean[2]', 'mean[3]', 'mean[4]', 'mean[5]']\n",
      "\n",
      "Bernoulli| time: 0.17 | mean: tensor([0.2519, 1.0000]) | var_list: ['theta', 'y']\n",
      "\n",
      "Burglar| time: 0.13 | mean: tensor([2.8221e-04, 2.9934e-03, 3.2788e-03, 1.0000e+00, 1.0000e+00, 1.0000e+00]) | var_list: ['earthquake', 'burglary', 'alarm', 'phoneWorking', 'maryWakes', 'called']\n",
      "\n",
      "ClinicalTrial| time: 0.42 | mean: tensor([0.7531, 0.6606, 0.3399, 0.0000, 1.0000]) | var_list: ['isEff', 'probTreated', 'probContr', 'ycontr', 'ytreat']\n",
      "\n",
      "CoinBias| time: 0.11 | mean: tensor([0.4249, 0.0000]) | var_list: ['bias', 'y']\n",
      "\n",
      "Grass| time: 0.29 | mean: tensor([0.5758, 0.7079, 0.4298, 0.7000, 0.4955, 0.9583, 0.9305, 0.6954, 0.4172,\n",
      "        1.0000]) | var_list: ['cloudy', 'rain', 'sprinkler', 'temp1', 'wetRoof', 'temp2', 'temp3', 'or1', 'or2', 'wetGrass']\n",
      "\n",
      "MurderMistery| time: 0.03 | mean: tensor([0.0158, 1.0000]) | var_list: ['aliceDunnit', 'withGun']\n",
      "\n",
      "NoisyOr| time: 0.31 | mean: tensor([0.5000, 0.5000, 0.4500, 0.4500, 0.4500, 0.4500, 0.6975, 0.4150, 0.5882,\n",
      "        0.8144]) | var_list: ['n0', 'n4', 'n1', 'n21', 'n22', 'n33', 'n2', 'n31', 'n32', 'n3']\n",
      "\n",
      "SurveyUnbias| time: 0.11 | mean: tensor([0.7988, 0.5004, 1.0000, 1.0000]) | var_list: ['bias1', 'bias2', 'ansb1', 'ansb2']\n",
      "\n",
      "ThreeCoins| time: 0.02 | mean: tensor([0.7500, 0.7500, 0.7500, 2.2500]) | var_list: ['a', 'b', 'c', 'sum']\n",
      "\n",
      "TrueSkills| time: 0.03 | mean: tensor([104.7132,  97.6099,  97.6769, 115.3178,  92.2321,  92.4501]) | var_list: ['skillA', 'skillB', 'skillC', 'perfA', 'perfB', 'perfC']\n",
      "\n",
      "TwoCoins| time: 0.06 | mean: tensor([0.3333, 0.3333, 0.0000]) | var_list: ['first', 'second', 'both']\n",
      "\n",
      "AQUA/Altermu| time: 0.32 | mean: tensor([-2.5725e+00,  3.3806e-01,  2.7176e+00,  1.0986e+00,  2.8560e+00,\n",
      "        -9.1651e-01,  1.5555e-01, -2.6816e+00,  2.4704e+00,  3.4746e+00,\n",
      "         1.6395e+00, -1.3215e+00,  2.6419e+00,  3.0358e-01, -4.0955e+00,\n",
      "        -1.5071e+00, -9.9518e-01, -2.0649e+00, -2.4032e+00,  3.4638e+00,\n",
      "         9.1174e-01,  1.1822e+00,  4.2357e-02, -5.2815e-01,  1.1555e+00,\n",
      "        -1.6275e+00,  7.1473e-01, -1.0846e+00,  4.6602e+00,  1.2456e+00,\n",
      "        -6.7971e-01,  9.3462e-01,  1.1819e+00, -1.4950e+00,  2.4476e+00,\n",
      "        -2.0642e+00, -4.5841e-02,  1.9340e+00,  1.0769e+00, -9.8379e-02,\n",
      "         0.0000e+00,  0.0000e+00, -1.3789e-03,  3.1164e-01]) | var_list: ['y[0]', 'y[1]', 'y[2]', 'y[3]', 'y[4]', 'y[5]', 'y[6]', 'y[7]', 'y[8]', 'y[9]', 'y[10]', 'y[11]', 'y[12]', 'y[13]', 'y[14]', 'y[15]', 'y[16]', 'y[17]', 'y[18]', 'y[19]', 'y[20]', 'y[21]', 'y[22]', 'y[23]', 'y[24]', 'y[25]', 'y[26]', 'y[27]', 'y[28]', 'y[29]', 'y[30]', 'y[31]', 'y[32]', 'y[33]', 'y[34]', 'y[35]', 'y[36]', 'y[37]', 'y[38]', 'y[39]', 'w1', 'w2', 'w3', 'mean']\n",
      "\n",
      "AQUA/Altermu2| time: 0.29 | mean: tensor([-2.5725,  0.3381,  2.7176,  1.0986,  2.8560, -0.9165,  0.1556, -2.6816,\n",
      "         2.4704,  3.4746,  1.6395, -1.3215,  2.6419,  0.3036, -4.0955, -1.5071,\n",
      "        -0.9952, -2.0649, -2.4032,  3.4638,  0.9117,  1.1822,  0.0424, -0.5282,\n",
      "         1.1555, -1.6275,  0.7147, -1.0846,  4.6602,  1.2456, -0.6797,  0.9346,\n",
      "         1.1819, -1.4950,  2.4476, -2.0642, -0.0458,  1.9340,  1.0769, -0.0984,\n",
      "         0.1556,  0.1556]) | var_list: ['y[0]', 'y[1]', 'y[2]', 'y[3]', 'y[4]', 'y[5]', 'y[6]', 'y[7]', 'y[8]', 'y[9]', 'y[10]', 'y[11]', 'y[12]', 'y[13]', 'y[14]', 'y[15]', 'y[16]', 'y[17]', 'y[18]', 'y[19]', 'y[20]', 'y[21]', 'y[22]', 'y[23]', 'y[24]', 'y[25]', 'y[26]', 'y[27]', 'y[28]', 'y[29]', 'y[30]', 'y[31]', 'y[32]', 'y[33]', 'y[34]', 'y[35]', 'y[36]', 'y[37]', 'y[38]', 'y[39]', 'w1', 'w2']\n",
      "\n",
      "AQUA/RadarQuery| time: 0.87 | mean: tensor([ 1.0000,  1.0000,  5.9404,  5.9404, -1.6596,  0.3319,  0.8333,  5.0000,\n",
      "         4.6127]) | var_list: ['b0', 'b1', 'x0', 'x1', 'x', 'y', 'flip', 'o0', 'o1']\n",
      "\n",
      "AQUA/TimeSeries| time: 0.45 | mean: tensor([-1.6016,  0.6952,  0.4535, -1.0907, -2.4951, -2.0792, -3.3462, -3.2191,\n",
      "        -3.8484, -4.1459, -2.1709, -2.7299, -2.3542, -3.0580, -2.8536, -2.9261,\n",
      "        -2.6771, -2.9773, -4.7511, -3.2940, -4.1163, -4.0809, -3.3474, -3.5929,\n",
      "        -1.7049, -3.5229, -4.1394, -4.0499, -3.7171, -2.6830, -3.2192, -1.7822,\n",
      "        -1.7139, -3.1528, -3.2609, -2.9224, -2.4019, -3.1697, -4.0054, -2.3263,\n",
      "        -1.7483, -1.0572, -3.4454]) | var_list: ['a', 'b', 'lamb', 'y0', 'y1', 'y2', 'y3', 'y4', 'y5', 'y6', 'y7', 'y8', 'y9', 'y10', 'y11', 'y12', 'y13', 'y14', 'y15', 'y16', 'y17', 'y18', 'y19', 'y20', 'y21', 'y22', 'y23', 'y24', 'y25', 'y26', 'y27', 'y28', 'y29', 'y30', 'y31', 'y32', 'y33', 'y34', 'y35', 'y36', 'y37', 'y38', 'y39']\n"
     ]
    }
   ],
   "source": [
    "from sogaPreprocessor import *\n",
    "from producecfg import *\n",
    "from libSOGA import *\n",
    "from libSOGAsmoother import *\n",
    "import time\n",
    "\n",
    "programs = ['BayesPointMachine',   # OK\n",
    "            'Bernoulli',           # OK\n",
    "            'Burglar',             # OK \n",
    "            # 'ClickGraph',          # too many components (> 1 million)\n",
    "            'ClinicalTrial',       # OK \n",
    "            'CoinBias',            # OK \n",
    "            #'DigitRecognition', \n",
    "            'Grass',               # OK \n",
    "            #'IndianGPA',         \n",
    "            'MurderMistery',       # OK\n",
    "            'NoisyOr',             # OK \n",
    "            'SurveyUnbias',        # OK\n",
    "            'ThreeCoins',          # OK \n",
    "            'TrueSkills',          # OK\n",
    "            'TwoCoins',            # OK \n",
    "            'AQUA/Altermu',        # OK\n",
    "            'AQUA/Altermu2',       # OK\n",
    "            #'AQUA/NormalMixturesPrune',\n",
    "            'AQUA/RadarQuery',     # OK\n",
    "            'AQUA/TimeSeries'      # OK\n",
    "            ]\n",
    "\n",
    "for program in programs:\n",
    "    file = '../programs/SOGA/' + program + '.soga'\n",
    "    compiled = compile2SOGA(file)\n",
    "    cfg = produce_cfg(compiled)\n",
    "    start = time.time()\n",
    "    output = start_SOGA_smooth(cfg)\n",
    "    end = time.time()\n",
    "    print()\n",
    "    print(program + '| time: {} | mean: {} | var_list: '.format(np.round(end-start,2), output.gm.mean()) + str(output.var_list))"
   ]
  },
  {
   "cell_type": "code",
   "execution_count": null,
   "id": "000ed266",
   "metadata": {},
   "outputs": [],
   "source": []
  }
 ],
 "metadata": {
  "kernelspec": {
   "display_name": "base",
   "language": "python",
   "name": "python3"
  },
  "language_info": {
   "codemirror_mode": {
    "name": "ipython",
    "version": 3
   },
   "file_extension": ".py",
   "mimetype": "text/x-python",
   "name": "python",
   "nbconvert_exporter": "python",
   "pygments_lexer": "ipython3",
   "version": "3.11.5"
  }
 },
 "nbformat": 4,
 "nbformat_minor": 5
}
