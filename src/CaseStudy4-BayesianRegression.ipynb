{
 "cells": [
  {
   "cell_type": "markdown",
   "metadata": {},
   "source": [
    "# Bayesian Regression\n",
    "\n",
    "(Example from https://pyro.ai/examples/bayesian_regression.html the dataset is not working! So use https://www.kaggle.com/datasets/budincsevity/szeged-weather/data)"
   ]
  },
  {
   "cell_type": "code",
   "execution_count": 1,
   "metadata": {},
   "outputs": [],
   "source": [
    "import torch\n",
    "import numpy as np\n",
    "import pandas as pd\n",
    "import matplotlib.pyplot as plt"
   ]
  },
  {
   "cell_type": "code",
   "execution_count": 2,
   "metadata": {},
   "outputs": [
    {
     "name": "stderr",
     "output_type": "stream",
     "text": [
      "/Users/rominadoz/micromamba/envs/simple_env/lib/python3.12/site-packages/tqdm/auto.py:21: TqdmWarning: IProgress not found. Please update jupyter and ipywidgets. See https://ipywidgets.readthedocs.io/en/stable/user_install.html\n",
      "  from .autonotebook import tqdm as notebook_tqdm\n"
     ]
    }
   ],
   "source": [
    "from sogaPreprocessor import *\n",
    "from producecfg import *\n",
    "from libSOGA import *\n",
    "from time import time\n",
    "\n",
    "torch.set_default_dtype(torch.float64)"
   ]
  },
  {
   "cell_type": "code",
   "execution_count": 35,
   "metadata": {},
   "outputs": [],
   "source": [
    "def optimize(params_dict, loss_function, y, cfg):\n",
    "    optimizer = torch.optim.Adam([params_dict[key] for key in params_dict.keys()], lr=1)\n",
    "\n",
    "    total_start = time()\n",
    "\n",
    "    for i in range(500):\n",
    "\n",
    "        optimizer.zero_grad()  # Reset gradients\n",
    "        \n",
    "        # loss\n",
    "        current_dist = start_SOGA(cfg, params_dict)\n",
    "\n",
    "        loss = loss_function(y, current_dist)\n",
    "\n",
    "        # Backpropagate\n",
    "        loss.backward(retain_graph=True)\n",
    "        \n",
    "        optimizer.step()\n",
    "\n",
    "        # Print progress\n",
    "        if i % 10 == 0:\n",
    "            out = ''\n",
    "            for key in params_dict.keys():\n",
    "                out = out + key + ': ' + str(params_dict[key].item()) + ' '\n",
    "            out = out + f\" loss: {loss.item()}\"\n",
    "            print(out)\n",
    "\n",
    "    total_end = time()\n",
    "\n",
    "    print('Optimization performed in ', round(total_end-total_start, 3))"
   ]
  },
  {
   "cell_type": "markdown",
   "metadata": {},
   "source": [
    "### Linear regression (not Bayesian)\n",
    "\n",
    "We are given a dataset $D = {(X_i, y_i)}$.\n",
    "\n",
    "The goal of linear regression is to fit a function of the form: $$y = wX+b+\\epsilon$$\n",
    "\n",
    "where $w$ and $b$ are learnable parameters and $\\epsilon$ observation noise."
   ]
  },
  {
   "cell_type": "code",
   "execution_count": 36,
   "metadata": {},
   "outputs": [
    {
     "data": {
      "text/plain": [
       "Text(0.5, 1.0, 'Humidity vs Apparent Temperature')"
      ]
     },
     "execution_count": 36,
     "metadata": {},
     "output_type": "execute_result"
    },
    {
     "data": {
      "image/png": "[encoded data removed]",
      "text/plain": [
       "<Figure size 640x480 with 1 Axes>"
      ]
     },
     "metadata": {},
     "output_type": "display_data"
    }
   ],
   "source": [
    "'''\n",
    "Import the dataset\n",
    "'''\n",
    "\n",
    "weatherHistory = pd.read_csv('https://raw.githubusercontent.com/DavideScassola/PML2024/main/Notebooks/data/weatherHistory.csv')\n",
    "#Let's reduce the size of the dataset by considering one row for each day (corresponding to 16:00), only in 2015\n",
    "#Training: April, Test: May\n",
    "weatherHistory['Formatted Date'] = pd.to_datetime(weatherHistory['Formatted Date'], utc=True)\n",
    "data = weatherHistory[((weatherHistory['Formatted Date'].dt.hour == 16) & (weatherHistory['Formatted Date'].dt.year == 2014) & (weatherHistory['Formatted Date'].dt.month == 4))].reset_index(drop=True)\n",
    "data_test = weatherHistory[((weatherHistory['Formatted Date'].dt.hour == 16) & (weatherHistory['Formatted Date'].dt.year == 2014) & (weatherHistory['Formatted Date'].dt.month == 5))].reset_index(drop=True)\n",
    "\n",
    "plt.scatter(data[\"Humidity\"], data[\"Apparent Temperature (C)\"], label = \"train\")\n",
    "plt.scatter(data_test[\"Humidity\"], data_test[\"Apparent Temperature (C)\"],label = \"test\")\n",
    "plt.legend()\n",
    "plt.xlabel(\"Humidity\")\n",
    "plt.ylabel(\"Apparent Temperature (C)\")\n",
    "plt.title(\"Humidity vs Apparent Temperature\")"
   ]
  },
  {
   "cell_type": "code",
   "execution_count": 41,
   "metadata": {},
   "outputs": [
    {
     "name": "stdout",
     "output_type": "stream",
     "text": [
      "tensor([0.4300, 0.7100, 0.5100, 0.4700, 0.3700, 0.7500, 0.3900, 0.5500, 0.7600,\n",
      "        0.6700, 0.7000, 0.4000, 0.7200, 0.4600, 0.6800, 0.6100, 0.9200, 0.7800,\n",
      "        0.6000, 0.3100, 0.3900, 0.7400, 0.4000, 0.7300, 0.3400, 0.7700, 0.5900,\n",
      "        0.5700, 0.4100, 0.3500])\n"
     ]
    }
   ],
   "source": [
    "X = torch.tensor(data[\"Humidity\"].to_numpy())\n",
    "y = torch.tensor(data[\"Apparent Temperature (C)\"].to_numpy())\n",
    "\n",
    "print(X)\n"
   ]
  },
  {
   "cell_type": "code",
   "execution_count": 49,
   "metadata": {},
   "outputs": [],
   "source": [
    "compiledFile=compile2SOGA('../programs/SOGA/Optimization/Case Studies/linear_regression.soga')\n",
    "cfg = produce_cfg(compiledFile)\n",
    "\n",
    "pars = {'w':-5., 'b':10.}\n",
    "\n",
    "params_dict = {}\n",
    "for key, value in pars.items():\n",
    "    params_dict[key] = torch.tensor(value, requires_grad=True)    \n",
    "\n",
    "output_dist = start_SOGA(cfg, params_dict)"
   ]
  },
  {
   "cell_type": "code",
   "execution_count": 50,
   "metadata": {},
   "outputs": [],
   "source": [
    "def mean_squared_error(y_true, dist):\n",
    "    return torch.mean((y_true - dist.gm.mean()) ** 2)"
   ]
  },
  {
   "cell_type": "code",
   "execution_count": 51,
   "metadata": {},
   "outputs": [
    {
     "name": "stdout",
     "output_type": "stream",
     "text": [
      "w: -4.000000000974376 b: 10.999999999453816  loss: 95.59987242798351\n",
      "w: 2.6807782615537192 b: 18.01372039209362  loss: 23.25461781642349\n",
      "w: -0.3248466771068405 b: 16.004087311427135  loss: 13.305686189044518\n",
      "w: -1.3774024210819997 b: 16.07902834494114  loss: 14.334811983088908\n",
      "w: -1.0450004937940147 b: 17.603598198061388  loss: 13.436251546325302\n",
      "w: -2.613557479239252 b: 17.27286655730318  loss: 12.58445689307931\n",
      "w: -3.003794007133701 b: 18.08454309448731  loss: 12.233726928935871\n",
      "w: -3.8389723031055287 b: 18.39572699796175  loss: 12.045087391030117\n",
      "w: -4.499507146076728 b: 18.793621904490948  loss: 11.903465819158436\n",
      "w: -5.0782225967636725 b: 19.170165075428944  loss: 11.794703375599289\n",
      "w: -5.634278143352663 b: 19.458496464578474  loss: 11.71516047532265\n",
      "w: -6.077958901227513 b: 19.74571207574609  loss: 11.659375315775522\n",
      "w: -6.479529650652698 b: 19.965566658398078  loss: 11.621577420812212\n",
      "w: -6.801471856974662 b: 20.162174256150177  loss: 11.596771417845302\n",
      "w: -7.0711655169456105 b: 20.317815548841736  loss: 11.58099649693897\n",
      "w: -7.287346688445079 b: 20.444479988578237  loss: 11.571277554197938\n",
      "w: -7.457647753854085 b: 20.545837547643504  loss: 11.565478772282423\n",
      "w: -7.59207817889545 b: 20.623025301135854  loss: 11.562130129293896\n",
      "w: -7.693260793331413 b: 20.683830756953302  loss: 11.560260031605955\n",
      "w: -7.770666423056773 b: 20.72828590360435  loss: 11.55925111576935\n",
      "w: -7.827078126178503 b: 20.76189187209174  loss: 11.558726005117888\n",
      "w: -7.868319321321171 b: 20.78592752468415  loss: 11.558462770496316\n",
      "w: -7.897589791343244 b: 20.803079602975163  loss: 11.558335922280756\n",
      "w: -7.917921805717869 b: 20.81509380799405  loss: 11.558277306471128\n",
      "w: -7.931864430077781 b: 20.823206221822407  loss: 11.558251416485264\n",
      "w: -7.9411025544907075 b: 20.828657432945104  loss: 11.558240533323461\n",
      "w: -7.947113179269868 b: 20.83218378244871  loss: 11.558236204198584\n",
      "w: -7.95091231957281 b: 20.83440258788415  loss: 11.558234587115331\n",
      "w: -7.95322375925066 b: 20.835767038039833  loss: 11.558234026117608\n",
      "w: -7.954587048137497 b: 20.83656494560082  loss: 11.558233848430849\n",
      "w: -7.955352023947458 b: 20.83701230723534  loss: 11.558233798496174\n",
      "w: -7.955754035633824 b: 20.83724987509408  loss: 11.558233786707431\n",
      "w: -7.955949028009185 b: 20.837363855010583  loss: 11.558233784667987\n",
      "w: -7.956030324147061 b: 20.837411206982573  loss: 11.558233784539896\n",
      "w: -7.9560538828270655 b: 20.837425358465065  loss: 11.558233784589538\n",
      "w: -7.956052133736947 b: 20.837424306940566  loss: 11.55823378458913\n",
      "w: -7.956041604812315 b: 20.8374180249389  loss: 11.558233784566081\n",
      "w: -7.956030052865864 b: 20.83741129309267  loss: 11.55823378454672\n",
      "w: -7.956020674616197 b: 20.837405810949736  loss: 11.55823378453631\n",
      "w: -7.956014158285736 b: 20.8374019652679  loss: 11.558233784532037\n",
      "w: -7.956010107400793 b: 20.837399586305764  loss: 11.558233784530655\n",
      "w: -7.956007860447874 b: 20.837398275777733  loss: 11.558233784530323\n",
      "w: -7.956006785761258 b: 20.837397644603836  loss: 11.558233784530275\n",
      "w: -7.956006382754247 b: 20.837397405463715  loss: 11.558233784530275\n",
      "w: -7.956006314324251 b: 20.837397365699214  loss: 11.558233784530277\n",
      "w: -7.9560063825641825 b: 20.83739740663685  loss: 11.558233784530277\n",
      "w: -7.956006483639268 b: 20.837397465818714  loss: 11.558233784530275\n",
      "w: -7.956006571256395 b: 20.83739751692093  loss: 11.558233784530275\n",
      "w: -7.956006631790002 b: 20.8373975524587  loss: 11.55823378453027\n",
      "w: -7.9560066671994045 b: 20.83739757334375  loss: 11.558233784530273\n",
      "Optimization performed in  13.916\n"
     ]
    }
   ],
   "source": [
    "optimize(params_dict, mean_squared_error, y, cfg)"
   ]
  }
 ],
 "metadata": {
  "kernelspec": {
   "display_name": "simple_env",
   "language": "python",
   "name": "python3"
  },
  "language_info": {
   "codemirror_mode": {
    "name": "ipython",
    "version": 3
   },
   "file_extension": ".py",
   "mimetype": "text/x-python",
   "name": "python",
   "nbconvert_exporter": "python",
   "pygments_lexer": "ipython3",
   "version": "3.12.9"
  }
 },
 "nbformat": 4,
 "nbformat_minor": 2
}
