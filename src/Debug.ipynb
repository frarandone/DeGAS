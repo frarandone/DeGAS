{
 "cells": [
  {
   "cell_type": "code",
   "execution_count": 1,
   "metadata": {},
   "outputs": [],
   "source": [
    "from sogaPreprocessor import *\n",
    "from producecfg import *\n",
    "from smoothcfg import *\n",
    "from libSOGA import *"
   ]
  },
  {
   "cell_type": "code",
   "execution_count": 2,
   "metadata": {},
   "outputs": [
    {
     "data": {
      "text/plain": [
       "Dist<['x'],pi: tensor([[0.1000],\n",
       "        [0.1000],\n",
       "        [0.8000]])\n",
       "mu: tensor([[1.],\n",
       "        [1.],\n",
       "        [2.]])\n",
       "sigma: tensor([[[1.]],\n",
       "\n",
       "        [[1.]],\n",
       "\n",
       "        [[1.]]])>"
      ]
     },
     "execution_count": 2,
     "metadata": {},
     "output_type": "execute_result"
    }
   ],
   "source": [
    "compiledFile=compile2SOGA_text('x = gm([0.1, 0.1, 0.8], [1., 1., 2.], [1., 1., 1.]); ')\n",
    "cfg = produce_cfg_text(compiledFile)\n",
    "smooth_cfg(cfg)\n",
    "\n",
    "params_dict = {}\n",
    "\n",
    "output_dist = start_SOGA(cfg, params_dict)\n",
    "output_dist"
   ]
  },
  {
   "cell_type": "code",
   "execution_count": 3,
   "metadata": {},
   "outputs": [
    {
     "name": "stdout",
     "output_type": "stream",
     "text": [
      "Pruning Dist<['x'],pi: tensor([[0.1000],\n",
      "        [0.1000],\n",
      "        [0.8000]])\n",
      "mu: tensor([[1.],\n",
      "        [1.],\n",
      "        [2.]])\n",
      "sigma: tensor([[[1.]],\n",
      "\n",
      "        [[1.]],\n",
      "\n",
      "        [[1.]]])>  with  classic  Kmax= 2\n"
     ]
    },
    {
     "data": {
      "text/plain": [
       "Dist<['x'],pi: tensor([[0.8000],\n",
       "        [0.2000]])\n",
       "mu: tensor([[2.],\n",
       "        [1.]])\n",
       "sigma: tensor([[[1.]],\n",
       "\n",
       "        [[1.]]])>"
      ]
     },
     "execution_count": 3,
     "metadata": {},
     "output_type": "execute_result"
    }
   ],
   "source": [
    "compiledFile=compile2SOGA_text('x = gm([0.1, 0.1, 0.8], [1., 1., 2.], [1., 1., 1.]); prune(2);')\n",
    "cfg = produce_cfg_text(compiledFile)\n",
    "smooth_cfg(cfg)\n",
    "\n",
    "params_dict = {}\n",
    "\n",
    "output_dist = start_SOGA(cfg, params_dict)\n",
    "output_dist"
   ]
  },
  {
   "cell_type": "code",
   "execution_count": 4,
   "metadata": {},
   "outputs": [
    {
     "data": {
      "text/plain": [
       "Dist<['x', 'y'],pi: tensor([[0.8000],\n",
       "        [0.2000]])\n",
       "mu: tensor([[1., 1.],\n",
       "        [0., 2.]])\n",
       "sigma: tensor([[[1.0000, 0.0000],\n",
       "         [0.0000, 1.0000]],\n",
       "\n",
       "        [[1.0100, 0.0000],\n",
       "         [0.0000, 1.0000]]])>"
      ]
     },
     "execution_count": 4,
     "metadata": {},
     "output_type": "execute_result"
    }
   ],
   "source": [
    "dist = Dist(['x', 'y'], GaussianMix(torch.tensor([[0.1], [0.1], [0.8]]), torch.tensor([[-0.1, 2.], [0.1, 2.], [1., 1.]]), torch.stack([torch.eye(2), torch.eye(2), torch.eye(2)])))\n",
    "\n",
    "classic_prune(dist, 2)"
   ]
  },
  {
   "cell_type": "code",
   "execution_count": null,
   "metadata": {},
   "outputs": [],
   "source": []
  }
 ],
 "metadata": {
  "kernelspec": {
   "display_name": "base",
   "language": "python",
   "name": "python3"
  },
  "language_info": {
   "codemirror_mode": {
    "name": "ipython",
    "version": 3
   },
   "file_extension": ".py",
   "mimetype": "text/x-python",
   "name": "python",
   "nbconvert_exporter": "python",
   "pygments_lexer": "ipython3",
   "version": "3.11.5"
  }
 },
 "nbformat": 4,
 "nbformat_minor": 2
}
