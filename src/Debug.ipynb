{
 "cells": [
  {
   "cell_type": "code",
   "execution_count": 1,
   "metadata": {},
   "outputs": [],
   "source": [
    "from sogaPreprocessor import *\n",
    "from producecfg import *\n",
    "from smoothcfg import *"
   ]
  },
  {
   "cell_type": "code",
   "execution_count": 2,
   "metadata": {},
   "outputs": [],
   "source": [
    "compiledFile=compile2SOGA_text('x = gm([0.5, 0.5], [0., 1.], [0., 0.]); y = x + gm([1.], [0.], [1.]);')\n",
    "cfg = produce_cfg_text(compiledFile)\n",
    "\n",
    "params_dict = {'alpha': 1.}\n",
    "\n",
    "start_smoother(cfg, params_dict)"
   ]
  },
  {
   "cell_type": "code",
   "execution_count": 3,
   "metadata": {},
   "outputs": [
    {
     "data": {
      "text/plain": [
       "{'entry': EntryNode<>,\n",
       " 'state0': StateNode<state0,None,x=gm([0.5,0.5],[0.,1.],[0.,0.]),smoothed:x=gm([0.5,0.5], [0.,1.], [0.0010000000, 0.0010000000])>,\n",
       " 'state1': StateNode<state1,None,y=x+gm([1.],[0.],[1.])>,\n",
       " 'exit': ExitNode<>}"
      ]
     },
     "execution_count": 3,
     "metadata": {},
     "output_type": "execute_result"
    }
   ],
   "source": [
    "cfg.node_list"
   ]
  },
  {
   "cell_type": "code",
   "execution_count": 4,
   "metadata": {},
   "outputs": [
    {
     "data": {
      "text/plain": [
       "['x']"
      ]
     },
     "execution_count": 4,
     "metadata": {},
     "output_type": "execute_result"
    }
   ],
   "source": [
    "cfg.smoothed_vars"
   ]
  },
  {
   "cell_type": "code",
   "execution_count": null,
   "metadata": {},
   "outputs": [],
   "source": []
  }
 ],
 "metadata": {
  "kernelspec": {
   "display_name": "base",
   "language": "python",
   "name": "python3"
  },
  "language_info": {
   "codemirror_mode": {
    "name": "ipython",
    "version": 3
   },
   "file_extension": ".py",
   "mimetype": "text/x-python",
   "name": "python",
   "nbconvert_exporter": "python",
   "pygments_lexer": "ipython3",
   "version": "3.11.5"
  }
 },
 "nbformat": 4,
 "nbformat_minor": 2
}
