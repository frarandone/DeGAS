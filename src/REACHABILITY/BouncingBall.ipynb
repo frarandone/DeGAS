{
 "cells": [
  {
   "cell_type": "markdown",
   "id": "62653f5c-f99e-425b-81b6-ede28e55cab4",
   "metadata": {},
   "source": [
    "# Controlled Bouncing Ball\n",
    "\n",
    "Example taken from: ProbReach paper\n",
    "\n",
    "```\n",
    "mass R = ?, C = ?, H = ?\n",
    "\n",
    "repeat {\n",
    "    if H<= 0 {\n",
    "        mode = 1\n",
    "    }\n",
    "    else {\n",
    "        mode = -1\n",
    "    }\n",
    "}\n",
    "```\n",
    "\n",
    "Height and velocity evolve according to:\n",
    "$$ \\frac{d \\textit{H}}{dt} = \\begin{cases} v & \\text{if mode = -1} \\\\\n",
    "                                             v & \\text{if mode = 1}  \\end{cases} $$\n",
    "\n",
    "$$ \\frac{d \\textit{v}}{dt} = \\begin{cases} -g & \\text{if mode = -1} \\\\\n",
    "                                              - g - \\frac{Rv + \\frac{H}{C}}{m} & \\text{if mode = 1}  \\end{cases} $$\n",
    "\n",
    "\n",
    "We try to synthesize R and H/C in order to maximize the probability that the ball reaches H >=7 in mode 1 after making one bounce"
   ]
  },
  {
   "cell_type": "markdown",
   "id": "db9594f3",
   "metadata": {},
   "source": [
    "## SOGA"
   ]
  },
  {
   "cell_type": "code",
   "execution_count": 1,
   "id": "0ae5d37d",
   "metadata": {},
   "outputs": [
    {
     "name": "stdout",
     "output_type": "stream",
     "text": [
      "['/home/romina/PhD/DEGAS/DeGAS/src/REACHABILITY', '/home/romina/anaconda3/lib/python39.zip', '/home/romina/anaconda3/lib/python3.9', '/home/romina/anaconda3/lib/python3.9/lib-dynload', '', '/home/romina/anaconda3/lib/python3.9/site-packages', '/home/romina/anaconda3/lib/python3.9/site-packages/IPython/extensions', '/home/romina/.ipython', '/home/romina/PhD/DEGAS/DeGAS/src']\n"
     ]
    }
   ],
   "source": [
    "import sys, os\n",
    "sys.path.append(os.path.abspath(os.path.join('..')))\n",
    "print(sys.path)\n",
    "\n",
    "from sogaPreprocessor import *\n",
    "from producecfg import *\n",
    "from smoothcfg import *\n",
    "from libSOGA import *\n",
    "from time import time\n",
    "import matplotlib.pyplot as plt\n",
    "import numpy as np\n",
    "import torch"
   ]
  },
  {
   "cell_type": "code",
   "execution_count": null,
   "id": "5bc41399",
   "metadata": {},
   "outputs": [
    {
     "ename": "",
     "evalue": "",
     "output_type": "error",
     "traceback": [
      "\u001b[1;31mThe Kernel crashed while executing code in the current cell or a previous cell. \n",
      "\u001b[1;31mPlease review the code in the cell(s) to identify a possible cause of the failure. \n",
      "\u001b[1;31mClick <a href='https://aka.ms/vscodeJupyterKernelCrash'>here</a> for more info. \n",
      "\u001b[1;31mView Jupyter <a href='command:jupyter.viewOutput'>log</a> for further details."
     ]
    }
   ],
   "source": [
    "from optimization import *\n",
    "torch.set_default_dtype(torch.float64)"
   ]
  },
  {
   "cell_type": "code",
   "execution_count": null,
   "id": "eaf8f752",
   "metadata": {},
   "outputs": [],
   "source": [
    "soga_code = \"\"\"\n",
    "array[36] H;\n",
    "array[36] V;\n",
    "array[36] M; \n",
    "\n",
    "/* Initial state */\n",
    "currH = gauss(9., 1.);   \n",
    "mode = -1.;\n",
    "currV = 0.;                 \n",
    "\n",
    "dt = 0.03;            \n",
    "\n",
    "for i in range(35) {\n",
    "\n",
    "    /* Save current state */\n",
    "    H[i] = currH;\n",
    "    M[i] = mode;\n",
    "    V[i] = currV;\n",
    "\n",
    "    /* Continuous dynamics */\n",
    "\n",
    "    temp = currV * dt;\n",
    "    newH = currH + temp + gauss(0., 0.1);\n",
    "\n",
    "    if mode < 0 {\n",
    "        /* falling down */\n",
    "        temp = -9.8 * dt;\n",
    "        newV = currV + temp + gauss(0., 0.1);\n",
    "    } else {\n",
    "        /* going up */\n",
    "        temp = -9.8 * dt;\n",
    "\n",
    "        spring = _R*currV;\n",
    "        temp2 = _C*currH;\n",
    "        spring = spring + temp2;\n",
    "        spring = spring * dt; \n",
    "        spring = 0.14 * spring; \n",
    "        newV = currV + temp - spring + gauss(0., 0.1);\n",
    "\n",
    "    } end if;\n",
    "\n",
    "    currH = newH;\n",
    "    currV = newV;\n",
    "\n",
    "    /* Mode switching */\n",
    "    if mode < 0 {\n",
    "        if currH <= 0. {\n",
    "            mode = 1;\n",
    "        } else {\n",
    "            skip;\n",
    "        } end if;\n",
    "    } else {\n",
    "        if currT > 0. {\n",
    "            mode = -1;\n",
    "        } else {\n",
    "            skip;\n",
    "        } end if;\n",
    "    } end if;\n",
    "\n",
    "} end for;\n",
    "\n",
    "/* Save final state */\n",
    "H[35] = currH;\n",
    "M[35] = mode;\n",
    "V[35] = currV;\n",
    "\n",
    "\"\"\"\n",
    "\n",
    "compiledFile = compile2SOGA_text(soga_code)\n",
    "cfg = produce_cfg_text(compiledFile)\n",
    "smooth_cfg(cfg)\n",
    "\n",
    "# initialize parameters\n",
    "params = {'R':  5., 'C':400.}\n",
    "params_dict = initialize_params(params)  \n",
    "\n",
    "# computes SOGA output\n",
    "output_dist = start_SOGA(cfg, params_dict)\n",
    "\n",
    "#plot\n",
    "y_init = output_dist.gm.mean()[:35].detach()\n",
    "plt.plot(range(35), y_init, lw=3, label='SOGA w true params')\n",
    "\n",
    "v_init = output_dist.gm.mean()[36:70].detach()\n",
    "plt.plot(range(36, 70, 1), v_init, lw=3, label='SOGA w true params')\n",
    "# Points to which the lines should be drawn\n",
    "#points = [(6, 20), (18, 20), (24, 20)]\n",
    "\n",
    "# Plot the points on the graph\n",
    "#for point in points:\n",
    "    #plt.plot(point[0], point[1], 'ro')  # Red dot at each point\n",
    "#plot_traj_set(orig_traj, single_traj=10, color='red', label='orig')"
   ]
  }
 ],
 "metadata": {
  "kernelspec": {
   "display_name": "base",
   "language": "python",
   "name": "python3"
  },
  "language_info": {
   "codemirror_mode": {
    "name": "ipython",
    "version": 3
   },
   "file_extension": ".py",
   "mimetype": "text/x-python",
   "name": "python",
   "nbconvert_exporter": "python",
   "pygments_lexer": "ipython3",
   "version": "3.9.15"
  }
 },
 "nbformat": 4,
 "nbformat_minor": 5
}
