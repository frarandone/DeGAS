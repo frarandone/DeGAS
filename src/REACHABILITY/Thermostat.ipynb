{
 "cells": [
  {
   "cell_type": "markdown",
   "id": "62653f5c-f99e-425b-81b6-ede28e55cab4",
   "metadata": {},
   "source": [
    "# Thermostat\n",
    "\n",
    "Example taken from: https://arxiv.org/pdf/1410.8060\n",
    "\n",
    "```\n",
    "tOff = ?, tOn = ?\n",
    "\n",
    "repeat {\n",
    "    temp = readTemp()\n",
    "    if isOn() and temp > tOff {\n",
    "        isOn = False\n",
    "    }\n",
    "    else if not isOn() and temp < tOn {\n",
    "        isOn = True\n",
    "    }\n",
    "}\n",
    "```\n",
    "\n",
    "Temperature evolves according to:\n",
    "$$ \\frac{d \\textit{temp}}{dt} = \\begin{cases} - \\textit{temp} + 30 \\, (+ \\text{gauss}(0, \\epsilon)) & \\text{if isON} \\\\\n",
    "                                              - \\textit{temp} \\, (+ \\text{gauss}(0, \\epsilon)) & \\text{is not isOn}  \\end{cases} $$\n",
    "\n",
    "I generate temperature trajectories for $tOn =, tOff=, k=, h=, \\epsilon=$ and try to synthesize $tOn, tOff$ using as loss the log-likelihood over trajectories."
   ]
  },
  {
   "cell_type": "markdown",
   "id": "db9594f3",
   "metadata": {},
   "source": [
    "## SOGA"
   ]
  },
  {
   "cell_type": "code",
   "execution_count": 1,
   "id": "0ae5d37d",
   "metadata": {},
   "outputs": [
    {
     "name": "stdout",
     "output_type": "stream",
     "text": [
      "['/home/romina/PhD/DEGAS/DeGAS/src/REACHABILITY', '/home/romina/anaconda3/lib/python39.zip', '/home/romina/anaconda3/lib/python3.9', '/home/romina/anaconda3/lib/python3.9/lib-dynload', '', '/home/romina/anaconda3/lib/python3.9/site-packages', '/home/romina/anaconda3/lib/python3.9/site-packages/IPython/extensions', '/home/romina/.ipython', '/home/romina/PhD/DEGAS/DeGAS/src']\n"
     ]
    }
   ],
   "source": [
    "import sys, os\n",
    "sys.path.append(os.path.abspath(os.path.join('..')))\n",
    "print(sys.path)\n",
    "\n",
    "from sogaPreprocessor import *\n",
    "from producecfg import *\n",
    "from smoothcfg import *\n",
    "from libSOGA import *\n",
    "from time import time\n",
    "import matplotlib.pyplot as plt\n",
    "import numpy as np\n",
    "import torch"
   ]
  },
  {
   "cell_type": "code",
   "execution_count": 2,
   "id": "5bc41399",
   "metadata": {},
   "outputs": [],
   "source": [
    "from optimization import *\n",
    "torch.set_default_dtype(torch.float64)"
   ]
  },
  {
   "cell_type": "code",
   "execution_count": 3,
   "id": "eaf8f752",
   "metadata": {},
   "outputs": [
    {
     "data": {
      "image/png": "[encoded data removed]",
      "text/plain": [
       "<Figure size 640x480 with 1 Axes>"
      ]
     },
     "metadata": {},
     "output_type": "display_data"
    }
   ],
   "source": [
    "# this is to check that for the correct value of the parameter, the loss is negative and the mean produced by SOGA is almost exactly the true mean\n",
    "orig_params = {'T': 25,   # time steps\n",
    "               'init_T': 16.,  # initial temperature\n",
    "               'tOn': 17,      # turn-on temperature\n",
    "               'tOff': 20}     # turn-off temperature\n",
    "\n",
    "soga_code = \"\"\"\n",
    "array[26] T;\n",
    "array[26] M; \n",
    "\n",
    "/* Initial state */\n",
    "currT = gauss(30., 1.);   \n",
    "isOn = 1;                 \n",
    "\n",
    "dt = 0.1;            \n",
    "\n",
    "for i in range(25) {\n",
    "\n",
    "    /* Save current state */\n",
    "    T[i] = currT;\n",
    "    M[i] = isOn;\n",
    "\n",
    "    /* Continuous dynamics */\n",
    "    if isOn > 0 {\n",
    "        /* Cooling: dT/dt = -T */\n",
    "        temp = currT * dt;\n",
    "        newT = currT - temp + gauss(0., 0.1);\n",
    "    } else {\n",
    "        /* Heating: dT/dt = -(T-30) */\n",
    "        temp = currT * dt;\n",
    "        newT = currT - temp ;\n",
    "        temp = 30. * dt;\n",
    "        newT = newT + temp + gauss(0., 0.1);\n",
    "    } end if;\n",
    "\n",
    "    currT = newT;\n",
    "\n",
    "    /* Mode switching */\n",
    "    if isOn > 0 {\n",
    "        if currT < _tOff {\n",
    "            isOn = -1;\n",
    "        } else {\n",
    "            skip;\n",
    "        } end if;\n",
    "    } else {\n",
    "        if currT >= _tOn {\n",
    "            isOn = 1;\n",
    "        } else {\n",
    "            skip;\n",
    "        } end if;\n",
    "    } end if;\n",
    "\n",
    "} end for;\n",
    "\n",
    "/* Save final state */\n",
    "T[25] = currT;\n",
    "M[25] = isOn;\n",
    "\n",
    "\"\"\"\n",
    "\n",
    "compiledFile = compile2SOGA_text(soga_code)\n",
    "cfg = produce_cfg_text(compiledFile)\n",
    "smooth_cfg(cfg)\n",
    "\n",
    "# initialize parameters\n",
    "T = orig_params['T']\n",
    "init_T = orig_params['init_T']\n",
    "params = {'tOff':  17., 'tOn':22.}\n",
    "params_dict = initialize_params(params)  \n",
    "\n",
    "# computes SOGA output\n",
    "output_dist = start_SOGA(cfg, params_dict)\n",
    "\n",
    "#plot\n",
    "y_init = output_dist.gm.mean()[:T].detach()\n",
    "plt.plot(range(T), y_init, lw=3, label='SOGA w true params')\n",
    "# Points to which the lines should be drawn\n",
    "points = [(6, 20), (18, 20), (24, 20)]\n",
    "\n",
    "# Plot the points on the graph\n",
    "for point in points:\n",
    "    plt.plot(point[0], point[1], 'ro')  # Red dot at each point\n",
    "#plot_traj_set(orig_traj, single_traj=10, color='red', label='orig')"
   ]
  },
  {
   "cell_type": "code",
   "execution_count": 4,
   "id": "3ded22a0",
   "metadata": {},
   "outputs": [
    {
     "data": {
      "text/plain": [
       "tensor([[191.6798]], grad_fn=<MmBackward0>)"
      ]
     },
     "execution_count": 4,
     "metadata": {},
     "output_type": "execute_result"
    }
   ],
   "source": [
    "output_dist.gm.marg_pdf(torch.tensor(1.).unsqueeze(0), idx = 40)"
   ]
  },
  {
   "cell_type": "code",
   "execution_count": 5,
   "id": "f90e8144",
   "metadata": {},
   "outputs": [
    {
     "data": {
      "text/plain": [
       "tensor([ 1.0000,  1.0000,  1.0000,  1.0000,  0.9999,  0.7496, -0.9529, -1.0000,\n",
       "        -1.0000, -0.9995, -0.8156, -0.3585,  0.9238,  0.8101,  0.3590, -0.9187,\n",
       "        -0.9941, -0.9998, -0.9470, -0.6878,  0.2045,  0.8956,  0.6847, -0.2031,\n",
       "        -0.9440], grad_fn=<SliceBackward0>)"
      ]
     },
     "execution_count": 5,
     "metadata": {},
     "output_type": "execute_result"
    }
   ],
   "source": [
    "output_dist.gm.mean()[26:51]"
   ]
  },
  {
   "cell_type": "code",
   "execution_count": 6,
   "id": "e8a7f772",
   "metadata": {},
   "outputs": [
    {
     "name": "stdout",
     "output_type": "stream",
     "text": [
      "tensor([[246.7708]], grad_fn=<MmBackward0>)\n"
     ]
    }
   ],
   "source": [
    "print(output_dist.gm.marg_pdf(torch.tensor(1.).unsqueeze(0), idx = int(np.round(0.6/0.1))+25))"
   ]
  },
  {
   "cell_type": "code",
   "execution_count": 7,
   "id": "60baa242",
   "metadata": {},
   "outputs": [
    {
     "name": "stdout",
     "output_type": "stream",
     "text": [
      "6\n",
      "18\n",
      "24\n"
     ]
    }
   ],
   "source": [
    "dt = 0.1\n",
    "time_index_1 = int(np.round(0.6/dt))\n",
    "print(time_index_1)\n",
    "time_index_2 = int(np.round(1.8/dt))\n",
    "print(time_index_2)\n",
    "time_index_3 = int(np.round(2.4/dt))\n",
    "print(time_index_3)\n"
   ]
  },
  {
   "cell_type": "code",
   "execution_count": 8,
   "id": "e0f8347f",
   "metadata": {},
   "outputs": [
    {
     "name": "stdout",
     "output_type": "stream",
     "text": [
      "tensor([[-0.0001]], grad_fn=<NegBackward0>)\n"
     ]
    }
   ],
   "source": [
    "T_idx = [i for i in range(output_dist.gm.n_dim()) if 'T[' in output_dist.var_list[i]]\n",
    "M_idx = [i for i in range(output_dist.gm.n_dim()) if 'M[' in output_dist.var_list[i]]\n",
    "\n",
    "loss = lambda dist : -((dist.gm.marg_cdf(torch.tensor([20.1]), idx=int(np.round(0.6/dt))) - dist.gm.marg_cdf(torch.tensor([19.9]), idx=int(np.round(0.6/dt))))*dist.gm.marg_pdf(torch.tensor(-1.).unsqueeze(-1), idx = int(np.round(0.6/dt))+25).squeeze()\n",
    "                       *(dist.gm.marg_cdf(torch.tensor([20.1]), idx=int(np.round(1.8/dt))) - dist.gm.marg_cdf(torch.tensor([19.9]), idx=int(np.round(1.8/dt))))*dist.gm.marg_pdf(torch.tensor(-1.).unsqueeze(-1), idx = int(np.round(1.8/dt))+25).squeeze()\n",
    "                       *(dist.gm.marg_cdf(torch.tensor([20.1]), idx=int(np.round(2.4/dt))) - dist.gm.marg_cdf(torch.tensor([19.9]), idx=int(np.round(2.4/dt))))*dist.gm.marg_pdf(torch.tensor(-1.).unsqueeze(-1), idx = int(np.round(2.4/dt))+25).squeeze())\n",
    "print(loss(output_dist))\n"
   ]
  },
  {
   "cell_type": "code",
   "execution_count": 9,
   "id": "41b35280",
   "metadata": {},
   "outputs": [
    {
     "name": "stderr",
     "output_type": "stream",
     "text": [
      "/home/romina/anaconda3/lib/python3.9/site-packages/torch/autograd/graph.py:829: UserWarning: CUDA initialization: The NVIDIA driver on your system is too old (found version 11040). Please update your GPU driver by downloading and installing a new version from the URL: http://www.nvidia.com/Download/index.aspx Alternatively, go to: https://pytorch.org to install a PyTorch version that has been compiled with your version of the CUDA driver. (Triggered internally at /pytorch/c10/cuda/CUDAFunctions.cpp:109.)\n",
      "  return Variable._execution_engine.run_backward(  # Calls into the C++ engine to run the backward pass\n"
     ]
    },
    {
     "name": "stdout",
     "output_type": "stream",
     "text": [
      "tOff: 17.09999976221181 tOn: 21.900000791072067  loss: -0.00014455606028489424\n",
      "tOff: 17.1772964023861 tOn: 21.82080206626754  loss: -0.003968253312859312\n",
      "tOff: 17.25029346863654 tOn: 21.73267783510205  loss: -0.027008003949580573\n",
      "tOff: 17.322916862116994 tOn: 21.781548417720582  loss: -0.10517023635009165\n",
      "tOff: 17.39305695149216 tOn: 21.849655205386373  loss: -0.3994424536119587\n",
      "tOff: 17.46345362808317 tOn: 21.835084950163257  loss: -1.2052806424180498\n",
      "tOff: 17.535040686429987 tOn: 21.844511307751716  loss: -3.223525294159043\n",
      "tOff: 17.60826125144813 tOn: 21.89398064872715  loss: -7.7288251661789396\n",
      "tOff: 17.68324022918005 tOn: 21.864893926044754  loss: -16.89329742341521\n",
      "tOff: 17.761781473807247 tOn: 21.90621657530825  loss: -33.18853616028625\n",
      "tOff: 17.84394761568775 tOn: 21.964250404313383  loss: -60.83492140152163\n",
      "tOff: 17.93138420162167 tOn: 21.95412085608083  loss: -95.90526293204121\n",
      "tOff: 18.022083364621306 tOn: 21.957359022485836  loss: -128.38129655347998\n",
      "tOff: 18.101668370242 tOn: 21.99091019408554  loss: -138.12838493858447\n",
      "tOff: 18.159870412501057 tOn: 21.999109662310993  loss: -129.26635807992193\n",
      "tOff: 18.196157470964 tOn: 21.975262047346245  loss: -116.70996326971422\n",
      "tOff: 18.213765391271508 tOn: 21.938901076247916  loss: -109.72036753663087\n",
      "tOff: 18.21713388003568 tOn: 21.901762632312472  loss: -106.71660613304343\n",
      "tOff: 18.21099743852668 tOn: 21.86943268671151  loss: -106.1676565186827\n",
      "tOff: 18.199694748159704 tOn: 21.846235427245716  loss: -106.60487349823141\n",
      "tOff: 18.18646386407823 tOn: 21.838144514720522  loss: -106.85748323133782\n",
      "tOff: 18.172485303958815 tOn: 21.851372592276764  loss: -107.024839146205\n",
      "tOff: 18.156249600458068 tOn: 21.88809366656818  loss: -108.64406543940787\n",
      "tOff: 18.134241474916134 tOn: 21.944150702763164  loss: -113.80988522437346\n",
      "tOff: 18.103605519029877 tOn: 22.0084543780272  loss: -122.42120147658882\n",
      "tOff: 18.065273629278114 tOn: 22.040573952295112  loss: -127.73132495820909\n",
      "tOff: 18.0236180090413 tOn: 22.02857719868731  loss: -129.10123270810038\n",
      "tOff: 17.98489153484301 tOn: 21.99198879968041  loss: -134.09138391057178\n",
      "tOff: 17.955700679685 tOn: 21.9479942800743  loss: -136.91167305372275\n",
      "tOff: 17.939828853670694 tOn: 21.917143786182447  loss: -133.33133242633022\n",
      "tOff: 17.937600322938643 tOn: 21.911674539984162  loss: -127.3867619062477\n",
      "tOff: 17.947576049597846 tOn: 21.928518555414556  loss: -126.14600934063651\n",
      "tOff: 17.967295896135706 tOn: 21.95856989052867  loss: -130.28058878538224\n",
      "tOff: 17.993239104757382 tOn: 21.989858469529533  loss: -135.55690953890885\n",
      "tOff: 18.020862446351344 tOn: 22.009679562187525  loss: -137.73819916800352\n",
      "tOff: 18.045326286939467 tOn: 22.011807475712327  loss: -136.79046928837363\n",
      "tOff: 18.06276599917802 tOn: 21.998817591741542  loss: -135.43511554383164\n",
      "tOff: 18.07114590526915 tOn: 21.978314941774734  loss: -134.83471113906842\n",
      "tOff: 18.07026442680071 tOn: 21.95968225620576  loss: -134.41442063803473\n",
      "tOff: 18.06119533854674 tOn: 21.95056628823292  loss: -133.9990285360727\n",
      "tOff: 18.045657914828748 tOn: 21.95383525127606  loss: -134.50215893240272\n",
      "tOff: 18.025952535640368 tOn: 21.96699269853965  loss: -136.3929928332662\n",
      "tOff: 18.005424807980766 tOn: 21.983074679356374  loss: -138.41906934654895\n",
      "tOff: 17.988329928988115 tOn: 21.99331884688957  loss: -138.60945627304326\n",
      "tOff: 17.978344693705235 tOn: 21.99233668245255  loss: -137.12913579312394\n",
      "tOff: 17.97702175717772 tOn: 21.981010798703053  loss: -136.1775989917955\n",
      "tOff: 17.98344853634191 tOn: 21.965248047902598  loss: -136.67682106062512\n",
      "tOff: 17.99492340039813 tOn: 21.95322978785743  loss: -137.5187142492168\n",
      "tOff: 18.00816301516605 tOn: 21.951158967748505  loss: -137.7825239568273\n",
      "tOff: 18.020335008607166 tOn: 21.95983139236832  loss: -137.93327080421182\n",
      "Optimization performed in  4978.145\n",
      "tOff: 18.020335008607166\n",
      "tOn: 21.95983139236832\n"
     ]
    },
    {
     "data": {
      "image/png": "[encoded data removed]",
      "text/plain": [
       "<Figure size 640x480 with 1 Axes>"
      ]
     },
     "metadata": {},
     "output_type": "display_data"
    }
   ],
   "source": [
    "# Optimization in SOGA\n",
    "# Define the optimizer with init_mean as the parameter\n",
    "params_dict = initialize_params(params)\n",
    "\n",
    "# gradient based optimization\n",
    "optimize(cfg, params_dict, loss, n_steps=50, lr=0.1)\n",
    "\n",
    "# print results:\n",
    "for key, value in params_dict.items():\n",
    "    print(f\"{key}: {value.item()}\")\n",
    "\n",
    "compiledFile = compile2SOGA_text(soga_code)\n",
    "cfg = produce_cfg_text(compiledFile)\n",
    "smooth_cfg(cfg)\n",
    "output_dist = start_SOGA(cfg, params_dict)\n",
    "y_init = output_dist.gm.mean()[:T].detach()\n",
    "plt.plot(range(T), y_init, lw=3, label='SOGA w true params')\n",
    "\n",
    "points = [(6, 20), (18, 20), (24, 20)]\n",
    "\n",
    "# Plot the points on the graph\n",
    "for point in points:\n",
    "    plt.plot(point[0], point[1], 'ro')  # Red dot at each point"
   ]
  }
 ],
 "metadata": {
  "kernelspec": {
   "display_name": "base",
   "language": "python",
   "name": "python3"
  },
  "language_info": {
   "codemirror_mode": {
    "name": "ipython",
    "version": 3
   },
   "file_extension": ".py",
   "mimetype": "text/x-python",
   "name": "python",
   "nbconvert_exporter": "python",
   "pygments_lexer": "ipython3",
   "version": "3.9.15"
  }
 },
 "nbformat": 4,
 "nbformat_minor": 5
}
