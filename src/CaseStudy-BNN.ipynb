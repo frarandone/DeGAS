{
  "cells": [
    {
      "cell_type": "markdown",
      "metadata": {},
      "source": [
        "\n",
        "# Case Study 5: Bayesian Neural Network\n",
        "\n",
        "Adapted from https://num.pyro.ai/en/stable/examples/bnn.html , we first see the NumPyro implementation and then SOGA.\n"
      ]
    },
    {
      "cell_type": "code",
      "execution_count": 128,
      "metadata": {},
      "outputs": [],
      "source": [
        "from sogaPreprocessor import *\n",
        "from producecfg import *\n",
        "from libSOGA import *\n",
        "from time import time\n",
        "\n",
        "torch.set_default_dtype(torch.float64)"
      ]
    },
    {
      "cell_type": "markdown",
      "metadata": {},
      "source": [
        "### Training the BNN with HMC in Pyro"
      ]
    },
    {
      "cell_type": "code",
      "execution_count": null,
      "metadata": {
        "collapsed": false
      },
      "outputs": [
        {
          "name": "stderr",
          "output_type": "stream",
          "text": [
            "Warmup:   9%|▉         | 236/2500 [01:15,  3.06it/s, step size=5.28e-02, acc. prob=0.781]"
          ]
        }
      ],
      "source": [
        "import time\n",
        "\n",
        "import matplotlib\n",
        "import matplotlib.pyplot as plt\n",
        "import numpy as np\n",
        "\n",
        "import torch\n",
        "import torch.nn.functional as F\n",
        "from torch.distributions import constraints\n",
        "\n",
        "import pyro\n",
        "import pyro.distributions as dist\n",
        "from pyro.infer import MCMC, NUTS, Predictive\n",
        "torch.set_default_dtype(torch.float32)\n",
        "\n",
        "\n",
        "\n",
        "# the non-linearity we use in our neural network\n",
        "def nonlin(x):\n",
        "    return F.relu(x)\n",
        "\n",
        "\n",
        "def model(X, Y, D_H, D_Y=1):\n",
        "    D_X = 1\n",
        "    N = X.shape[0]\n",
        "\n",
        "    # Sample first layer weights and biases\n",
        "    w1 = pyro.sample(\"w1\", dist.Normal(torch.zeros(D_X, D_H, dtype=torch.float32), torch.ones(D_X, D_H, dtype=torch.float32)))\n",
        "    b1 = pyro.sample(\"b1\", dist.Normal(torch.zeros(D_H, dtype=torch.float32), torch.ones(D_H, dtype=torch.float32)))\n",
        "    z1 = nonlin(torch.matmul(X, w1) + b1)  # First layer activations\n",
        "    #print('X', X.shape, 'w1', w1.shape, 'b1', b1.shape, 'z1', z1.shape)\n",
        "\n",
        "    # Sample second layer weights and biases\n",
        "    #w2 = pyro.sample(\"w2\", dist.Normal(torch.zeros(D_H, D_H, dtype=torch.float32), torch.ones(D_H, D_H, dtype=torch.float32)))\n",
        "    #b2 = pyro.sample(\"b2\", dist.Normal(torch.zeros(D_H, dtype=torch.float32), torch.ones(D_H, dtype=torch.float32)))\n",
        "    #z2 = nonlin(torch.matmul(z1, w2) + b2)  # Second layer activations\n",
        "\n",
        "    # Sample final layer weights and biases\n",
        "    w3 = pyro.sample(\"w3\", dist.Normal(torch.zeros(D_H, D_Y, dtype=torch.float32), torch.ones(D_H, D_Y, dtype=torch.float32)))\n",
        "    b3 = pyro.sample(\"b3\", dist.Normal(torch.zeros(D_Y, dtype=torch.float32), torch.ones(D_Y, dtype=torch.float32)))\n",
        "    z3 = torch.matmul(z1, w3) + b3  # Final output of the neural network\n",
        "    #print('w3', w3.shape, 'b3', b3.shape, 'z3', z3.shape)\n",
        "\n",
        "    # Observation noise (fixed for simplicity)\n",
        "    sigma_obs = torch.tensor(0.1, dtype=torch.float32)\n",
        "\n",
        "    # Observe data\n",
        "    pyro.sample(\"Y\", dist.Normal(z3.squeeze(1), sigma_obs), obs=Y)\n",
        "\n",
        "\n",
        "# helper function for HMC inference\n",
        "def run_inference(model, X, Y, D_H):\n",
        "    start = time.time()\n",
        "    kernel = NUTS(model)\n",
        "    mcmc = MCMC(\n",
        "        kernel,\n",
        "        num_samples=2000,\n",
        "        warmup_steps=500,\n",
        "        num_chains=1,\n",
        "    )\n",
        "    mcmc.run(X, Y, D_H)\n",
        "    mcmc.summary()\n",
        "    print(\"\\nMCMC elapsed time:\", time.time() - start)\n",
        "    return mcmc.get_samples()\n",
        "\n",
        "\n",
        "# helper function for prediction\n",
        "def predict(model, samples, X, D_H):\n",
        "    predictive = Predictive(model, samples)\n",
        "    predictions = predictive(X, None, D_H)[\"Y\"]\n",
        "    return predictions\n",
        "\n",
        "\n",
        "# create artificial regression dataset\n",
        "# Ensure all tensors are of dtype torch.float32\n",
        "def get_data(N=20, D_X=3, sigma_obs=0.05, N_test=500):\n",
        "    D_Y = 1  # create 1d outputs\n",
        "    np.random.seed(0)\n",
        "    X = np.linspace(-1, 1, N)\n",
        "    X = np.power(X[:, np.newaxis], np.arange(D_X))\n",
        "    W = 0.5 * np.random.randn(D_X)\n",
        "    Y = np.dot(X, W) + 0.5 * np.power(0.5 + X[:, 1], 2.0) * np.sin(4.0 * X[:, 1])\n",
        "    Y += sigma_obs * np.random.randn(N)\n",
        "    Y = Y[:, np.newaxis]\n",
        "    Y -= np.mean(Y)\n",
        "    Y /= np.std(Y)\n",
        "\n",
        "    assert X.shape == (N, D_X)\n",
        "    assert Y.shape == (N, D_Y)\n",
        "\n",
        "    X_test = np.linspace(-1.3, 1.3, N_test)\n",
        "    X_test = np.power(X_test[:, np.newaxis], np.arange(D_X))\n",
        "\n",
        "    # Convert all tensors to float32\n",
        "    return (\n",
        "        torch.tensor(X[:, 1:2], dtype=torch.float32),\n",
        "        torch.tensor(Y, dtype=torch.float32),\n",
        "        torch.tensor(X_test[:, 1:2], dtype=torch.float32),\n",
        "    )\n",
        "\n",
        "args = [10, 2, 2]\n",
        "N, D_X, D_H = args\n",
        "X, Y, X_test = get_data(N=N, D_X=D_X)\n",
        "Y = Y.squeeze()\n",
        "#X = X.squeeze()\n",
        "X_test = X_test.squeeze()\n",
        "# do inference\n",
        "samples = run_inference(model, X, Y, D_H)\n",
        "\n"
      ]
    },
    {
      "cell_type": "code",
      "execution_count": null,
      "metadata": {},
      "outputs": [],
      "source": [
        "# predict Y_test at inputs X_test\n",
        "predictions = predict(model, samples, X, D_H)\n",
        "\n",
        "# compute mean prediction and confidence interval around median\n",
        "mean_prediction = predictions.mean(0).detach().numpy()\n",
        "percentiles = np.percentile(predictions.detach().numpy(), [5.0, 95.0], axis=0)"
      ]
    },
    {
      "cell_type": "code",
      "execution_count": null,
      "metadata": {},
      "outputs": [
        {
          "name": "stdout",
          "output_type": "stream",
          "text": [
            "tensor([-0.7979, -0.5079, -0.2268,  0.0603,  0.3445,  0.6327,  0.9142,  1.2007,\n",
            "         0.3577, -1.9457])\n",
            "tensor([-0.3339, -0.2940, -0.2069, -0.5793, -0.1670,  0.1788,  1.2079,  1.8025,\n",
            "         0.4927, -2.1008])\n"
          ]
        }
      ],
      "source": [
        "print(predictions.mean(0))\n",
        "print(Y)"
      ]
    },
    {
      "cell_type": "code",
      "execution_count": null,
      "metadata": {},
      "outputs": [
        {
          "data": {
            "image/png": "[encoded data removed]",
            "text/plain": [
              "<Figure size 640x480 with 1 Axes>"
            ]
          },
          "metadata": {},
          "output_type": "display_data"
        }
      ],
      "source": [
        "# make plots\n",
        "#fig, ax = plt.subplots(figsize=(8, 6))\n",
        "\n",
        "# plot training data\n",
        "plt.plot(X.numpy(), Y.numpy(), \"kx\")\n",
        "# plot 90% confidence level of predictions\n",
        "plt.fill_between(\n",
        "    X.numpy().flatten(), percentiles[0, :], percentiles[1, :], color=\"lightblue\"\n",
        ")\n",
        "# plot mean prediction\n",
        "plt.plot(X.numpy().flatten(), mean_prediction, \"blue\", ls=\"solid\", lw=2.0)\n",
        "#ax.set(xlabel=\"X\", ylabel=\"Y\", title=\"Mean predictions with 90% CI\")\n",
        "\n",
        "#plt.savefig(\"bnn_plot_pyro.pdf\")\n",
        "plt.show()"
      ]
    },
    {
      "cell_type": "code",
      "execution_count": null,
      "metadata": {},
      "outputs": [
        {
          "data": {
            "text/plain": [
              "array([[[-1.8145446]]], dtype=float32)"
            ]
          },
          "execution_count": 124,
          "metadata": {},
          "output_type": "execute_result"
        }
      ],
      "source": [
        "def predict_by_sample(X, D_X=1, D_H=2, D_Y=1):\n",
        "\n",
        "    N = X.shape[0]  # Number of data points\n",
        "\n",
        "    # Sample weights and biases from their distributions\n",
        "    b1 = norm(loc=b1_mean, scale=b1_std).rvs(size=(D_H,))\n",
        "    b3 = norm(loc=b3_mean, scale=b3_std).rvs(size=(D_Y,))\n",
        "    w1 = norm(loc=w1_mean, scale=w1_std).rvs(size=(D_X, D_H))\n",
        "    w3 = norm(loc=w3_mean, scale=w3_std).rvs(size=(D_H, D_Y))\n",
        "\n",
        "    # Convert to torch tensors for matrix operations\n",
        "    b1 = torch.tensor(b1, dtype=torch.float32)\n",
        "    b3 = torch.tensor(b3, dtype=torch.float32)\n",
        "    w1 = torch.tensor(w1, dtype=torch.float32)\n",
        "    w3 = torch.tensor(w3, dtype=torch.float32)\n",
        "\n",
        "    # Compute hidden layer activations\n",
        "    z1 = F.relu(torch.matmul(X, w1) + b1)\n",
        "\n",
        "    # Compute final output\n",
        "    Y = torch.matmul(z1, w3) + b3\n",
        "\n",
        "    return Y.detach().numpy()\n",
        "\n",
        "x = torch.tensor([[[1.]]])\n",
        "y = predict_by_sample(x)\n",
        "y"
      ]
    },
    {
      "cell_type": "code",
      "execution_count": null,
      "metadata": {},
      "outputs": [
        {
          "ename": "IndexError",
          "evalue": "too many indices for tensor of dimension 1",
          "output_type": "error",
          "traceback": [
            "\u001b[1;31m---------------------------------------------------------------------------\u001b[0m",
            "\u001b[1;31mIndexError\u001b[0m                                Traceback (most recent call last)",
            "Cell \u001b[1;32mIn[125], line 7\u001b[0m\n\u001b[0;32m      1\u001b[0m \u001b[38;5;28;01mfrom\u001b[39;00m \u001b[38;5;21;01mscipy\u001b[39;00m\u001b[38;5;21;01m.\u001b[39;00m\u001b[38;5;21;01mstats\u001b[39;00m \u001b[38;5;28;01mimport\u001b[39;00m norm\n\u001b[0;32m      3\u001b[0m \u001b[38;5;66;03m# Trying to replicate Pyro results\u001b[39;00m\n\u001b[0;32m      4\u001b[0m \n\u001b[0;32m      5\u001b[0m \u001b[38;5;66;03m# Extracts the parameters from the samples\u001b[39;00m\n\u001b[1;32m----> 7\u001b[0m w1_mean, w2_mean \u001b[38;5;241m=\u001b[39m samples[\u001b[38;5;124m'\u001b[39m\u001b[38;5;124mw1\u001b[39m\u001b[38;5;124m'\u001b[39m]\u001b[38;5;241m.\u001b[39mmean(dim\u001b[38;5;241m=\u001b[39m\u001b[38;5;241m0\u001b[39m)[\u001b[38;5;241m0\u001b[39m]\n\u001b[0;32m      8\u001b[0m w3_mean, w4_mean \u001b[38;5;241m=\u001b[39m samples[\u001b[38;5;124m'\u001b[39m\u001b[38;5;124mw3\u001b[39m\u001b[38;5;124m'\u001b[39m]\u001b[38;5;241m.\u001b[39mmean(dim\u001b[38;5;241m=\u001b[39m\u001b[38;5;241m0\u001b[39m)[:, \u001b[38;5;241m0\u001b[39m]\n\u001b[0;32m      9\u001b[0m b1_mean, b2_mean \u001b[38;5;241m=\u001b[39m samples[\u001b[38;5;124m'\u001b[39m\u001b[38;5;124mb1\u001b[39m\u001b[38;5;124m'\u001b[39m]\u001b[38;5;241m.\u001b[39mmean(dim\u001b[38;5;241m=\u001b[39m\u001b[38;5;241m0\u001b[39m)\n",
            "\u001b[1;31mIndexError\u001b[0m: too many indices for tensor of dimension 1"
          ]
        }
      ],
      "source": [
        "from scipy.stats import norm\n",
        "\n",
        "# Trying to replicate Pyro results\n",
        "\n",
        "def predict_by_sample(X):\n",
        "\n",
        "    Y = np.zeros(len(X))\n",
        "\n",
        "    b1 = norm(loc=b1_mean, scale=b1_std).rvs()\n",
        "    b2 = norm(loc=b2_mean, scale=b2_std).rvs()\n",
        "    b3 = norm(loc=b3_mean, scale=b3_std).rvs()\n",
        "    \n",
        "    w1 = norm(loc=w1_mean, scale=w1_std).rvs()\n",
        "    w2 = norm(loc=w2_mean, scale=w2_std).rvs()\n",
        "    w3 = norm(loc=w3_mean, scale=w3_std).rvs()\n",
        "    w4 = norm(loc=w4_mean, scale=w4_std).rvs()\n",
        "    \n",
        "\n",
        "    for i in range(10):\n",
        "        h1 = max(w1 * X[i] + b1, 0)\n",
        "        h2 = max(w2 * X[i] + b2, 0)\n",
        "        Y[i] = w3 * h1 + w4 * h2 + b3\n",
        "\n",
        "    return Y, np.array([b1, b2, b3, w1, w2, w3, w4])\n",
        "\n",
        "def sample_predictions(X, n_samples=1000):\n",
        "    \n",
        "    Y_samples = []\n",
        "    pars_samples = []\n",
        "\n",
        "    for _ in range(n_samples):\n",
        "        Y, pars = predict_by_sample(X)\n",
        "        Y_samples.append(Y)\n",
        "        pars_samples.append(pars)\n",
        "\n",
        "    return np.array(Y_samples), np.array(pars_samples)\n",
        "\n",
        "print('Result for x', sample_predictions(x, n_samples=1000))\n",
        "\n",
        "Y_samples, pars = sample_predictions(X_test.numpy(), n_samples=1000)\n",
        "\n",
        "Y_samples_mean = np.mean(Y_samples, axis=0)\n",
        "\n",
        "plt.plot(X.numpy(), Y.numpy(), \"kx\")\n",
        "plt.plot(X_test.numpy(), Y_samples_mean, \"blue\", ls=\"solid\", lw=2.0)"
      ]
    },
    {
      "cell_type": "code",
      "execution_count": 119,
      "metadata": {},
      "outputs": [
        {
          "data": {
            "text/plain": [
              "array([ 2.19958775,  2.83022805, -2.18668793, -3.22471006, -2.78715134,\n",
              "       -3.71033864,  3.81584914])"
            ]
          },
          "execution_count": 119,
          "metadata": {},
          "output_type": "execute_result"
        }
      ],
      "source": [
        "np.mean(pars, axis=0)"
      ]
    },
    {
      "cell_type": "markdown",
      "metadata": {},
      "source": [
        "### SOGA Optimization"
      ]
    },
    {
      "cell_type": "code",
      "execution_count": null,
      "metadata": {},
      "outputs": [],
      "source": [
        "def optimize(params_dict, loss_function, y, cfg, steps=500, lr=0.01):\n",
        "    optimizer = torch.optim.Adam([params_dict[key] for key in params_dict.keys()], lr)\n",
        "\n",
        "    total_start = time.time()\n",
        "\n",
        "    for i in range(steps):\n",
        "\n",
        "        optimizer.zero_grad()  # Reset gradients\n",
        "        \n",
        "        # loss\n",
        "        current_dist = start_SOGA(cfg, params_dict, pruning='ranking')\n",
        "\n",
        "        loss = loss_function(y, current_dist)\n",
        "\n",
        "        # Backpropagate\n",
        "        loss.backward(retain_graph=True)\n",
        "        \n",
        "        optimizer.step()\n",
        "\n",
        "        # Print progress\n",
        "        if i % 50 == 0:\n",
        "            out = ''\n",
        "            for key in params_dict.keys():\n",
        "                out = out + key + ': ' + str(params_dict[key].item()) + ' '\n",
        "            out = out + f\" loss: {loss.item()}\"\n",
        "            print(out)\n",
        "\n",
        "    total_end = time.time()\n",
        "\n",
        "    print('Optimization performed in ', round(total_end-total_start, 3))"
      ]
    },
    {
      "cell_type": "code",
      "execution_count": null,
      "metadata": {},
      "outputs": [],
      "source": [
        "def mean_squared_error(y_true, dist):\n",
        "    return torch.mean((y_true - dist.gm.mean()) ** 2)\n",
        "\n",
        "def mean_squared_error_bayes(y_true, dist):\n",
        "    #This works for the means but of course not for the variances\n",
        "    return torch.mean((y_true - dist.gm.mean()[:-2]) ** 2)\n",
        "\n",
        "def neg_log_likelihood(y_true, dist):\n",
        "    #Calculate the log-likelihood of the data given the distribution\n",
        "    neg_log_likelihood = 0\n",
        "    for i in range(10):\n",
        "        neg_log_likelihood -= torch.log(dist.gm.marg_pdf(y_true[i].unsqueeze(0), i))\n",
        "    return neg_log_likelihood"
      ]
    },
    {
      "cell_type": "code",
      "execution_count": null,
      "metadata": {},
      "outputs": [
        {
          "name": "stdout",
          "output_type": "stream",
          "text": [
            "loss: tensor([[108.6853]], grad_fn=<SubBackward0>)\n"
          ]
        },
        {
          "data": {
            "text/plain": [
              "[<matplotlib.lines.Line2D at 0x27631d49e50>]"
            ]
          },
          "execution_count": 28,
          "metadata": {},
          "output_type": "execute_result"
        },
        {
          "data": {
            "image/png": "[encoded data removed]",
            "text/plain": [
              "<Figure size 640x480 with 1 Axes>"
            ]
          },
          "metadata": {},
          "output_type": "display_data"
        }
      ],
      "source": [
        "# What happens if we use the parameters found by MCMC in SOGA?\n",
        "\n",
        "from smoothcfg import *\n",
        "\n",
        "compiledFile=compile2SOGA('../programs/SOGA/Optimization/Case Studies/bnn3.soga')\n",
        "cfg = produce_cfg(compiledFile)\n",
        "smooth_cfg(cfg)\n",
        "\n",
        "mcmc_pars = {'muw1': 1.95, 'muw2': 3.58, 'muw3': 1.79, 'muw4': -4.08, 'mub1': 0.19, 'mub2': -2.26, 'mub3': -0.33,\n",
        "             'sigmaw1': 0.52, 'sigmaw2': 0.45, 'sigmaw3': 0.48, 'sigmaw4': 0.53, 'sigmab1': 0.11, 'sigmab2': 0.29, 'sigmab3': 0.05}\n",
        "\n",
        "for key, value in mcmc_pars.items():\n",
        "    pars[key] = torch.tensor(value, requires_grad=True)    \n",
        "\n",
        "output_dist = start_SOGA(cfg, pars, pruning='ranking') #params_dict \n",
        "\n",
        "print('loss:', neg_log_likelihood(Y.unsqueeze(1), output_dist))\n",
        "\n",
        "plt.plot(X.numpy(), Y.numpy(), \"kx\")\n",
        "plt.plot(X.numpy().flatten(), output_dist.gm.mean()[:10].detach().numpy(), \"blue\", ls=\"solid\", lw=2.0)\n"
      ]
    },
    {
      "cell_type": "code",
      "execution_count": null,
      "metadata": {},
      "outputs": [],
      "source": [
        "compiledFile=compile2SOGA('../programs/SOGA/Optimization/Case Studies/bnn3.soga')\n",
        "cfg = produce_cfg(compiledFile)\n",
        "\n",
        "#let's remove sigma of b3\n",
        "#pars = {'muw1':0., 'sigmaw1':1., 'muw2':0., 'sigmaw2':1.,'muw3':0., 'sigmaw3':1.,'muw4':0., 'sigmaw4':1.,'mub1':0., 'sigmab1':1.,'mub2':0., 'sigmab2':1.,'mub3':0., 'sigmab3':1.}\n",
        "#let's optimize only the means\n",
        "#pars = {'muw1':0., 'sigmaw1':1., 'muw2':0., 'sigmaw2':1.,'muw3':0., 'sigmaw3':1.,'muw4':0., 'sigmaw4':1.,'mub1':0., 'sigmab1':1.,'mub2':0., 'sigmab2':1.,'mub3':0.}\n",
        "mcmc_pars = {'muw1': 1.95, 'muw2': 3.58, 'muw3': 1.79, 'muw4': -4.08, 'mub1': 0.19, 'mub2': -2.26, 'mub3': -0.33}\n",
        "pars = {'muw1':0., 'muw2':0.,'muw3':0.,'muw4':0.,'mub1':0.,'mub2':0.,'mub3':0.}\n",
        "\n",
        "for key, value in mcmc_pars.items():\n",
        "    pars[key] = torch.tensor(value, requires_grad=True)    \n",
        "\n",
        "output_dist = start_SOGA(cfg, pars, pruning='ranking') #params_dict \n",
        "\n",
        "#optimize(pars, neg_log_likelihood, Y.unsqueeze(1), cfg, steps=1000, lr = 0.01)\n",
        "\n",
        "#predictive mean\n",
        "#y_pred = params_dict['muw'].detach().numpy()*X.detach().numpy()+params_dict['mub'].detach().numpy()\n",
        "\n",
        "#predictive variance\n",
        "#sigma_y_pred = np.sqrt(params_dict['sigmay'].detach().numpy()**2 + (X.detach().numpy()*params_dict['sigmaw'].detach().numpy())**2 + params_dict['sigmab'].detach().numpy()**2)\n",
        "\n"
      ]
    },
    {
      "cell_type": "code",
      "execution_count": null,
      "metadata": {},
      "outputs": [],
      "source": [
        "output_dist = start_SOGA(cfg, pars, pruning='ranking')"
      ]
    },
    {
      "cell_type": "code",
      "execution_count": null,
      "metadata": {},
      "outputs": [
        {
          "data": {
            "image/png": "[encoded data removed]",
            "text/plain": [
              "<Figure size 640x480 with 1 Axes>"
            ]
          },
          "metadata": {},
          "output_type": "display_data"
        }
      ],
      "source": [
        "# plot training data\n",
        "plt.plot(X.numpy(), Y.numpy(), \"kx\")\n",
        "# plot 90% confidence level of predictions\n",
        "#plt.fill_between(X.numpy().flatten(), percentiles[0, :], percentiles[1, :], color=\"lightblue\")\n",
        "# plot mean prediction\n",
        "plt.plot(X.numpy().flatten(), output_dist.gm.mean()[:10].detach().numpy(), \"blue\", ls=\"solid\", lw=2.0)\n",
        "#ax.set(xlabel=\"X\", ylabel=\"Y\", title=\"Mean predictions with 90% CI\")\n",
        "\n",
        "#plt.savefig(\"bnn_plot_pyro.pdf\")\n",
        "plt.show()\n"
      ]
    },
    {
      "cell_type": "code",
      "execution_count": null,
      "metadata": {},
      "outputs": [
        {
          "data": {
            "text/plain": [
              "tensor([0.0040, 0.0035, 0.0041, 0.0048, 0.0056, 0.0063, 0.0069, 0.0073, 0.0075,\n",
              "        0.0075], grad_fn=<SliceBackward0>)"
            ]
          },
          "execution_count": 33,
          "metadata": {},
          "output_type": "execute_result"
        }
      ],
      "source": [
        "output_dist.gm.mean()[:10]"
      ]
    }
  ],
  "metadata": {
    "kernelspec": {
      "display_name": "base",
      "language": "python",
      "name": "python3"
    },
    "language_info": {
      "codemirror_mode": {
        "name": "ipython",
        "version": 3
      },
      "file_extension": ".py",
      "mimetype": "text/x-python",
      "name": "python",
      "nbconvert_exporter": "python",
      "pygments_lexer": "ipython3",
      "version": "3.11.5"
    }
  },
  "nbformat": 4,
  "nbformat_minor": 0
}
