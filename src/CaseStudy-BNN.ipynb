{
  "cells": [
    {
      "cell_type": "markdown",
      "metadata": {},
      "source": [
        "\n",
        "# Case Study 5: Bayesian Neural Network\n",
        "\n",
        "Adapted from https://num.pyro.ai/en/stable/examples/bnn.html , we first see the NumPyro implementation and then SOGA.\n"
      ]
    },
    {
      "cell_type": "code",
      "execution_count": 1,
      "metadata": {},
      "outputs": [],
      "source": [
        "from sogaPreprocessor import *\n",
        "from producecfg import *\n",
        "from libSOGA import *\n",
        "from time import time\n",
        "\n",
        "torch.set_default_dtype(torch.float64)"
      ]
    },
    {
      "cell_type": "code",
      "execution_count": 6,
      "metadata": {
        "collapsed": false
      },
      "outputs": [
        {
          "name": "stderr",
          "output_type": "stream",
          "text": [
            "Sample: 100%|██████████| 2500/2500 [02:45, 15.07it/s, step size=3.20e-02, acc. prob=0.940]"
          ]
        },
        {
          "name": "stdout",
          "output_type": "stream",
          "text": [
            "\n",
            "                mean       std    median      5.0%     95.0%     n_eff     r_hat\n",
            "     b1[0]     -2.25      0.27     -2.24     -2.66     -1.80    470.97      1.00\n",
            "     b1[1]      0.19      0.12      0.18      0.02      0.38    592.01      1.01\n",
            "     b3[0]     -0.33      0.05     -0.33     -0.41     -0.25    959.30      1.01\n",
            "   w1[0,0]      3.57      0.41      3.55      2.86      4.20    474.01      1.00\n",
            "   w1[0,1]      1.97      0.50      1.91      1.19      2.79    778.37      1.00\n",
            "   w3[0,0]     -4.08      0.48     -4.05     -4.89     -3.31    569.30      1.00\n",
            "   w3[1,0]      1.77      0.47      1.70      0.98      2.43    687.77      1.00\n",
            "\n",
            "Number of divergences: 0\n",
            "\n",
            "MCMC elapsed time: 165.95113801956177\n"
          ]
        },
        {
          "name": "stderr",
          "output_type": "stream",
          "text": [
            "\n"
          ]
        }
      ],
      "source": [
        "import time\n",
        "\n",
        "import matplotlib\n",
        "import matplotlib.pyplot as plt\n",
        "import numpy as np\n",
        "\n",
        "import torch\n",
        "import torch.nn.functional as F\n",
        "from torch.distributions import constraints\n",
        "\n",
        "import pyro\n",
        "import pyro.distributions as dist\n",
        "from pyro.infer import MCMC, NUTS, Predictive\n",
        "torch.set_default_dtype(torch.float32)\n",
        "\n",
        "\n",
        "\n",
        "# the non-linearity we use in our neural network\n",
        "def nonlin(x):\n",
        "    return F.relu(x)\n",
        "\n",
        "\n",
        "def model(X, Y, D_H, D_Y=1):\n",
        "    D_X = 1\n",
        "    N = X.shape[0]\n",
        "\n",
        "    # Sample first layer weights and biases\n",
        "    w1 = pyro.sample(\"w1\", dist.Normal(torch.zeros(D_X, D_H, dtype=torch.float32), torch.ones(D_X, D_H, dtype=torch.float32)))\n",
        "    b1 = pyro.sample(\"b1\", dist.Normal(torch.zeros(D_H, dtype=torch.float32), torch.ones(D_H, dtype=torch.float32)))\n",
        "    z1 = nonlin(torch.matmul(X, w1) + b1)  # First layer activations\n",
        "\n",
        "    # Sample second layer weights and biases\n",
        "    #w2 = pyro.sample(\"w2\", dist.Normal(torch.zeros(D_H, D_H, dtype=torch.float32), torch.ones(D_H, D_H, dtype=torch.float32)))\n",
        "    #b2 = pyro.sample(\"b2\", dist.Normal(torch.zeros(D_H, dtype=torch.float32), torch.ones(D_H, dtype=torch.float32)))\n",
        "    #z2 = nonlin(torch.matmul(z1, w2) + b2)  # Second layer activations\n",
        "\n",
        "    # Sample final layer weights and biases\n",
        "    w3 = pyro.sample(\"w3\", dist.Normal(torch.zeros(D_H, D_Y, dtype=torch.float32), torch.ones(D_H, D_Y, dtype=torch.float32)))\n",
        "    b3 = pyro.sample(\"b3\", dist.Normal(torch.zeros(D_Y, dtype=torch.float32), torch.ones(D_Y, dtype=torch.float32)))\n",
        "    z3 = torch.matmul(z1, w3) + b3  # Final output of the neural network\n",
        "\n",
        "    # Observation noise (fixed for simplicity)\n",
        "    sigma_obs = torch.tensor(0.1, dtype=torch.float32)\n",
        "\n",
        "    # Observe data\n",
        "    pyro.sample(\"Y\", dist.Normal(z3.squeeze(1), sigma_obs), obs=Y)\n",
        "\n",
        "\n",
        "# helper function for HMC inference\n",
        "def run_inference(model, X, Y, D_H):\n",
        "    start = time.time()\n",
        "    kernel = NUTS(model)\n",
        "    mcmc = MCMC(\n",
        "        kernel,\n",
        "        num_samples=2000,\n",
        "        warmup_steps=500,\n",
        "        num_chains=1,\n",
        "    )\n",
        "    mcmc.run(X, Y, D_H)\n",
        "    mcmc.summary()\n",
        "    print(\"\\nMCMC elapsed time:\", time.time() - start)\n",
        "    return mcmc.get_samples()\n",
        "\n",
        "\n",
        "# helper function for prediction\n",
        "def predict(model, samples, X, D_H):\n",
        "    predictive = Predictive(model, samples)\n",
        "    predictions = predictive(X, None, D_H)[\"Y\"]\n",
        "    return predictions\n",
        "\n",
        "\n",
        "# create artificial regression dataset\n",
        "# Ensure all tensors are of dtype torch.float32\n",
        "def get_data(N=20, D_X=3, sigma_obs=0.05, N_test=500):\n",
        "    D_Y = 1  # create 1d outputs\n",
        "    np.random.seed(0)\n",
        "    X = np.linspace(-1, 1, N)\n",
        "    X = np.power(X[:, np.newaxis], np.arange(D_X))\n",
        "    W = 0.5 * np.random.randn(D_X)\n",
        "    Y = np.dot(X, W) + 0.5 * np.power(0.5 + X[:, 1], 2.0) * np.sin(4.0 * X[:, 1])\n",
        "    Y += sigma_obs * np.random.randn(N)\n",
        "    Y = Y[:, np.newaxis]\n",
        "    Y -= np.mean(Y)\n",
        "    Y /= np.std(Y)\n",
        "\n",
        "    assert X.shape == (N, D_X)\n",
        "    assert Y.shape == (N, D_Y)\n",
        "\n",
        "    X_test = np.linspace(-1.3, 1.3, N_test)\n",
        "    X_test = np.power(X_test[:, np.newaxis], np.arange(D_X))\n",
        "\n",
        "    # Convert all tensors to float32\n",
        "    return (\n",
        "        torch.tensor(X[:, 1:2], dtype=torch.float32),\n",
        "        torch.tensor(Y, dtype=torch.float32),\n",
        "        torch.tensor(X_test[:, 1:2], dtype=torch.float32),\n",
        "    )\n",
        "\n",
        "args = [10, 2, 2]\n",
        "N, D_X, D_H = args\n",
        "X, Y, X_test = get_data(N=N, D_X=D_X)\n",
        "Y = Y.squeeze()\n",
        "#X = X.squeeze()\n",
        "X_test = X_test.squeeze()\n",
        "# do inference\n",
        "samples = run_inference(model, X, Y, D_H)\n",
        "\n"
      ]
    },
    {
      "cell_type": "code",
      "execution_count": 7,
      "metadata": {},
      "outputs": [],
      "source": [
        "# predict Y_test at inputs X_test\n",
        "predictions = predict(model, samples, X, D_H)\n",
        "\n",
        "# compute mean prediction and confidence interval around median\n",
        "mean_prediction = predictions.mean(0).detach().numpy()\n",
        "percentiles = np.percentile(predictions.detach().numpy(), [5.0, 95.0], axis=0)"
      ]
    },
    {
      "cell_type": "code",
      "execution_count": 8,
      "metadata": {},
      "outputs": [
        {
          "name": "stdout",
          "output_type": "stream",
          "text": [
            "tensor([-0.3341, -0.3300, -0.3291, -0.3340, -0.2758,  0.3491,  1.0777,  1.8043,\n",
            "         0.4255, -2.0442])\n",
            "tensor([-0.3339, -0.2940, -0.2069, -0.5793, -0.1670,  0.1788,  1.2079,  1.8025,\n",
            "         0.4927, -2.1008])\n"
          ]
        }
      ],
      "source": [
        "print(predictions.mean(0))\n",
        "print(Y)"
      ]
    },
    {
      "cell_type": "code",
      "execution_count": 9,
      "metadata": {},
      "outputs": [
        {
          "data": {
            "image/png": "[encoded data removed]",
            "text/plain": [
              "<Figure size 640x480 with 1 Axes>"
            ]
          },
          "metadata": {},
          "output_type": "display_data"
        }
      ],
      "source": [
        "# make plots\n",
        "#fig, ax = plt.subplots(figsize=(8, 6))\n",
        "\n",
        "# plot training data\n",
        "plt.plot(X.numpy(), Y.numpy(), \"kx\")\n",
        "# plot 90% confidence level of predictions\n",
        "plt.fill_between(\n",
        "    X.numpy().flatten(), percentiles[0, :], percentiles[1, :], color=\"lightblue\"\n",
        ")\n",
        "# plot mean prediction\n",
        "plt.plot(X.numpy().flatten(), mean_prediction, \"blue\", ls=\"solid\", lw=2.0)\n",
        "#ax.set(xlabel=\"X\", ylabel=\"Y\", title=\"Mean predictions with 90% CI\")\n",
        "\n",
        "#plt.savefig(\"bnn_plot_pyro.pdf\")\n",
        "plt.show()"
      ]
    },
    {
      "cell_type": "code",
      "execution_count": 12,
      "metadata": {},
      "outputs": [
        {
          "data": {
            "text/plain": [
              "(10,)"
            ]
          },
          "execution_count": 12,
          "metadata": {},
          "output_type": "execute_result"
        }
      ],
      "source": [
        "#print(Y.reshape(-1))\n",
        "#print(mean_prediction.reshape(-1))\n",
        "\n",
        "X.shape"
      ]
    },
    {
      "cell_type": "code",
      "execution_count": 46,
      "metadata": {},
      "outputs": [],
      "source": [
        "def optimize(params_dict, loss_function, y, cfg, steps=500, lr=0.01):\n",
        "    optimizer = torch.optim.Adam([params_dict[key] for key in params_dict.keys()], lr)\n",
        "\n",
        "    total_start = time.time()\n",
        "\n",
        "    for i in range(steps):\n",
        "\n",
        "        optimizer.zero_grad()  # Reset gradients\n",
        "        \n",
        "        # loss\n",
        "        current_dist = start_SOGA(cfg, params_dict, pruning='ranking')\n",
        "\n",
        "        loss = loss_function(y, current_dist)\n",
        "\n",
        "        # Backpropagate\n",
        "        loss.backward(retain_graph=True)\n",
        "        \n",
        "        optimizer.step()\n",
        "\n",
        "        # Print progress\n",
        "        if i % 50 == 0:\n",
        "            out = ''\n",
        "            for key in params_dict.keys():\n",
        "                out = out + key + ': ' + str(params_dict[key].item()) + ' '\n",
        "            out = out + f\" loss: {loss.item()}\"\n",
        "            print(out)\n",
        "\n",
        "    total_end = time.time()\n",
        "\n",
        "    print('Optimization performed in ', round(total_end-total_start, 3))"
      ]
    },
    {
      "cell_type": "code",
      "execution_count": 11,
      "metadata": {},
      "outputs": [],
      "source": [
        "def mean_squared_error(y_true, dist):\n",
        "    return torch.mean((y_true - dist.gm.mean()) ** 2)\n",
        "\n",
        "def mean_squared_error_bayes(y_true, dist):\n",
        "    #This works for the means but of course not for the variances\n",
        "    return torch.mean((y_true - dist.gm.mean()[:-2]) ** 2)\n",
        "\n",
        "def neg_log_likelihood(y_true, dist):\n",
        "    #Calculate the log-likelihood of the data given the distribution\n",
        "    neg_log_likelihood = 0\n",
        "    for i in range(10):\n",
        "        neg_log_likelihood -= torch.log(dist.gm.marg_pdf(y_true[i].unsqueeze(0), i))\n",
        "    return neg_log_likelihood"
      ]
    },
    {
      "cell_type": "code",
      "execution_count": 17,
      "metadata": {},
      "outputs": [
        {
          "name": "stdout",
          "output_type": "stream",
          "text": [
            "tensor([-1.0000, -0.7778, -0.5556, -0.3333, -0.1111,  0.1111,  0.3333,  0.5556,\n",
            "         0.7778,  1.0000])\n",
            "torch.Size([10, 1])\n"
          ]
        }
      ],
      "source": [
        "print(X.squeeze())\n",
        "print(X.shape)"
      ]
    },
    {
      "cell_type": "code",
      "execution_count": 62,
      "metadata": {},
      "outputs": [
        {
          "name": "stdout",
          "output_type": "stream",
          "text": [
            "muw1: -0.009999999776482582 muw2: -0.010000000707805157 muw3: -0.009999997913837433 muw4: -0.009999997913837433 mub1: 0.009999999776482582 mub2: 0.009999999776482582 mub3: 0.009999998845160007  loss: 89.87539672851562\n",
            "muw1: -0.4722413122653961 muw2: -0.47218775749206543 muw3: -0.5447949767112732 muw4: -0.5447948575019836 mub1: 0.5276546478271484 mub2: 0.5276409387588501 mub3: 0.5597163438796997  loss: 49.19328308105469\n",
            "muw1: -0.0846034586429596 muw2: -0.08455074578523636 muw3: -0.7942813634872437 muw4: -0.7943506240844727 mub1: 0.7710805535316467 mub2: 0.7710342407226562 mub3: 1.1256016492843628  loss: 33.38469696044922\n",
            "muw1: 0.1426064819097519 muw2: 0.14261549711227417 muw3: -1.1084599494934082 muw4: -1.108944296836853 mub1: 0.8254424333572388 mub2: 0.8251595497131348 mub3: 1.51842200756073  loss: 26.925338745117188\n",
            "muw1: 0.12967926263809204 muw2: 0.12935668230056763 muw3: -1.429796814918518 muw4: -1.4311883449554443 mub1: 0.7509569525718689 mub2: 0.7503077387809753 mub3: 1.8368589878082275  loss: 22.482635498046875\n",
            "muw1: 0.0843474268913269 muw2: 0.08328782767057419 muw3: -1.7518645524978638 muw4: -1.7547826766967773 mub1: 0.6532421112060547 mub2: 0.6518416404724121 mub3: 2.0574073791503906  loss: 19.36477279663086\n",
            "muw1: 0.06776351481676102 muw2: 0.06684449315071106 muw3: -2.0281360149383545 muw4: -2.032611608505249 mub1: 0.5887249112129211 mub2: 0.587283730506897 mub3: 2.2061452865600586  loss: 17.645795822143555\n",
            "muw1: 0.06575672328472137 muw2: 0.06510452181100845 muw3: -2.2482547760009766 muw4: -2.254096508026123 mub1: 0.550900936126709 mub2: 0.5497291684150696 mub3: 2.3191428184509277  loss: 16.701494216918945\n",
            "muw1: 0.0666368156671524 muw2: 0.0663381814956665 muw3: -2.4250388145446777 muw4: -2.432173252105713 mub1: 0.5267470479011536 mub2: 0.525896430015564 mub3: 2.4125263690948486  loss: 16.137344360351562\n",
            "muw1: 0.06793701648712158 muw2: 0.06794589012861252 muw3: -2.5703654289245605 muw4: -2.5787975788116455 mub1: 0.5101885795593262 mub2: 0.5096095204353333 mub3: 2.492615222930908  loss: 15.776506423950195\n",
            "muw1: 0.06901542842388153 muw2: 0.0697784572839737 muw3: -2.6922366619110107 muw4: -2.7018392086029053 mub1: 0.4983532428741455 mub2: 0.49791640043258667 mub3: 2.562591552734375  loss: 15.534472465515137\n",
            "muw1: 0.06985379010438919 muw2: 0.07105676829814911 muw3: -2.795682430267334 muw4: -2.8064708709716797 mub1: 0.4895266890525818 mub2: 0.48919156193733215 mub3: 2.6244935989379883  loss: 15.366678237915039\n",
            "muw1: 0.07067913562059402 muw2: 0.07196533679962158 muw3: -2.884305238723755 muw4: -2.896348237991333 mub1: 0.4828432500362396 mub2: 0.48259949684143066 mub3: 2.6796469688415527  loss: 15.247664451599121\n",
            "muw1: 0.07142139971256256 muw2: 0.07261836528778076 muw3: -2.960719585418701 muw4: -2.9740822315216064 mub1: 0.4777158498764038 mub2: 0.4775468409061432 mub3: 2.72904896736145  loss: 15.161762237548828\n",
            "muw1: 0.07207101583480835 muw2: 0.07309769839048386 muw3: -3.0268876552581787 muw4: -3.041639566421509 mub1: 0.4737609922885895 mub2: 0.47364747524261475 mub3: 2.7734642028808594  loss: 15.098941802978516\n",
            "muw1: 0.0726362019777298 muw2: 0.07344841957092285 muw3: -3.084324598312378 muw4: -3.1005449295043945 mub1: 0.47071129083633423 mub2: 0.4706341028213501 mub3: 2.8135015964508057  loss: 15.052627563476562\n",
            "muw1: 0.0731295719742775 muw2: 0.07370311766862869 muw3: -3.1342365741729736 muw4: -3.152014970779419 mub1: 0.46837517619132996 mub2: 0.46831631660461426 mub3: 2.8496599197387695  loss: 15.01819896697998\n",
            "muw1: 0.07356033474206924 muw2: 0.0738832876086235 muw3: -3.1776034832000732 muw4: -3.197040319442749 mub1: 0.46660900115966797 mub2: 0.4665515422821045 mub3: 2.882355213165283  loss: 14.99250602722168\n",
            "muw1: 0.07394123077392578 muw2: 0.0740058645606041 muw3: -3.215240240097046 muw4: -3.2364509105682373 mub1: 0.4653054475784302 mub2: 0.4652320444583893 mub3: 2.9119386672973633  loss: 14.973276138305664\n",
            "muw1: 0.07427772134542465 muw2: 0.07408199459314346 muw3: -3.247831344604492 muw4: -3.270946502685547 mub1: 0.4643784463405609 mub2: 0.46427178382873535 mub3: 2.9387130737304688  loss: 14.958829879760742\n",
            "Optimization performed in  639.231\n"
          ]
        }
      ],
      "source": [
        "compiledFile=compile2SOGA('../programs/SOGA/Optimization/Case Studies/bnn3.soga')\n",
        "cfg = produce_cfg(compiledFile)\n",
        "\n",
        "#let's remove sigma of b3\n",
        "#pars = {'muw1':0., 'sigmaw1':1., 'muw2':0., 'sigmaw2':1.,'muw3':0., 'sigmaw3':1.,'muw4':0., 'sigmaw4':1.,'mub1':0., 'sigmab1':1.,'mub2':0., 'sigmab2':1.,'mub3':0., 'sigmab3':1.}\n",
        "#let's optimize only the means\n",
        "#pars = {'muw1':0., 'sigmaw1':1., 'muw2':0., 'sigmaw2':1.,'muw3':0., 'sigmaw3':1.,'muw4':0., 'sigmaw4':1.,'mub1':0., 'sigmab1':1.,'mub2':0., 'sigmab2':1.,'mub3':0.}\n",
        "pars = {'muw1':0., 'muw2':0.,'muw3':0.,'muw4':0.,'mub1':0.,'mub2':0.,'mub3':0.}\n",
        "\n",
        "for key, value in pars.items():\n",
        "    pars[key] = torch.tensor(value, requires_grad=True)    \n",
        "\n",
        "output_dist = start_SOGA(cfg, pars, pruning='ranking') #params_dict \n",
        "\n",
        "optimize(pars, neg_log_likelihood, Y.unsqueeze(1), cfg, steps=1000, lr = 0.01)\n",
        "\n",
        "#predictive mean\n",
        "#y_pred = params_dict['muw'].detach().numpy()*X.detach().numpy()+params_dict['mub'].detach().numpy()\n",
        "\n",
        "#predictive variance\n",
        "#sigma_y_pred = np.sqrt(params_dict['sigmay'].detach().numpy()**2 + (X.detach().numpy()*params_dict['sigmaw'].detach().numpy())**2 + params_dict['sigmab'].detach().numpy()**2)\n",
        "\n"
      ]
    },
    {
      "cell_type": "code",
      "execution_count": 63,
      "metadata": {},
      "outputs": [],
      "source": [
        "output_dist = start_SOGA(cfg, pars, pruning='ranking')"
      ]
    },
    {
      "cell_type": "code",
      "execution_count": 64,
      "metadata": {},
      "outputs": [
        {
          "data": {
            "image/png": "[encoded data removed]",
            "text/plain": [
              "<Figure size 640x480 with 1 Axes>"
            ]
          },
          "metadata": {},
          "output_type": "display_data"
        }
      ],
      "source": [
        "# plot training data\n",
        "plt.plot(X.numpy(), Y.numpy(), \"kx\")\n",
        "# plot 90% confidence level of predictions\n",
        "#plt.fill_between(X.numpy().flatten(), percentiles[0, :], percentiles[1, :], color=\"lightblue\")\n",
        "# plot mean prediction\n",
        "plt.plot(X.numpy().flatten(), output_dist.gm.mean()[:10].detach().numpy(), \"blue\", ls=\"solid\", lw=2.0)\n",
        "#ax.set(xlabel=\"X\", ylabel=\"Y\", title=\"Mean predictions with 90% CI\")\n",
        "\n",
        "#plt.savefig(\"bnn_plot_pyro.pdf\")\n",
        "plt.show()\n"
      ]
    },
    {
      "cell_type": "code",
      "execution_count": 33,
      "metadata": {},
      "outputs": [
        {
          "data": {
            "text/plain": [
              "tensor([0.0040, 0.0035, 0.0041, 0.0048, 0.0056, 0.0063, 0.0069, 0.0073, 0.0075,\n",
              "        0.0075], grad_fn=<SliceBackward0>)"
            ]
          },
          "execution_count": 33,
          "metadata": {},
          "output_type": "execute_result"
        }
      ],
      "source": [
        "output_dist.gm.mean()[:10]"
      ]
    }
  ],
  "metadata": {
    "kernelspec": {
      "display_name": "simple_env",
      "language": "python",
      "name": "python3"
    },
    "language_info": {
      "codemirror_mode": {
        "name": "ipython",
        "version": 3
      },
      "file_extension": ".py",
      "mimetype": "text/x-python",
      "name": "python",
      "nbconvert_exporter": "python",
      "pygments_lexer": "ipython3",
      "version": "3.12.9"
    }
  },
  "nbformat": 4,
  "nbformat_minor": 0
}
