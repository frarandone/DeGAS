{
  "cells": [
    {
      "cell_type": "markdown",
      "metadata": {},
      "source": [
        "\n",
        "# Case Study 5: Bayesian Neural Network\n",
        "\n",
        "Adapted from https://num.pyro.ai/en/stable/examples/bnn.html , we first see the NumPyro implementation and then SOGA.\n"
      ]
    },
    {
      "cell_type": "code",
      "execution_count": 128,
      "metadata": {},
      "outputs": [],
      "source": [
        "from sogaPreprocessor import *\n",
        "from producecfg import *\n",
        "from libSOGA import *\n",
        "from time import time\n",
        "\n",
        "torch.set_default_dtype(torch.float64)"
      ]
    },
    {
      "cell_type": "markdown",
      "metadata": {},
      "source": [
        "### Training the BNN with HMC in Pyro"
      ]
    },
    {
      "cell_type": "code",
      "execution_count": 155,
      "metadata": {
        "collapsed": false
      },
      "outputs": [
        {
          "name": "stderr",
          "output_type": "stream",
          "text": [
            "Sample: 100%|██████████| 2500/2500 [12:40,  3.29it/s, step size=3.88e-02, acc. prob=0.826]"
          ]
        },
        {
          "name": "stdout",
          "output_type": "stream",
          "text": [
            "\n",
            "                mean       std    median      5.0%     95.0%     n_eff     r_hat\n",
            "     b1[0]     -2.18      0.28     -2.17     -2.65     -1.73    456.18      1.00\n",
            "     b1[1]      0.87      0.35      0.82      0.28      1.35    308.34      1.01\n",
            "     b3[0]      1.41      0.23      1.37      1.09      1.67    308.76      1.00\n",
            "   w1[0,0]      3.14      0.40      3.13      2.45      3.73    434.30      1.00\n",
            "   w1[0,1]     -1.20      0.44     -1.14     -1.85     -0.47    372.31      1.00\n",
            "   w3[0,0]     -3.63      0.46     -3.59     -4.39     -2.91    577.63      1.00\n",
            "   w3[1,0]     -1.23      0.52     -1.12     -1.99     -0.53    264.15      1.00\n",
            "\n",
            "Number of divergences: 0\n",
            "\n",
            "MCMC elapsed time: 760.7459208965302\n"
          ]
        },
        {
          "name": "stderr",
          "output_type": "stream",
          "text": [
            "\n"
          ]
        }
      ],
      "source": [
        "import time\n",
        "\n",
        "import matplotlib\n",
        "import matplotlib.pyplot as plt\n",
        "import numpy as np\n",
        "\n",
        "import torch\n",
        "import torch.nn.functional as F\n",
        "from torch.distributions import constraints\n",
        "\n",
        "import pyro\n",
        "import pyro.distributions as dist\n",
        "from pyro.infer import MCMC, NUTS, Predictive\n",
        "torch.set_default_dtype(torch.float32)\n",
        "\n",
        "\n",
        "\n",
        "# the non-linearity we use in our neural network\n",
        "def nonlin(x):\n",
        "    return F.relu(x)\n",
        "\n",
        "\n",
        "def model(X, Y, D_H, D_Y=1):\n",
        "    D_X = 1\n",
        "    N = X.shape[0]\n",
        "\n",
        "    # Sample first layer weights and biases\n",
        "    w1 = pyro.sample(\"w1\", dist.Normal(torch.zeros(D_X, D_H, dtype=torch.float32), torch.ones(D_X, D_H, dtype=torch.float32)))\n",
        "    b1 = pyro.sample(\"b1\", dist.Normal(torch.zeros(D_H, dtype=torch.float32), torch.ones(D_H, dtype=torch.float32)))\n",
        "    z1 = nonlin(torch.matmul(X, w1) + b1)  # First layer activations\n",
        "    #print('X', X.shape, 'w1', w1.shape, 'b1', b1.shape, 'z1', z1.shape)\n",
        "\n",
        "    # Sample second layer weights and biases\n",
        "    #w2 = pyro.sample(\"w2\", dist.Normal(torch.zeros(D_H, D_H, dtype=torch.float32), torch.ones(D_H, D_H, dtype=torch.float32)))\n",
        "    #b2 = pyro.sample(\"b2\", dist.Normal(torch.zeros(D_H, dtype=torch.float32), torch.ones(D_H, dtype=torch.float32)))\n",
        "    #z2 = nonlin(torch.matmul(z1, w2) + b2)  # Second layer activations\n",
        "\n",
        "    # Sample final layer weights and biases\n",
        "    w3 = pyro.sample(\"w3\", dist.Normal(torch.zeros(D_H, D_Y, dtype=torch.float32), torch.ones(D_H, D_Y, dtype=torch.float32)))\n",
        "    b3 = pyro.sample(\"b3\", dist.Normal(torch.zeros(D_Y, dtype=torch.float32), torch.ones(D_Y, dtype=torch.float32)))\n",
        "    z3 = torch.matmul(z1, w3) + b3  # Final output of the neural network\n",
        "    #print('w3', w3.shape, 'b3', b3.shape, 'z3', z3.shape)\n",
        "\n",
        "    # Observation noise (fixed for simplicity)\n",
        "    sigma_obs = torch.tensor(0.1, dtype=torch.float32)\n",
        "\n",
        "    # Observe data\n",
        "    pyro.sample(\"Y\", dist.Normal(z3.squeeze(1), sigma_obs), obs=Y)\n",
        "\n",
        "\n",
        "# helper function for HMC inference\n",
        "def run_inference(model, X, Y, D_H):\n",
        "    start = time.time()\n",
        "    kernel = NUTS(model)\n",
        "    mcmc = MCMC(\n",
        "        kernel,\n",
        "        num_samples=2000,\n",
        "        warmup_steps=500,\n",
        "        num_chains=1,\n",
        "    )\n",
        "    mcmc.run(X, Y, D_H)\n",
        "    mcmc.summary()\n",
        "    print(\"\\nMCMC elapsed time:\", time.time() - start)\n",
        "    return mcmc.get_samples()\n",
        "\n",
        "\n",
        "# helper function for prediction\n",
        "def predict(model, samples, X, D_H):\n",
        "    predictive = Predictive(model, samples)\n",
        "    predictions = predictive(X, None, D_H)[\"Y\"]\n",
        "    return predictions\n",
        "\n",
        "\n",
        "# create artificial regression dataset\n",
        "# Ensure all tensors are of dtype torch.float32\n",
        "def get_data(N=20, D_X=3, sigma_obs=0.05, N_test=50):\n",
        "    D_Y = 1  # create 1d outputs\n",
        "    np.random.seed(0)\n",
        "    X = np.linspace(-1, 1, N)\n",
        "    X = np.power(X[:, np.newaxis], np.arange(D_X))\n",
        "    W = 0.5 * np.random.randn(D_X)\n",
        "    Y = np.dot(X, W) + 0.5 * np.power(0.5 + X[:, 1], 2.0) * np.sin(4.0 * X[:, 1])\n",
        "    Y += sigma_obs * np.random.randn(N)\n",
        "    Y = Y[:, np.newaxis]\n",
        "    Y -= np.mean(Y)\n",
        "    Y /= np.std(Y)\n",
        "\n",
        "    assert X.shape == (N, D_X)\n",
        "    assert Y.shape == (N, D_Y)\n",
        "\n",
        "    X_test = np.linspace(-1.3, 1.3, N_test)\n",
        "    X_test = np.power(X_test[:, np.newaxis], np.arange(D_X))\n",
        "\n",
        "    # Convert all tensors to float32\n",
        "    return (\n",
        "        torch.tensor(X[:, 1:2], dtype=torch.float32),\n",
        "        torch.tensor(Y, dtype=torch.float32),\n",
        "        torch.tensor(X_test[:, 1:2], dtype=torch.float32),\n",
        "    )\n",
        "\n",
        "args = [10, 2, 2]\n",
        "N, D_X, D_H = args\n",
        "X, Y, X_test = get_data(N=N, D_X=D_X)\n",
        "Y = Y.squeeze()\n",
        "#X = X.squeeze()\n",
        "X_test = X_test.squeeze()\n",
        "# do inference\n",
        "samples = run_inference(model, X, Y, D_H)\n",
        "\n"
      ]
    },
    {
      "cell_type": "code",
      "execution_count": 156,
      "metadata": {},
      "outputs": [],
      "source": [
        "# predict Y_test at inputs X_test\n",
        "predictions = predict(model, samples, X, D_H)\n",
        "\n",
        "# compute mean prediction and confidence interval around median\n",
        "mean_prediction = predictions.mean(0).detach().numpy()\n",
        "percentiles = np.percentile(predictions.detach().numpy(), [5.0, 95.0], axis=0)"
      ]
    },
    {
      "cell_type": "code",
      "execution_count": 157,
      "metadata": {},
      "outputs": [
        {
          "name": "stdout",
          "output_type": "stream",
          "text": [
            "tensor([-0.7936, -0.5050, -0.2263,  0.0605,  0.3406,  0.6264,  0.9093,  1.1916,\n",
            "         0.4246, -2.0389])\n",
            "tensor([-0.3339, -0.2940, -0.2069, -0.5793, -0.1670,  0.1788,  1.2079,  1.8025,\n",
            "         0.4927, -2.1008])\n"
          ]
        }
      ],
      "source": [
        "print(predictions.mean(0))\n",
        "print(Y)"
      ]
    },
    {
      "cell_type": "code",
      "execution_count": 158,
      "metadata": {},
      "outputs": [
        {
          "data": {
            "image/png": "[encoded data removed]",
            "text/plain": [
              "<Figure size 640x480 with 1 Axes>"
            ]
          },
          "metadata": {},
          "output_type": "display_data"
        }
      ],
      "source": [
        "# make plots\n",
        "#fig, ax = plt.subplots(figsize=(8, 6))\n",
        "\n",
        "# plot training data\n",
        "plt.plot(X.numpy(), Y.numpy(), \"kx\")\n",
        "# plot 90% confidence level of predictions\n",
        "plt.fill_between(\n",
        "    X.numpy().flatten(), percentiles[0, :], percentiles[1, :], color=\"lightblue\"\n",
        ")\n",
        "# plot mean prediction\n",
        "plt.plot(X.numpy().flatten(), mean_prediction, \"blue\", ls=\"solid\", lw=2.0)\n",
        "#ax.set(xlabel=\"X\", ylabel=\"Y\", title=\"Mean predictions with 90% CI\")\n",
        "\n",
        "#plt.savefig(\"bnn_plot_pyro.pdf\")\n",
        "plt.show()"
      ]
    },
    {
      "cell_type": "code",
      "execution_count": 159,
      "metadata": {},
      "outputs": [],
      "source": [
        "def predict_by_sample(X, D_X=1, D_H=2, D_Y=1):\n",
        "\n",
        "    N = X.shape[0]  # Number of data points\n",
        "\n",
        "    # Sample weights and biases from their distributions\n",
        "    b1 = norm(loc=b1_mean, scale=b1_std).rvs(size=(D_H,))\n",
        "    b3 = norm(loc=b3_mean, scale=b3_std).rvs(size=(D_Y,))\n",
        "    w1 = norm(loc=w1_mean, scale=w1_std).rvs(size=(D_X, D_H))\n",
        "    w3 = norm(loc=w3_mean, scale=w3_std).rvs(size=(D_H, D_Y))\n",
        "\n",
        "    # Convert to torch tensors for matrix operations\n",
        "    b1 = torch.tensor(b1, dtype=torch.float32)\n",
        "    b3 = torch.tensor(b3, dtype=torch.float32)\n",
        "    w1 = torch.tensor(w1, dtype=torch.float32)\n",
        "    w3 = torch.tensor(w3, dtype=torch.float32)\n",
        "\n",
        "    # Compute hidden layer activations\n",
        "    z1 = F.relu(torch.matmul(X, w1) + b1)\n",
        "\n",
        "    # Compute final output\n",
        "    Y = torch.matmul(z1, w3) + b3\n",
        "\n",
        "    return Y.detach().numpy()\n"
      ]
    },
    {
      "cell_type": "code",
      "execution_count": 168,
      "metadata": {},
      "outputs": [
        {
          "data": {
            "text/plain": [
              "(10, 1)"
            ]
          },
          "execution_count": 168,
          "metadata": {},
          "output_type": "execute_result"
        }
      ],
      "source": [
        "X.numpy().shape"
      ]
    },
    {
      "cell_type": "code",
      "execution_count": 170,
      "metadata": {},
      "outputs": [
        {
          "data": {
            "text/plain": [
              "(1000, 10)"
            ]
          },
          "execution_count": 170,
          "metadata": {},
          "output_type": "execute_result"
        }
      ],
      "source": [
        "Y_samples.shape\n"
      ]
    },
    {
      "cell_type": "code",
      "execution_count": 173,
      "metadata": {},
      "outputs": [
        {
          "name": "stderr",
          "output_type": "stream",
          "text": [
            "C:\\Users\\birik\\AppData\\Local\\Temp\\ipykernel_11388\\4115577785.py:22: DeprecationWarning: Conversion of an array with ndim > 0 to a scalar is deprecated, and will error in future. Ensure you extract a single element from your array before performing this operation. (Deprecated NumPy 1.25.)\n",
            "  Y[i] = w3 * h1 + w4 * h2 + b3\n",
            "C:\\Users\\birik\\AppData\\Local\\Temp\\ipykernel_11388\\4115577785.py:55: UserWarning: To copy construct from a tensor, it is recommended to use sourceTensor.clone().detach() or sourceTensor.clone().detach().requires_grad_(True), rather than torch.tensor(sourceTensor).\n",
            "  mcmc_pars[key] = torch.tensor(value, requires_grad=True)\n"
          ]
        },
        {
          "data": {
            "text/plain": [
              "<matplotlib.legend.Legend at 0x27638c229d0>"
            ]
          },
          "execution_count": 173,
          "metadata": {},
          "output_type": "execute_result"
        },
        {
          "data": {
            "image/png": "[encoded data removed]",
            "text/plain": [
              "<Figure size 640x480 with 1 Axes>"
            ]
          },
          "metadata": {},
          "output_type": "display_data"
        }
      ],
      "source": [
        "from scipy.stats import norm\n",
        "\n",
        "# Trying to replicate Pyro results\n",
        "\n",
        "def predict_by_sample(X):\n",
        "\n",
        "    Y = np.zeros(len(X))\n",
        "\n",
        "    b1 = norm(loc=b1_mean, scale=b1_std).rvs()\n",
        "    b2 = norm(loc=b2_mean, scale=b2_std).rvs()\n",
        "    b3 = norm(loc=b3_mean, scale=b3_std).rvs()\n",
        "    \n",
        "    w1 = norm(loc=w1_mean, scale=w1_std).rvs()\n",
        "    w2 = norm(loc=w2_mean, scale=w2_std).rvs()\n",
        "    w3 = norm(loc=w3_mean, scale=w3_std).rvs()\n",
        "    w4 = norm(loc=w4_mean, scale=w4_std).rvs()\n",
        "    \n",
        "\n",
        "    for i in range(10):\n",
        "        h1 = max(w1 * X[i] + b1, 0)\n",
        "        h2 = max(w2 * X[i] + b2, 0)\n",
        "        Y[i] = w3 * h1 + w4 * h2 + b3\n",
        "\n",
        "    return Y, np.array([b1, b2, b3, w1, w2, w3, w4])\n",
        "\n",
        "def sample_predictions(X, n_samples=1000):\n",
        "    \n",
        "    Y_samples = []\n",
        "    pars_samples = []\n",
        "\n",
        "    for _ in range(n_samples):\n",
        "        Y, pars = predict_by_sample(X)\n",
        "        Y_samples.append(Y)\n",
        "        pars_samples.append(pars)\n",
        "\n",
        "    return np.array(Y_samples), np.array(pars_samples)\n",
        "\n",
        "#print('Result for x', sample_predictions(x, n_samples=1000))\n",
        "\n",
        "Y_samples, pars = sample_predictions(X.numpy(), n_samples=1000)\n",
        "\n",
        "Y_samples_mean = np.mean(Y_samples, axis=0)\n",
        "\n",
        "\n",
        "# With SOGA\n",
        "\n",
        "compiledFile=compile2SOGA('../programs/SOGA/Optimization/Case Studies/bnn3.soga')\n",
        "cfg = produce_cfg(compiledFile)\n",
        "smooth_cfg(cfg)\n",
        "\n",
        "mcmc_pars = {'muw1':w1_mean, 'muw2': w2_mean, 'muw3': w3_mean, 'muw4': w4_mean, 'mub1': b1_mean, 'mub2': b2_mean, 'mub3': b3_mean,\n",
        "             'sigmaw1': w1_std, 'sigmaw2': w2_std, 'sigmaw3': w3_std, 'sigmaw4': w4_std, 'sigmab1': b1_std, 'sigmab2': b2_std, 'sigmab3': b3_std}\n",
        "\n",
        "for key, value in mcmc_pars.items():\n",
        "    mcmc_pars[key] = torch.tensor(value, requires_grad=True)    \n",
        "\n",
        "output_dist = start_SOGA(cfg, mcmc_pars, pruning='ranking') #params_dict \n",
        "\n",
        "\n",
        "plt.plot(X.numpy(), Y.numpy(), \"kx\")\n",
        "plt.plot(X.numpy(), Y_samples_mean, \"blue\", ls=\"solid\", lw=2.0, label='sampling')\n",
        "plt.plot(X.numpy().flatten(), mean_prediction, \"red\", ls=\"solid\", lw=2.0, label='mean prediction')\n",
        "plt.plot(X.numpy().flatten(), output_dist.gm.mean()[:10].detach().numpy(), \"green\", ls=\"solid\", lw=2.0, label='SOGA')\n",
        "\n",
        "plt.legend()\n",
        "\n"
      ]
    },
    {
      "cell_type": "markdown",
      "metadata": {},
      "source": [
        "### SOGA Optimization"
      ]
    },
    {
      "cell_type": "code",
      "execution_count": 174,
      "metadata": {},
      "outputs": [],
      "source": [
        "def optimize(params_dict, loss_function, y, cfg, steps=500, lr=0.01):\n",
        "    optimizer = torch.optim.Adam([params_dict[key] for key in params_dict.keys()], lr)\n",
        "\n",
        "    total_start = time.time()\n",
        "\n",
        "    for i in range(steps):\n",
        "\n",
        "        optimizer.zero_grad()  # Reset gradients\n",
        "        \n",
        "        # loss\n",
        "        current_dist = start_SOGA(cfg, params_dict, pruning='ranking')\n",
        "\n",
        "        loss = loss_function(y, current_dist)\n",
        "\n",
        "        # Backpropagate\n",
        "        loss.backward(retain_graph=True)\n",
        "        \n",
        "        optimizer.step()\n",
        "\n",
        "        # Print progress\n",
        "        if i % int(steps/10) == 0:\n",
        "            out = ''\n",
        "            for key in params_dict.keys():\n",
        "                out = out + key + ': ' + str(params_dict[key].item()) + ' '\n",
        "            out = out + f\" loss: {loss.item()}\"\n",
        "            print(out)\n",
        "\n",
        "    total_end = time.time()\n",
        "\n",
        "    print('Optimization performed in ', round(total_end-total_start, 3))"
      ]
    },
    {
      "cell_type": "code",
      "execution_count": 176,
      "metadata": {},
      "outputs": [],
      "source": [
        "def mean_squared_error(y_true, dist):\n",
        "    return torch.mean((y_true - dist.gm.mean()) ** 2)\n",
        "\n",
        "def mean_squared_error_bayes(y_true, dist):\n",
        "    #This works for the means but of course not for the variances\n",
        "    return torch.mean((y_true - dist.gm.mean()[:-2]) ** 2)\n",
        "\n",
        "def neg_log_likelihood(y_true, dist):\n",
        "    #Calculate the log-likelihood of the data given the distribution\n",
        "    neg_log_likelihood = 0\n",
        "    idx = [0, 1, 2, 3, 4, 5, 6, 7, 8, 9]\n",
        "    neg_log_likelihood = -torch.sum(torch.log(dist.gm.marg_pdf(y_true, idx)))\n",
        "    return neg_log_likelihood"
      ]
    },
    {
      "cell_type": "code",
      "execution_count": 181,
      "metadata": {},
      "outputs": [
        {
          "data": {
            "text/plain": [
              "tensor(36620.3906, grad_fn=<NegBackward0>)"
            ]
          },
          "execution_count": 181,
          "metadata": {},
          "output_type": "execute_result"
        }
      ],
      "source": [
        "neg_log_likelihood(Y.unsqueeze(0), output_dist_init)"
      ]
    },
    {
      "cell_type": "code",
      "execution_count": 183,
      "metadata": {},
      "outputs": [
        {
          "ename": "IndexError",
          "evalue": "Dimension out of range (expected to be in range of [-1, 0], but got 1)",
          "output_type": "error",
          "traceback": [
            "\u001b[1;31m---------------------------------------------------------------------------\u001b[0m",
            "\u001b[1;31mIndexError\u001b[0m                                Traceback (most recent call last)",
            "Cell \u001b[1;32mIn[183], line 16\u001b[0m\n\u001b[0;32m     12\u001b[0m     mcmc_pars_init[key] \u001b[38;5;241m=\u001b[39m torch\u001b[38;5;241m.\u001b[39mtensor(value, requires_grad\u001b[38;5;241m=\u001b[39m\u001b[38;5;28;01mTrue\u001b[39;00m)    \n\u001b[0;32m     14\u001b[0m output_dist_init \u001b[38;5;241m=\u001b[39m start_SOGA(cfg, mcmc_pars_init, pruning\u001b[38;5;241m=\u001b[39m\u001b[38;5;124m'\u001b[39m\u001b[38;5;124mranking\u001b[39m\u001b[38;5;124m'\u001b[39m) \u001b[38;5;66;03m#params_dict \u001b[39;00m\n\u001b[1;32m---> 16\u001b[0m \u001b[38;5;28mprint\u001b[39m(\u001b[38;5;124m'\u001b[39m\u001b[38;5;124mloss:\u001b[39m\u001b[38;5;124m'\u001b[39m, neg_log_likelihood(Y\u001b[38;5;241m.\u001b[39msqueeze(\u001b[38;5;241m-\u001b[39m\u001b[38;5;241m1\u001b[39m)\u001b[38;5;241m.\u001b[39mt(), output_dist_init))\n\u001b[0;32m     18\u001b[0m plt\u001b[38;5;241m.\u001b[39mplot(X\u001b[38;5;241m.\u001b[39mnumpy(), Y\u001b[38;5;241m.\u001b[39mnumpy(), \u001b[38;5;124m\"\u001b[39m\u001b[38;5;124mkx\u001b[39m\u001b[38;5;124m\"\u001b[39m)\n\u001b[0;32m     19\u001b[0m plt\u001b[38;5;241m.\u001b[39mplot(X\u001b[38;5;241m.\u001b[39mnumpy()\u001b[38;5;241m.\u001b[39mflatten(), output_dist\u001b[38;5;241m.\u001b[39mgm\u001b[38;5;241m.\u001b[39mmean()[:\u001b[38;5;241m10\u001b[39m]\u001b[38;5;241m.\u001b[39mdetach()\u001b[38;5;241m.\u001b[39mnumpy(), \u001b[38;5;124m\"\u001b[39m\u001b[38;5;124mblue\u001b[39m\u001b[38;5;124m\"\u001b[39m, ls\u001b[38;5;241m=\u001b[39m\u001b[38;5;124m\"\u001b[39m\u001b[38;5;124msolid\u001b[39m\u001b[38;5;124m\"\u001b[39m, lw\u001b[38;5;241m=\u001b[39m\u001b[38;5;241m2.0\u001b[39m)\n",
            "Cell \u001b[1;32mIn[176], line 12\u001b[0m, in \u001b[0;36mneg_log_likelihood\u001b[1;34m(y_true, dist)\u001b[0m\n\u001b[0;32m     10\u001b[0m neg_log_likelihood \u001b[38;5;241m=\u001b[39m \u001b[38;5;241m0\u001b[39m\n\u001b[0;32m     11\u001b[0m idx \u001b[38;5;241m=\u001b[39m [\u001b[38;5;241m0\u001b[39m, \u001b[38;5;241m1\u001b[39m, \u001b[38;5;241m2\u001b[39m, \u001b[38;5;241m3\u001b[39m, \u001b[38;5;241m4\u001b[39m, \u001b[38;5;241m5\u001b[39m, \u001b[38;5;241m6\u001b[39m, \u001b[38;5;241m7\u001b[39m, \u001b[38;5;241m8\u001b[39m, \u001b[38;5;241m9\u001b[39m]\n\u001b[1;32m---> 12\u001b[0m neg_log_likelihood \u001b[38;5;241m=\u001b[39m \u001b[38;5;241m-\u001b[39mtorch\u001b[38;5;241m.\u001b[39msum(torch\u001b[38;5;241m.\u001b[39mlog(dist\u001b[38;5;241m.\u001b[39mgm\u001b[38;5;241m.\u001b[39mmarg_pdf(y_true, idx)))\n\u001b[0;32m     13\u001b[0m \u001b[38;5;28;01mreturn\u001b[39;00m neg_log_likelihood\n",
            "File \u001b[1;32mc:\\Users\\birik\\github\\DeGAS\\src\\libSOGAshared.py:118\u001b[0m, in \u001b[0;36mGaussianMix.marg_pdf\u001b[1;34m(self, x, idx)\u001b[0m\n\u001b[0;32m    117\u001b[0m \u001b[38;5;28;01mdef\u001b[39;00m \u001b[38;5;21mmarg_pdf\u001b[39m(\u001b[38;5;28mself\u001b[39m, x, idx):\n\u001b[1;32m--> 118\u001b[0m     comp_pdfs \u001b[38;5;241m=\u001b[39m torch\u001b[38;5;241m.\u001b[39mstack([\u001b[38;5;28mself\u001b[39m\u001b[38;5;241m.\u001b[39mmarg_comp_pdf(x, k,idx) \u001b[38;5;28;01mfor\u001b[39;00m k \u001b[38;5;129;01min\u001b[39;00m \u001b[38;5;28mrange\u001b[39m(\u001b[38;5;28mself\u001b[39m\u001b[38;5;241m.\u001b[39mn_comp())], dim\u001b[38;5;241m=\u001b[39m\u001b[38;5;241m1\u001b[39m)\n\u001b[0;32m    119\u001b[0m     pdf \u001b[38;5;241m=\u001b[39m comp_pdfs\u001b[38;5;241m*\u001b[39m\u001b[38;5;28mself\u001b[39m\u001b[38;5;241m.\u001b[39mpi\u001b[38;5;241m.\u001b[39mview(\u001b[38;5;241m-\u001b[39m\u001b[38;5;241m1\u001b[39m,\u001b[38;5;241m1\u001b[39m)\n\u001b[0;32m    120\u001b[0m     \u001b[38;5;28;01mreturn\u001b[39;00m torch\u001b[38;5;241m.\u001b[39msum(pdf, dim\u001b[38;5;241m=\u001b[39m\u001b[38;5;241m1\u001b[39m)\n",
            "\u001b[1;31mIndexError\u001b[0m: Dimension out of range (expected to be in range of [-1, 0], but got 1)"
          ]
        }
      ],
      "source": [
        "# What happens if we use the parameters found by MCMC in SOGA?\n",
        "\n",
        "from smoothcfg import *\n",
        "\n",
        "compiledFile=compile2SOGA('../programs/SOGA/Optimization/Case Studies/bnn3_mean_only.soga')\n",
        "cfg = produce_cfg(compiledFile)\n",
        "smooth_cfg(cfg)\n",
        "\n",
        "mcmc_pars_init = {'muw1': 0.0, 'muw2': 0.0, 'muw3': 0.0, 'muw4': 0.0, 'mub1': 0.0, 'mub2': 0.0, 'mub3': 0.0}\n",
        "\n",
        "for key, value in mcmc_pars_init.items():\n",
        "    mcmc_pars_init[key] = torch.tensor(value, requires_grad=True)    \n",
        "\n",
        "output_dist_init = start_SOGA(cfg, mcmc_pars_init, pruning='ranking') #params_dict \n",
        "\n",
        "print('loss:', neg_log_likelihood(Y.squeeze(-1).t(), output_dist_init))\n",
        "\n",
        "plt.plot(X.numpy(), Y.numpy(), \"kx\")\n",
        "plt.plot(X.numpy().flatten(), output_dist.gm.mean()[:10].detach().numpy(), \"blue\", ls=\"solid\", lw=2.0)\n"
      ]
    },
    {
      "cell_type": "code",
      "execution_count": null,
      "metadata": {},
      "outputs": [],
      "source": [
        "compiledFile=compile2SOGA('../programs/SOGA/Optimization/Case Studies/bnn3.soga')\n",
        "cfg = produce_cfg(compiledFile)\n",
        "\n",
        "#let's remove sigma of b3\n",
        "#pars = {'muw1':0., 'sigmaw1':1., 'muw2':0., 'sigmaw2':1.,'muw3':0., 'sigmaw3':1.,'muw4':0., 'sigmaw4':1.,'mub1':0., 'sigmab1':1.,'mub2':0., 'sigmab2':1.,'mub3':0., 'sigmab3':1.}\n",
        "#let's optimize only the means\n",
        "#pars = {'muw1':0., 'sigmaw1':1., 'muw2':0., 'sigmaw2':1.,'muw3':0., 'sigmaw3':1.,'muw4':0., 'sigmaw4':1.,'mub1':0., 'sigmab1':1.,'mub2':0., 'sigmab2':1.,'mub3':0.}\n",
        "mcmc_pars = {'muw1': 1.95, 'muw2': 3.58, 'muw3': 1.79, 'muw4': -4.08, 'mub1': 0.19, 'mub2': -2.26, 'mub3': -0.33}\n",
        "pars = {'muw1':0., 'muw2':0.,'muw3':0.,'muw4':0.,'mub1':0.,'mub2':0.,'mub3':0.}\n",
        "\n",
        "for key, value in mcmc_pars.items():\n",
        "    pars[key] = torch.tensor(value, requires_grad=True)    \n",
        "\n",
        "output_dist = start_SOGA(cfg, pars, pruning='ranking') #params_dict \n",
        "\n",
        "#optimize(pars, neg_log_likelihood, Y.unsqueeze(1), cfg, steps=1000, lr = 0.01)\n",
        "\n",
        "#predictive mean\n",
        "#y_pred = params_dict['muw'].detach().numpy()*X.detach().numpy()+params_dict['mub'].detach().numpy()\n",
        "\n",
        "#predictive variance\n",
        "#sigma_y_pred = np.sqrt(params_dict['sigmay'].detach().numpy()**2 + (X.detach().numpy()*params_dict['sigmaw'].detach().numpy())**2 + params_dict['sigmab'].detach().numpy()**2)\n",
        "\n"
      ]
    },
    {
      "cell_type": "code",
      "execution_count": null,
      "metadata": {},
      "outputs": [],
      "source": [
        "output_dist = start_SOGA(cfg, pars, pruning='ranking')"
      ]
    },
    {
      "cell_type": "code",
      "execution_count": null,
      "metadata": {},
      "outputs": [
        {
          "data": {
            "image/png": "[encoded data removed]",
            "text/plain": [
              "<Figure size 640x480 with 1 Axes>"
            ]
          },
          "metadata": {},
          "output_type": "display_data"
        }
      ],
      "source": [
        "# plot training data\n",
        "plt.plot(X.numpy(), Y.numpy(), \"kx\")\n",
        "# plot 90% confidence level of predictions\n",
        "#plt.fill_between(X.numpy().flatten(), percentiles[0, :], percentiles[1, :], color=\"lightblue\")\n",
        "# plot mean prediction\n",
        "plt.plot(X.numpy().flatten(), output_dist.gm.mean()[:10].detach().numpy(), \"blue\", ls=\"solid\", lw=2.0)\n",
        "#ax.set(xlabel=\"X\", ylabel=\"Y\", title=\"Mean predictions with 90% CI\")\n",
        "\n",
        "#plt.savefig(\"bnn_plot_pyro.pdf\")\n",
        "plt.show()\n"
      ]
    },
    {
      "cell_type": "code",
      "execution_count": null,
      "metadata": {},
      "outputs": [
        {
          "data": {
            "text/plain": [
              "tensor([0.0040, 0.0035, 0.0041, 0.0048, 0.0056, 0.0063, 0.0069, 0.0073, 0.0075,\n",
              "        0.0075], grad_fn=<SliceBackward0>)"
            ]
          },
          "execution_count": 33,
          "metadata": {},
          "output_type": "execute_result"
        }
      ],
      "source": [
        "output_dist.gm.mean()[:10]"
      ]
    }
  ],
  "metadata": {
    "kernelspec": {
      "display_name": "base",
      "language": "python",
      "name": "python3"
    },
    "language_info": {
      "codemirror_mode": {
        "name": "ipython",
        "version": 3
      },
      "file_extension": ".py",
      "mimetype": "text/x-python",
      "name": "python",
      "nbconvert_exporter": "python",
      "pygments_lexer": "ipython3",
      "version": "3.11.5"
    }
  },
  "nbformat": 4,
  "nbformat_minor": 0
}
