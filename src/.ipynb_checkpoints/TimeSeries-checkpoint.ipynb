{
 "cells": [
  {
   "cell_type": "code",
   "execution_count": 2,
   "id": "1bd36f89",
   "metadata": {},
   "outputs": [],
   "source": [
    "from sogaPreprocessor import *\n",
    "from producecfg import *\n",
    "from libSOGA import *\n",
    "from time import time"
   ]
  },
  {
   "cell_type": "code",
   "execution_count": 8,
   "id": "443380a9",
   "metadata": {
    "scrolled": true
   },
   "outputs": [
    {
     "name": "stdout",
     "output_type": "stream",
     "text": [
      "TimeSeries 1 computed in 0.1\n",
      "TimeSeries 2 computed in 0.09\n",
      "TimeSeries 3 computed in 0.09\n",
      "TimeSeries 4 computed in 0.13\n",
      "TimeSeries 5 computed in 0.13\n",
      "TimeSeries 6 computed in 0.13\n",
      "TimeSeries 7 computed in 0.4\n",
      "TimeSeries 8 computed in 0.6\n",
      "TimeSeries 9 computed in 0.17\n",
      "TimeSeries 10 computed in 0.16\n"
     ]
    }
   ],
   "source": [
    "for i in range(1,11):\n",
    "    file_name = '../programs/SOGA/SensitivityExp/#variables/timeseries/TimeSeries{}.soga'.format(i)\n",
    "    compiledFile=compile2SOGA(file_name)\n",
    "    cfg = produce_cfg(compiledFile)\n",
    "    start = time()\n",
    "    output_dist = start_SOGA(cfg, useR=True)\n",
    "    end = time()\n",
    "    print('TimeSeries {} computed in {}'.format(i, np.round(end-start,2)))"
   ]
  },
  {
   "cell_type": "code",
   "execution_count": 22,
   "id": "a6a41369",
   "metadata": {},
   "outputs": [],
   "source": [
    "f = open(\"../programs/SOGA/SensitivityExp/#variables/timeseries2/TimeSeries10.soga\", \"w\")\n",
    "f.write(\"a = gm([1.], [1.], [1.]);\\n\")\n",
    "f.write(\"b = gm([1.], [1.], [1.]);\\n\")\n",
    "f.write(\"lamb = uniform([0,1], 2);\\n\\n\")\n",
    "f.write(\"y0 = 1\")\n",
    "for i in range(1,10):\n",
    "    f.write(\"y{} = lamb*y{};\\n\".format(i,i-1))\n",
    "    f.write(\"y{} = y{} + 5*b + a;\\n\".format(i,i))\n",
    "f.write('observe(y{} > 0)\\n'.format(i))\n",
    "f.close()"
   ]
  },
  {
   "cell_type": "code",
   "execution_count": 12,
   "id": "affc4e9b",
   "metadata": {
    "scrolled": true
   },
   "outputs": [
    {
     "name": "stdout",
     "output_type": "stream",
     "text": [
      "TimeSeries 1 computed in 0.15\n"
     ]
    }
   ],
   "source": [
    "for i in range(1,2):\n",
    "    file_name = '../programs/SOGA/SensitivityExp/#variables/timeseries2/TimeSeries{}.soga'.format(i)\n",
    "    compiledFile=compile2SOGA(file_name)\n",
    "    cfg = produce_cfg(compiledFile)\n",
    "    start = time()\n",
    "    output_dist = start_SOGA(cfg, useR=True)\n",
    "    end = time()\n",
    "    print('TimeSeries {} computed in {}'.format(i, np.round(end-start,2)))"
   ]
  },
  {
   "cell_type": "code",
   "execution_count": null,
   "id": "0ec447d5",
   "metadata": {},
   "outputs": [],
   "source": []
  }
 ],
 "metadata": {
  "kernelspec": {
   "display_name": "Python 3 (ipykernel)",
   "language": "python",
   "name": "python3"
  },
  "language_info": {
   "codemirror_mode": {
    "name": "ipython",
    "version": 3
   },
   "file_extension": ".py",
   "mimetype": "text/x-python",
   "name": "python",
   "nbconvert_exporter": "python",
   "pygments_lexer": "ipython3",
   "version": "3.11.5"
  }
 },
 "nbformat": 4,
 "nbformat_minor": 5
}
