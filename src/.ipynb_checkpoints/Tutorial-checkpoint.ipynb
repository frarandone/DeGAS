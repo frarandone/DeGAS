{
 "cells": [
  {
   "cell_type": "code",
   "execution_count": 1,
   "id": "e601c53a",
   "metadata": {},
   "outputs": [],
   "source": [
    "from sogaPreprocessor import *\n",
    "from producecfg import *\n",
    "from libSOGA import *"
   ]
  },
  {
   "cell_type": "markdown",
   "id": "f9984608-f4cf-4f75-800f-828955f62303",
   "metadata": {},
   "source": [
    "# Reading program from string"
   ]
  },
  {
   "cell_type": "code",
   "execution_count": 2,
   "id": "16b76d83",
   "metadata": {},
   "outputs": [],
   "source": [
    "compiledFile=compile2SOGA_text('a = uniform([0,1], 2);')"
   ]
  },
  {
   "cell_type": "code",
   "execution_count": 3,
   "id": "a4b1a21f-bf06-440a-95b3-2ac0bbabed7e",
   "metadata": {},
   "outputs": [],
   "source": [
    "cfg = produce_cfg_text(compiledFile)"
   ]
  },
  {
   "cell_type": "code",
   "execution_count": 4,
   "id": "374e7230-acba-4d81-8350-4fc2f61b8f3e",
   "metadata": {},
   "outputs": [
    {
     "data": {
      "text/plain": [
       "{'entry': EntryNode<>,\n",
       " 'state0': StateNode<state0,None,a=gm([0.5, 0.5],[0.25, 0.75],[0.1443, 0.1443])>,\n",
       " 'exit': ExitNode<>}"
      ]
     },
     "execution_count": 4,
     "metadata": {},
     "output_type": "execute_result"
    }
   ],
   "source": [
    "cfg.node_list"
   ]
  },
  {
   "cell_type": "code",
   "execution_count": 5,
   "id": "bec9c0f2-1e02-4599-bd99-eb5f2350a8c8",
   "metadata": {},
   "outputs": [],
   "source": [
    "output_dist = start_SOGA(cfg)"
   ]
  },
  {
   "cell_type": "code",
   "execution_count": 6,
   "id": "33b883fd-b439-463f-a28e-07eeba627713",
   "metadata": {},
   "outputs": [
    {
     "data": {
      "text/plain": [
       "Dist<['a'],pi: [tensor(0.5000), tensor(0.5000)]  mu: [tensor([0.2500]), tensor([0.7500])] sigma: [tensor([[0.0208]]), tensor([[0.0208]])]>"
      ]
     },
     "execution_count": 6,
     "metadata": {},
     "output_type": "execute_result"
    }
   ],
   "source": [
    "output_dist"
   ]
  },
  {
   "cell_type": "code",
   "execution_count": null,
   "id": "4b10f0d6-3a02-4ef1-94ce-eb823c7ff6ee",
   "metadata": {},
   "outputs": [],
   "source": []
  }
 ],
 "metadata": {
  "kernelspec": {
   "display_name": "Python 3 (ipykernel)",
   "language": "python",
   "name": "python3"
  },
  "language_info": {
   "codemirror_mode": {
    "name": "ipython",
    "version": 3
   },
   "file_extension": ".py",
   "mimetype": "text/x-python",
   "name": "python",
   "nbconvert_exporter": "python",
   "pygments_lexer": "ipython3",
   "version": "3.11.5"
  }
 },
 "nbformat": 4,
 "nbformat_minor": 5
}
