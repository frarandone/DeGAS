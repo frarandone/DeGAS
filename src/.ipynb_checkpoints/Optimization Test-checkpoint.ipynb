{
 "cells": [
  {
   "cell_type": "code",
   "execution_count": 1,
   "id": "afa5e2d3-2260-471c-adc0-83ca1a02a269",
   "metadata": {},
   "outputs": [],
   "source": [
    "from sogaPreprocessor import *\n",
    "from producecfg import *\n",
    "from libSOGA import *"
   ]
  },
  {
   "cell_type": "code",
   "execution_count": 2,
   "id": "35c7222b-2ab7-4352-b9a6-2d04c27bcb4c",
   "metadata": {},
   "outputs": [],
   "source": [
    "def neg_likelihood(dist, samples, idx=0):\n",
    "    likelihood = dist.gm.marg_pdf(samples,idx)\n",
    "    log_likelihood = torch.log(likelihood)\n",
    "    return -torch.sum(log_likelihood)"
   ]
  },
  {
   "cell_type": "markdown",
   "id": "5356113e-ee71-47fc-9b50-e352b4a8c9ba",
   "metadata": {},
   "source": [
    "### Test 1\n",
    "``` a = gm([1.], [_mean], [1.]); ```\n",
    "\n",
    "\n",
    "Genero sample da $\\mathcal{N}(10,1)$"
   ]
  },
  {
   "cell_type": "code",
   "execution_count": 3,
   "id": "bc32fd89-c025-4197-beca-57339a396dee",
   "metadata": {},
   "outputs": [],
   "source": [
    "compiledFile=compile2SOGA('../programs/SOGA/Optimization/Optim1.soga')\n",
    "cfg = produce_cfg(compiledFile)"
   ]
  },
  {
   "cell_type": "code",
   "execution_count": 4,
   "id": "6a510e21-0638-462c-b6be-93837c8b7c1f",
   "metadata": {},
   "outputs": [],
   "source": [
    "pars = {'mean':5.}\n",
    "\n",
    "# creates torch parameters for each params declared in the dictionary\n",
    "params_dict = {}\n",
    "for key, value in pars.items():\n",
    "    params_dict[key] = torch.tensor(value, requires_grad=True)    "
   ]
  },
  {
   "cell_type": "code",
   "execution_count": 5,
   "id": "073288eb-d51b-4cd0-90a9-73968cfaa1ae",
   "metadata": {},
   "outputs": [],
   "source": [
    "output_dist = start_SOGA(cfg, params_dict)"
   ]
  },
  {
   "cell_type": "code",
   "execution_count": 6,
   "id": "444c6d6f-561a-4082-94df-c6664d191b41",
   "metadata": {},
   "outputs": [
    {
     "data": {
      "text/plain": [
       "Dist<['a'],pi: [tensor(1.)]  mu: [tensor([5.], grad_fn=<CopySlices>)] sigma: [tensor([[1.]])]>"
      ]
     },
     "execution_count": 6,
     "metadata": {},
     "output_type": "execute_result"
    }
   ],
   "source": [
    "output_dist"
   ]
  },
  {
   "cell_type": "code",
   "execution_count": 7,
   "id": "3324f797-9a95-4f6a-8306-9b104465c151",
   "metadata": {},
   "outputs": [],
   "source": [
    "sampling_mean = torch.tensor(10.)\n",
    "sampling_std = torch.tensor(1.)\n",
    "samples = distributions.Normal(sampling_mean, sampling_std).sample((100,1))"
   ]
  },
  {
   "cell_type": "code",
   "execution_count": 8,
   "id": "e320eb98-ae82-4c9d-8434-806fe1a7d90a",
   "metadata": {},
   "outputs": [
    {
     "name": "stdout",
     "output_type": "stream",
     "text": [
      "mean: 5.050000190734863 loss: 1380.4085693359375\n",
      "mean: 7.354247093200684 loss: 497.5049133300781\n",
      "mean: 8.892309188842773 loss: 205.18161010742188\n",
      "mean: 9.641339302062988 loss: 150.24642944335938\n",
      "mean: 9.900365829467773 loss: 144.75856018066406\n",
      "mean: 9.961709022521973 loss: 144.49099731445312\n",
      "mean: 9.971027374267578 loss: 144.48550415039062\n",
      "mean: 9.971769332885742 loss: 144.4854736328125\n",
      "mean: 9.971776962280273 loss: 144.4854736328125\n",
      "mean: 9.971776962280273 loss: 144.4854736328125\n"
     ]
    }
   ],
   "source": [
    "import torch\n",
    "\n",
    "# Define the optimizer with init_mean as the parameter\n",
    "\n",
    "optimizer = torch.optim.Adam([params_dict[key] for key in params_dict.keys()], lr=0.05)\n",
    "\n",
    "for i in range(500):\n",
    "    optimizer.zero_grad()  # Reset gradients\n",
    "    \n",
    "    # loss\n",
    "    #current_dist = compute_posterior(init_mean)\n",
    "    current_dist = start_SOGA(cfg, params_dict)\n",
    "    loss = neg_likelihood(current_dist, samples)\n",
    "    \n",
    "    # Backpropagate\n",
    "    loss.backward()\n",
    "    \n",
    "    # Update init_mean\n",
    "    optimizer.step()\n",
    "\n",
    "    #with torch.no_grad():\n",
    "    #    params_dict['std'].clamp_(0.001, 1e10)\n",
    "    \n",
    "    # Print progress\n",
    "    if i % 50 == 0:\n",
    "        out = ''\n",
    "        for key in params_dict.keys():\n",
    "            out = out + key + ': ' + str(params_dict[key].item())\n",
    "        out = out + f\" loss: {loss.item()}\"\n",
    "        print(out)\n"
   ]
  },
  {
   "cell_type": "code",
   "execution_count": 9,
   "id": "b82fc13e-2507-4bf5-a308-d6c8bd382c2e",
   "metadata": {},
   "outputs": [
    {
     "name": "stdout",
     "output_type": "stream",
     "text": [
      "Likelihood with respect to the sampling distribution:  tensor(144.5253)\n",
      "Likelihood in the optimized distribution:  tensor(144.4855, grad_fn=<NegBackward0>)\n"
     ]
    }
   ],
   "source": [
    "sampling_dist = Dist(['x'], GaussianMix([torch.tensor(1.)], [torch.tensor([sampling_mean.item()])], [torch.tensor([[sampling_std.item()]])]))\n",
    "print('Likelihood with respect to the sampling distribution: ', neg_likelihood(sampling_dist, samples))\n",
    "output_dist = start_SOGA(cfg, params_dict)\n",
    "print('Likelihood in the optimized distribution: ', neg_likelihood(output_dist, samples))"
   ]
  },
  {
   "cell_type": "markdown",
   "id": "5d2fd792-94ec-4c59-b7a1-b7e65682b9eb",
   "metadata": {},
   "source": [
    "### Test 2\n",
    "\n",
    "``` a = gm([1.], [10.], [_std]);  ```"
   ]
  },
  {
   "cell_type": "code",
   "execution_count": 10,
   "id": "6c7a0dfd-c676-4095-b08a-ee9bc9170ed3",
   "metadata": {},
   "outputs": [],
   "source": [
    "compiledFile=compile2SOGA('../programs/SOGA/Optimization/Optim2.soga')\n",
    "cfg = produce_cfg(compiledFile)"
   ]
  },
  {
   "cell_type": "code",
   "execution_count": 11,
   "id": "7b95adf8-5d95-4e37-857a-3687955a2742",
   "metadata": {},
   "outputs": [],
   "source": [
    "pars = {'std':2.}\n",
    "\n",
    "# creates torch parameters for each params declared in the dictionary\n",
    "params_dict = {}\n",
    "for key, value in pars.items():\n",
    "    params_dict[key] = torch.tensor(value, requires_grad=True)    "
   ]
  },
  {
   "cell_type": "code",
   "execution_count": 12,
   "id": "b00af0f2-5497-410e-b474-986f2a310c9b",
   "metadata": {},
   "outputs": [],
   "source": [
    "output_dist = start_SOGA(cfg, params_dict)"
   ]
  },
  {
   "cell_type": "code",
   "execution_count": 13,
   "id": "d97f65c6-feee-4eea-b0a9-7f41b5b84abb",
   "metadata": {},
   "outputs": [
    {
     "data": {
      "text/plain": [
       "Dist<['a'],pi: [tensor(1.)]  mu: [tensor([10.])] sigma: [tensor([[4.]], grad_fn=<CopySlices>)]>"
      ]
     },
     "execution_count": 13,
     "metadata": {},
     "output_type": "execute_result"
    }
   ],
   "source": [
    "output_dist"
   ]
  },
  {
   "cell_type": "code",
   "execution_count": 14,
   "id": "a35a5f86-53e7-4b5f-ae4d-5b8674cd9919",
   "metadata": {},
   "outputs": [
    {
     "name": "stdout",
     "output_type": "stream",
     "text": [
      "samples std tensor(0.9807)\n"
     ]
    }
   ],
   "source": [
    "sampling_mean = torch.tensor(10.)\n",
    "sampling_std = torch.tensor(1.)\n",
    "samples = distributions.Normal(sampling_mean, sampling_std).sample((1000,1))\n",
    "print('samples std', torch.std(samples))"
   ]
  },
  {
   "cell_type": "code",
   "execution_count": 15,
   "id": "8f270789-dc91-4aec-bb57-de7c7d7cd9e3",
   "metadata": {},
   "outputs": [
    {
     "name": "stdout",
     "output_type": "stream",
     "text": [
      "std: 1.9900000095367432 loss: 1732.2396240234375\n",
      "std: 1.4880127906799316 loss: 1537.2430419921875\n",
      "std: 1.0558258295059204 loss: 1405.1934814453125\n",
      "std: 0.9757500290870667 loss: 1399.1962890625\n",
      "std: 0.980550229549408 loss: 1399.168701171875\n",
      "std: 0.9804449677467346 loss: 1399.168701171875\n",
      "std: 0.9804225564002991 loss: 1399.168701171875\n",
      "std: 0.9804243445396423 loss: 1399.168701171875\n",
      "std: 0.9804243445396423 loss: 1399.168701171875\n",
      "std: 0.9804243445396423 loss: 1399.168701171875\n"
     ]
    }
   ],
   "source": [
    "import torch\n",
    "\n",
    "# Define the optimizer with init_mean as the parameter\n",
    "\n",
    "optimizer = torch.optim.Adam([params_dict[key] for key in params_dict.keys()], lr=0.01)\n",
    "\n",
    "for i in range(500):\n",
    "    optimizer.zero_grad()  # Reset gradients\n",
    "    \n",
    "    # loss\n",
    "    #current_dist = compute_posterior(init_mean)\n",
    "    current_dist = start_SOGA(cfg, params_dict)\n",
    "    loss = neg_likelihood(current_dist, samples)\n",
    "    \n",
    "    # Backpropagate\n",
    "    loss.backward()\n",
    "    \n",
    "    # Update init_mean\n",
    "    optimizer.step()\n",
    "\n",
    "    #with torch.no_grad():\n",
    "    #    params_dict['std'].clamp_(0.001, 1e10)\n",
    "    \n",
    "    # Print progress\n",
    "    if i % 50 == 0:\n",
    "        out = ''\n",
    "        for key in params_dict.keys():\n",
    "            out = out + key + ': ' + str(params_dict[key].item())\n",
    "        out = out + f\" loss: {loss.item()}\"\n",
    "        print(out)\n"
   ]
  },
  {
   "cell_type": "code",
   "execution_count": 16,
   "id": "0f456a88-09ca-42b8-ba8d-0fb7b3a05555",
   "metadata": {},
   "outputs": [
    {
     "name": "stdout",
     "output_type": "stream",
     "text": [
      "Likelihood with respect to the sampling distribution:  tensor(1399.5544)\n",
      "Likelihood in the optimized distribution:  tensor(1399.1687, grad_fn=<NegBackward0>)\n"
     ]
    }
   ],
   "source": [
    "sampling_dist = Dist(['x'], GaussianMix([torch.tensor(1.)], [torch.tensor([sampling_mean.item()])], [torch.tensor([[sampling_std.item()**2]])]))\n",
    "print('Likelihood with respect to the sampling distribution: ', neg_likelihood(sampling_dist, samples))\n",
    "output_dist = start_SOGA(cfg, params_dict)\n",
    "print('Likelihood in the optimized distribution: ', neg_likelihood(output_dist, samples))"
   ]
  },
  {
   "cell_type": "code",
   "execution_count": 17,
   "id": "cdb1f49b-ab48-41b5-b33b-ca044f5c850b",
   "metadata": {},
   "outputs": [
    {
     "data": {
      "text/plain": [
       "<matplotlib.legend.Legend at 0x207b9226b50>"
      ]
     },
     "execution_count": 17,
     "metadata": {},
     "output_type": "execute_result"
    },
    {
     "data": {
      "image/png": "[encoded data removed]",
      "text/plain": [
       "<Figure size 640x480 with 1 Axes>"
      ]
     },
     "metadata": {},
     "output_type": "display_data"
    }
   ],
   "source": [
    "import matplotlib.pyplot as plt\n",
    "from scipy.stats import norm\n",
    "\n",
    "npsamples = np.array([sample.item() for sample in samples])\n",
    "_ = plt.hist(npsamples, bins=50, density=True)\n",
    "\n",
    "x = np.linspace(7,14,500)\n",
    "y_sampling = norm(sampling_mean.item(), sampling_std.item()).pdf(x)\n",
    "y_optim = norm(sampling_mean.item(), params_dict['std'].item()).pdf(x)\n",
    "\n",
    "plt.plot(x, y_sampling, label='sampling dist')\n",
    "plt.plot(x, y_optim, label='optimized dist')\n",
    "plt.legend()"
   ]
  },
  {
   "cell_type": "markdown",
   "id": "d10259be-b201-40e5-a8c2-19adaa9a1d8c",
   "metadata": {},
   "source": [
    "### TEST 3\n",
    "\n",
    "```\n",
    "a = gm([1.], [1.], [1.]);\n",
    "a = _par1 * a + 1.;\n",
    "```\n",
    "\n",
    "sample from the program with _par1 = 2"
   ]
  },
  {
   "cell_type": "code",
   "execution_count": 18,
   "id": "fa0ed12a-92de-401e-94b2-abe5d6a7a31c",
   "metadata": {},
   "outputs": [],
   "source": [
    "from sogaPreprocessor import *\n",
    "from producecfg import *\n",
    "from libSOGA import *"
   ]
  },
  {
   "cell_type": "code",
   "execution_count": 19,
   "id": "1302ade0-2e2b-4d40-8466-166eb3a0be4a",
   "metadata": {},
   "outputs": [],
   "source": [
    "compiledFile=compile2SOGA('../programs/SOGA/Optimization/Optim3.soga')\n",
    "cfg = produce_cfg(compiledFile)"
   ]
  },
  {
   "cell_type": "code",
   "execution_count": 20,
   "id": "8467e04b-2f43-4ba5-89a6-314d535939e4",
   "metadata": {},
   "outputs": [],
   "source": [
    "pars = {'par1':1.}\n",
    "\n",
    "# creates torch parameters for each params declared in the dictionary\n",
    "params_dict = {}\n",
    "for key, value in pars.items():\n",
    "    params_dict[key] = torch.tensor(value, requires_grad=True)    "
   ]
  },
  {
   "cell_type": "code",
   "execution_count": 21,
   "id": "711d5689-ac34-4abb-8858-12d21540026a",
   "metadata": {},
   "outputs": [],
   "source": [
    "output_dist = start_SOGA(cfg, params_dict)"
   ]
  },
  {
   "cell_type": "code",
   "execution_count": 22,
   "id": "3d89e41b-adda-4500-872d-8e2ab3dd7b17",
   "metadata": {},
   "outputs": [
    {
     "data": {
      "text/plain": [
       "Dist<['a'],pi: [tensor(1.)]  mu: [tensor([1.], grad_fn=<CopySlices>)] sigma: [tensor([[1.]], grad_fn=<CopySlices>)]>"
      ]
     },
     "execution_count": 22,
     "metadata": {},
     "output_type": "execute_result"
    }
   ],
   "source": [
    "output_dist"
   ]
  },
  {
   "cell_type": "code",
   "execution_count": 23,
   "id": "c236c5d1-535d-4a99-aec7-6cecb4386165",
   "metadata": {},
   "outputs": [],
   "source": [
    "sampling_mean = torch.tensor(2.)\n",
    "sampling_std = torch.tensor(2.)\n",
    "samples = distributions.Normal(sampling_mean, sampling_std).sample((1000,1))"
   ]
  },
  {
   "cell_type": "code",
   "execution_count": 24,
   "id": "cfdf8d6e-d857-4292-b4af-5a9198acb880",
   "metadata": {},
   "outputs": [
    {
     "data": {
      "text/plain": [
       "tensor(3.6270)"
      ]
     },
     "execution_count": 24,
     "metadata": {},
     "output_type": "execute_result"
    }
   ],
   "source": [
    "torch.var(samples)"
   ]
  },
  {
   "cell_type": "code",
   "execution_count": 25,
   "id": "c269025e-7a9b-427b-a941-10dd0666bf2e",
   "metadata": {},
   "outputs": [
    {
     "name": "stdout",
     "output_type": "stream",
     "text": [
      "par1: 1.0099999904632568 loss: 3336.4365234375\n",
      "par1: 1.4059816598892212 loss: 2304.438720703125\n",
      "par1: 1.6073486804962158 loss: 2143.393310546875\n",
      "par1: 1.729180097579956 loss: 2096.1103515625\n",
      "par1: 1.8102502822875977 loss: 2078.33837890625\n",
      "par1: 1.865561604499817 loss: 2071.083740234375\n",
      "par1: 1.9033432006835938 loss: 2068.052001953125\n",
      "par1: 1.9288599491119385 loss: 2066.79541015625\n",
      "par1: 1.9457582235336304 loss: 2066.28955078125\n",
      "par1: 1.9566659927368164 loss: 2066.09423828125\n"
     ]
    }
   ],
   "source": [
    "import torch\n",
    "\n",
    "# Define the optimizer with init_mean as the parameter\n",
    "\n",
    "optimizer = torch.optim.Adam([params_dict[key] for key in params_dict.keys()], lr=0.01)\n",
    "\n",
    "for i in range(500):\n",
    "    optimizer.zero_grad()  # Reset gradients\n",
    "    \n",
    "    # loss\n",
    "    #current_dist = compute_posterior(init_mean)\n",
    "    current_dist = start_SOGA(cfg, params_dict)\n",
    "    loss = neg_likelihood(current_dist, samples)\n",
    "    \n",
    "    # Backpropagate\n",
    "    loss.backward()\n",
    "    \n",
    "    # Update init_mean\n",
    "    optimizer.step()\n",
    "\n",
    "    #with torch.no_grad():\n",
    "    #    params_dict['std'].clamp_(0.001, 1e10)\n",
    "    \n",
    "    # Print progress\n",
    "    if i % 50 == 0:\n",
    "        out = ''\n",
    "        for key in params_dict.keys():\n",
    "            out = out + key + ': ' + str(params_dict[key].item())\n",
    "        out = out + f\" loss: {loss.item()}\"\n",
    "        print(out)\n"
   ]
  },
  {
   "cell_type": "code",
   "execution_count": 26,
   "id": "b3236c5d-6773-4a29-8360-0d3c513b6a88",
   "metadata": {},
   "outputs": [
    {
     "name": "stdout",
     "output_type": "stream",
     "text": [
      "Likelihood with respect to the sampling distribution:  tensor(2066.2712)\n",
      "Likelihood in the optimized distribution:  tensor(2066.0229, grad_fn=<NegBackward0>)\n"
     ]
    }
   ],
   "source": [
    "sampling_dist = Dist(['x'], GaussianMix([torch.tensor(1.)], [torch.tensor([sampling_mean.item()])], [torch.tensor([[sampling_std.item()**2]])]))\n",
    "print('Likelihood with respect to the sampling distribution: ', neg_likelihood(sampling_dist, samples))\n",
    "output_dist = start_SOGA(cfg, params_dict)\n",
    "print('Likelihood in the optimized distribution: ', neg_likelihood(output_dist, samples))"
   ]
  },
  {
   "cell_type": "code",
   "execution_count": 27,
   "id": "e2d6acb1-13d6-45e0-819c-943fc78df34d",
   "metadata": {},
   "outputs": [
    {
     "data": {
      "text/plain": [
       "<matplotlib.legend.Legend at 0x207b934c910>"
      ]
     },
     "execution_count": 27,
     "metadata": {},
     "output_type": "execute_result"
    },
    {
     "data": {
      "image/png": "[encoded data removed]",
      "text/plain": [
       "<Figure size 640x480 with 1 Axes>"
      ]
     },
     "metadata": {},
     "output_type": "display_data"
    }
   ],
   "source": [
    "import matplotlib.pyplot as plt\n",
    "from scipy.stats import norm\n",
    "\n",
    "npsamples = np.array([sample.item() for sample in samples])\n",
    "_ = plt.hist(npsamples, bins=50, density=True)\n",
    "\n",
    "x = np.linspace(-4,8,500)\n",
    "y_sampling = norm(sampling_mean.item(), sampling_std.item()).pdf(x)\n",
    "y_optim = norm(sampling_mean.item(), np.sqrt(output_dist.gm.sigma[0][0,0].item())).pdf(x)\n",
    "\n",
    "plt.plot(x, y_sampling, label='sampling dist')\n",
    "plt.plot(x, y_optim, label='optimized dist')\n",
    "plt.legend()"
   ]
  },
  {
   "cell_type": "markdown",
   "id": "addc1f56-2bd0-4f2d-b293-68a0f4245ff5",
   "metadata": {},
   "source": [
    "### TEST 4\n",
    "\n",
    "```\n",
    "a = gm([1.], [1.], [1.]);\n",
    "a = 2 * a + _par2;\n",
    "```\n",
    "\n",
    "sample from the program with _par2 = 1"
   ]
  },
  {
   "cell_type": "code",
   "execution_count": 28,
   "id": "b4b40ead-ee7e-496f-90c4-692832df0a8b",
   "metadata": {},
   "outputs": [],
   "source": [
    "from sogaPreprocessor import *\n",
    "from producecfg import *\n",
    "from libSOGA import *"
   ]
  },
  {
   "cell_type": "code",
   "execution_count": 29,
   "id": "69910b59-83e5-4af6-8dff-c95253417cf3",
   "metadata": {},
   "outputs": [],
   "source": [
    "compiledFile=compile2SOGA('../programs/SOGA/Optimization/Optim4.soga')\n",
    "cfg = produce_cfg(compiledFile)"
   ]
  },
  {
   "cell_type": "code",
   "execution_count": 30,
   "id": "9535b697-437f-47a5-9c13-a08c8fa3c595",
   "metadata": {},
   "outputs": [],
   "source": [
    "pars = {'par2':2.}\n",
    "\n",
    "# creates torch parameters for each params declared in the dictionary\n",
    "params_dict = {}\n",
    "for key, value in pars.items():\n",
    "    params_dict[key] = torch.tensor(value, requires_grad=True)    "
   ]
  },
  {
   "cell_type": "code",
   "execution_count": 31,
   "id": "8296fef1-9480-4a01-8d60-58f0873e6720",
   "metadata": {},
   "outputs": [],
   "source": [
    "output_dist = start_SOGA(cfg, params_dict)"
   ]
  },
  {
   "cell_type": "code",
   "execution_count": 32,
   "id": "4a7f820c-ad29-42ac-bc86-cbbdd5d1a7c7",
   "metadata": {},
   "outputs": [
    {
     "data": {
      "text/plain": [
       "Dist<['a'],pi: [tensor(1.)]  mu: [tensor([4.], grad_fn=<CopySlices>)] sigma: [tensor([[4.]])]>"
      ]
     },
     "execution_count": 32,
     "metadata": {},
     "output_type": "execute_result"
    }
   ],
   "source": [
    "output_dist"
   ]
  },
  {
   "cell_type": "code",
   "execution_count": 33,
   "id": "0fb7269f-7d3a-4f6b-b67d-889709630923",
   "metadata": {},
   "outputs": [],
   "source": [
    "sampling_mean = torch.tensor(3.)\n",
    "sampling_std = torch.tensor(2.)\n",
    "samples = distributions.Normal(sampling_mean, sampling_std).sample((1000,1))"
   ]
  },
  {
   "cell_type": "code",
   "execution_count": 34,
   "id": "b3a0b882-d4ef-4574-bc02-3b93d7fd850c",
   "metadata": {},
   "outputs": [
    {
     "data": {
      "text/plain": [
       "tensor(3.7446)"
      ]
     },
     "execution_count": 34,
     "metadata": {},
     "output_type": "execute_result"
    }
   ],
   "source": [
    "torch.var(samples)"
   ]
  },
  {
   "cell_type": "code",
   "execution_count": 35,
   "id": "8a0e19ec-0e89-4311-be9b-1b96a806dc44",
   "metadata": {},
   "outputs": [
    {
     "name": "stdout",
     "output_type": "stream",
     "text": [
      "par2: 1.9989999532699585 loss: 2201.707763671875\n",
      "par2: 1.9493262767791748 loss: 2189.7431640625\n",
      "par2: 1.9008079767227173 loss: 2178.650634765625\n",
      "par2: 1.8535889387130737 loss: 2168.42041015625\n",
      "par2: 1.8076846599578857 loss: 2159.010009765625\n",
      "par2: 1.7631078958511353 loss: 2150.37646484375\n",
      "par2: 1.7198714017868042 loss: 2142.477294921875\n",
      "par2: 1.6779873371124268 loss: 2135.27099609375\n",
      "par2: 1.6374679803848267 loss: 2128.7177734375\n",
      "par2: 1.598325252532959 loss: 2122.77685546875\n"
     ]
    }
   ],
   "source": [
    "import torch\n",
    "\n",
    "# Define the optimizer with init_mean as the parameter\n",
    "\n",
    "optimizer = torch.optim.Adam([params_dict[key] for key in params_dict.keys()], lr=0.001)\n",
    "\n",
    "for i in range(500):\n",
    "    optimizer.zero_grad()  # Reset gradients\n",
    "    \n",
    "    # loss\n",
    "    #current_dist = compute_posterior(init_mean)\n",
    "    current_dist = start_SOGA(cfg, params_dict)\n",
    "    loss = neg_likelihood(current_dist, samples)\n",
    "    \n",
    "    # Backpropagate\n",
    "    loss.backward()\n",
    "    \n",
    "    # Update init_mean\n",
    "    optimizer.step()\n",
    "\n",
    "    #with torch.no_grad():\n",
    "    #    params_dict['std'].clamp_(0.001, 1e10)\n",
    "    \n",
    "    # Print progress\n",
    "    if i % 50 == 0:\n",
    "        out = ''\n",
    "        for key in params_dict.keys():\n",
    "            out = out + key + ': ' + str(params_dict[key].item())\n",
    "        out = out + f\" loss: {loss.item()}\"\n",
    "        print(out)\n"
   ]
  },
  {
   "cell_type": "code",
   "execution_count": 36,
   "id": "6909ac5a-5b8a-4f72-be0c-cf921f5c0043",
   "metadata": {},
   "outputs": [
    {
     "name": "stdout",
     "output_type": "stream",
     "text": [
      "Likelihood with respect to the sampling distribution:  tensor(2079.7129)\n",
      "Likelihood in the optimized distribution:  tensor(2117.4099, grad_fn=<NegBackward0>)\n"
     ]
    }
   ],
   "source": [
    "sampling_dist = Dist(['x'], GaussianMix([torch.tensor(1.)], [torch.tensor([sampling_mean.item()])], [torch.tensor([[sampling_std.item()**2]])]))\n",
    "print('Likelihood with respect to the sampling distribution: ', neg_likelihood(sampling_dist, samples))\n",
    "output_dist = start_SOGA(cfg, params_dict)\n",
    "print('Likelihood in the optimized distribution: ', neg_likelihood(output_dist, samples))"
   ]
  },
  {
   "cell_type": "code",
   "execution_count": 37,
   "id": "b45f80b5-18aa-497a-878a-4b00d17c0856",
   "metadata": {},
   "outputs": [
    {
     "data": {
      "text/plain": [
       "<matplotlib.legend.Legend at 0x207b93acd50>"
      ]
     },
     "execution_count": 37,
     "metadata": {},
     "output_type": "execute_result"
    },
    {
     "data": {
      "image/png": "[encoded data removed]",
      "text/plain": [
       "<Figure size 640x480 with 1 Axes>"
      ]
     },
     "metadata": {},
     "output_type": "display_data"
    }
   ],
   "source": [
    "import matplotlib.pyplot as plt\n",
    "from scipy.stats import norm\n",
    "\n",
    "npsamples = np.array([sample.item() for sample in samples])\n",
    "_ = plt.hist(npsamples, bins=50, density=True)\n",
    "\n",
    "x = np.linspace(-2,8,500)\n",
    "y_sampling = norm(sampling_mean.item(), sampling_std.item()).pdf(x)\n",
    "y_optim = norm(sampling_mean.item(), np.sqrt(output_dist.gm.sigma[0][0,0].item())).pdf(x)\n",
    "\n",
    "plt.plot(x, y_sampling, label='sampling dist')\n",
    "plt.plot(x, y_optim, label='optimized dist')\n",
    "plt.legend()"
   ]
  },
  {
   "cell_type": "markdown",
   "id": "cb3c62d2-6bca-4685-b962-843331af51a0",
   "metadata": {},
   "source": [
    "### TEST 5\n",
    "\n",
    "``` \n",
    "if gm([1.], [_mean], [1.]) < 0 {\n",
    "    a = gm([1.], [-5.], [1.]);\n",
    "} else {\n",
    "    a = gm([1.], [5.], [1.]);\n",
    "} end if;\n",
    "```\n",
    "\n",
    "sample from the program with _mean = 0"
   ]
  },
  {
   "cell_type": "code",
   "execution_count": 38,
   "id": "fc644140-b63d-4c7a-b3b6-54bd4f043b8e",
   "metadata": {},
   "outputs": [],
   "source": [
    "from sogaPreprocessor import *\n",
    "from producecfg import *\n",
    "from libSOGA import *"
   ]
  },
  {
   "cell_type": "code",
   "execution_count": 39,
   "id": "e2908590-6c5f-4adf-8ce0-62cca356b149",
   "metadata": {},
   "outputs": [],
   "source": [
    "compiledFile=compile2SOGA('../programs/SOGA/Optimization/Optim5.soga')\n",
    "cfg = produce_cfg(compiledFile)"
   ]
  },
  {
   "cell_type": "code",
   "execution_count": 40,
   "id": "36f155c1-e4e2-456b-9a80-750345a1668b",
   "metadata": {},
   "outputs": [],
   "source": [
    "pars = {'mean':0.5}\n",
    "\n",
    "# creates torch parameters for each params declared in the dictionary\n",
    "params_dict = {}\n",
    "for key, value in pars.items():\n",
    "    params_dict[key] = torch.tensor(value, requires_grad=True)    "
   ]
  },
  {
   "cell_type": "code",
   "execution_count": 41,
   "id": "c89ea9f5-01f8-43e5-987f-270606b1639e",
   "metadata": {},
   "outputs": [],
   "source": [
    "output_dist = start_SOGA(cfg, params_dict)"
   ]
  },
  {
   "cell_type": "code",
   "execution_count": 42,
   "id": "a899425d-8057-494b-b342-5fa80dadfc17",
   "metadata": {},
   "outputs": [
    {
     "data": {
      "text/plain": [
       "Dist<['a'],pi: [tensor(0.3085, grad_fn=<UnbindBackward0>), tensor(0.6915, grad_fn=<UnbindBackward0>)]  mu: [tensor([-5.], grad_fn=<CopySlices>), tensor([5.], grad_fn=<CopySlices>)] sigma: [tensor([[1.]], grad_fn=<CopySlices>), tensor([[1.]], grad_fn=<CopySlices>)]>"
      ]
     },
     "execution_count": 42,
     "metadata": {},
     "output_type": "execute_result"
    }
   ],
   "source": [
    "output_dist"
   ]
  },
  {
   "cell_type": "code",
   "execution_count": 43,
   "id": "2c54698f-1e8d-422a-8a71-34d7a2b950f7",
   "metadata": {},
   "outputs": [],
   "source": [
    "sampling_pi = torch.tensor(0.5)\n",
    "sampling_mean = torch.tensor(3.)\n",
    "sampling_std = torch.tensor(2.)\n",
    "\n",
    "samples = torch.zeros((500,1))\n",
    "latent = distributions.Bernoulli(sampling_pi).sample(samples.shape)\n",
    "for i, r in enumerate(latent):\n",
    "    if r:\n",
    "        samples[i] = distributions.Normal(torch.tensor(-5.), torch.tensor(1.)).sample((1,))\n",
    "    else:\n",
    "        samples[i] = distributions.Normal(torch.tensor(5.), torch.tensor(1.)).sample((1,))"
   ]
  },
  {
   "cell_type": "code",
   "execution_count": 44,
   "id": "0570d120-9d79-45ab-81ba-4d75ab0eb3ea",
   "metadata": {},
   "outputs": [
    {
     "data": {
      "image/png": "[encoded data removed]",
      "text/plain": [
       "<Figure size 640x480 with 1 Axes>"
      ]
     },
     "metadata": {},
     "output_type": "display_data"
    }
   ],
   "source": [
    "import matplotlib.pyplot as plt\n",
    "from scipy.stats import norm\n",
    "\n",
    "npsamples = np.array([sample.item() for sample in samples])\n",
    "_ = plt.hist(npsamples, bins=50, density=True)"
   ]
  },
  {
   "cell_type": "code",
   "execution_count": 45,
   "id": "54652eff-e4db-48fa-ba59-4b3e1493ac7c",
   "metadata": {},
   "outputs": [],
   "source": [
    "def neg_likelihood(dist, samples, idx=0):\n",
    "    likelihood = dist.gm.marg_pdf(samples,idx)\n",
    "    log_likelihood = torch.log(likelihood)\n",
    "    return -torch.sum(log_likelihood)"
   ]
  },
  {
   "cell_type": "code",
   "execution_count": 46,
   "id": "3fa2455c-0c0c-4467-a32a-634f903abcb1",
   "metadata": {},
   "outputs": [
    {
     "name": "stdout",
     "output_type": "stream",
     "text": [
      "mean: 0.49000000953674316 loss: 1048.928466796875\n",
      "mean: 0.2196442186832428 loss: 1025.9093017578125\n",
      "mean: 0.09498807042837143 loss: 1023.1746826171875\n",
      "mean: 0.08999732881784439 loss: 1023.1798095703125\n",
      "mean: 0.09616392850875854 loss: 1023.1746215820312\n",
      "mean: 0.09544023126363754 loss: 1023.1744995117188\n",
      "mean: 0.09535609185695648 loss: 1023.174560546875\n",
      "mean: 0.09540700912475586 loss: 1023.1744384765625\n",
      "mean: 0.09539423882961273 loss: 1023.174560546875\n",
      "mean: 0.09539671987295151 loss: 1023.174560546875\n"
     ]
    }
   ],
   "source": [
    "import torch\n",
    "\n",
    "#pars = {'mean':2.}\n",
    "#\n",
    "## creates torch parameters for each params declared in the dictionary\n",
    "#params_dict = {}\n",
    "#for key, value in pars.items():\n",
    "#    params_dict[key] = torch.tensor(value, requires_grad=True)    \n",
    "\n",
    "optimizer = torch.optim.Adam([params_dict[key] for key in params_dict.keys()], lr=0.01)\n",
    "\n",
    "for i in range(300):\n",
    "    optimizer.zero_grad()  # Reset gradients\n",
    "    \n",
    "    # loss\n",
    "    current_dist = start_SOGA(cfg, params_dict)\n",
    "    loss = neg_likelihood(current_dist, samples)\n",
    "    \n",
    "    # Backpropagate\n",
    "    loss.backward()\n",
    "    \n",
    "    # Update init_mean\n",
    "    optimizer.step()\n",
    "\n",
    "    #with torch.no_grad():\n",
    "    #    params_dict['std'].clamp_(0.001, 1e10)\n",
    "    \n",
    "    # Print progress\n",
    "    if i % 30 == 0:\n",
    "        out = ''\n",
    "        for key in params_dict.keys():\n",
    "            out = out + key + ': ' + str(params_dict[key].item())\n",
    "        out = out + f\" loss: {loss.item()}\"\n",
    "        print(out)\n"
   ]
  },
  {
   "cell_type": "code",
   "execution_count": 47,
   "id": "d7e484b3-3e0d-470f-a28a-0f9cf69eb1a2",
   "metadata": {},
   "outputs": [
    {
     "name": "stdout",
     "output_type": "stream",
     "text": [
      "Likelihood with respect to the sampling distribution:  tensor(1024.6199)\n",
      "Likelihood in the optimized distribution:  tensor(1023.1745, grad_fn=<NegBackward0>)\n"
     ]
    }
   ],
   "source": [
    "sampling_dist = Dist(['x'], GaussianMix([torch.tensor(0.5), torch.tensor(0.5)], [torch.tensor([-5.]), torch.tensor([5.])], [torch.tensor([[1.]]), torch.tensor([[1.]])]))\n",
    "print('Likelihood with respect to the sampling distribution: ', neg_likelihood(sampling_dist, samples, idx=0))\n",
    "output_dist = start_SOGA(cfg, params_dict)\n",
    "print('Likelihood in the optimized distribution: ', neg_likelihood(output_dist, samples, idx=0))"
   ]
  },
  {
   "cell_type": "code",
   "execution_count": 48,
   "id": "5a9d552c-2580-4bcf-b1f4-2b540dbb8c85",
   "metadata": {},
   "outputs": [
    {
     "data": {
      "text/plain": [
       "Dist<['a'],pi: [tensor(0.4620, grad_fn=<UnbindBackward0>), tensor(0.5380, grad_fn=<UnbindBackward0>)]  mu: [tensor([-5.], grad_fn=<CopySlices>), tensor([5.], grad_fn=<CopySlices>)] sigma: [tensor([[1.]], grad_fn=<CopySlices>), tensor([[1.]], grad_fn=<CopySlices>)]>"
      ]
     },
     "execution_count": 48,
     "metadata": {},
     "output_type": "execute_result"
    }
   ],
   "source": [
    "output_dist"
   ]
  },
  {
   "cell_type": "code",
   "execution_count": 49,
   "id": "f9db3134-31e8-4b73-90be-966608e2d4da",
   "metadata": {},
   "outputs": [
    {
     "data": {
      "text/plain": [
       "<matplotlib.legend.Legend at 0x207ba65f3d0>"
      ]
     },
     "execution_count": 49,
     "metadata": {},
     "output_type": "execute_result"
    },
    {
     "data": {
      "image/png": "[encoded data removed]",
      "text/plain": [
       "<Figure size 640x480 with 1 Axes>"
      ]
     },
     "metadata": {},
     "output_type": "display_data"
    }
   ],
   "source": [
    "import matplotlib.pyplot as plt\n",
    "from scipy.stats import norm\n",
    "\n",
    "\n",
    "npsamples = np.array([sample.item() for sample in samples])\n",
    "_ = plt.hist(npsamples, bins=50, density=True)\n",
    "\n",
    "x = torch.linspace(-8,8,500)\n",
    "y_sampling = sampling_dist.gm.marg_pdf(x, 0)\n",
    "y_optim = output_dist.gm.marg_pdf(x, 0).detach()\n",
    "\n",
    "plt.plot(x, y_sampling, label='sampling dist')\n",
    "plt.plot(x, y_optim, label='optimized dist')\n",
    "plt.legend()"
   ]
  },
  {
   "cell_type": "markdown",
   "id": "3d6f1c92-fc3c-42ad-b9c3-eb02cbbba01d",
   "metadata": {},
   "source": [
    "### TEST 6\n",
    "\n",
    "``` \n",
    "if gm([1.], [0.], [1.]) < _coeff {\n",
    "    a = gm([1.], [-5.], [1.]);\n",
    "} else {\n",
    "    a = gm([1.], [5.], [1.]);\n",
    "} end if;\n",
    "```\n",
    "\n",
    "sample from the program with _coeff = 0"
   ]
  },
  {
   "cell_type": "code",
   "execution_count": 50,
   "id": "70ac13ce-b0dd-4219-b024-d5410679fc99",
   "metadata": {},
   "outputs": [],
   "source": [
    "from sogaPreprocessor import *\n",
    "from producecfg import *\n",
    "from libSOGA import *"
   ]
  },
  {
   "cell_type": "code",
   "execution_count": 51,
   "id": "6ecdb549-0cb5-46dd-9d93-5bd907bc8607",
   "metadata": {},
   "outputs": [],
   "source": [
    "compiledFile=compile2SOGA('../programs/SOGA/Optimization/Optim6.soga')\n",
    "cfg = produce_cfg(compiledFile)"
   ]
  },
  {
   "cell_type": "code",
   "execution_count": 52,
   "id": "827a42b0-e960-41f9-b8e5-b2fc74c0fedb",
   "metadata": {},
   "outputs": [],
   "source": [
    "pars = {'coeff':0.5}\n",
    "\n",
    "# creates torch parameters for each params declared in the dictionary\n",
    "params_dict = {}\n",
    "for key, value in pars.items():\n",
    "    params_dict[key] = torch.tensor(value, requires_grad=True)    "
   ]
  },
  {
   "cell_type": "code",
   "execution_count": 53,
   "id": "1cbc7282-2e15-4357-93a4-26c3d2d1874c",
   "metadata": {},
   "outputs": [],
   "source": [
    "output_dist = start_SOGA(cfg, params_dict)"
   ]
  },
  {
   "cell_type": "code",
   "execution_count": 54,
   "id": "5f48f2d9-ce26-486d-b7af-3829dcfadd42",
   "metadata": {},
   "outputs": [
    {
     "data": {
      "text/plain": [
       "Dist<['a'],pi: [tensor(0.6915, grad_fn=<UnbindBackward0>), tensor(0.3085, grad_fn=<UnbindBackward0>)]  mu: [tensor([-5.], grad_fn=<CopySlices>), tensor([5.], grad_fn=<CopySlices>)] sigma: [tensor([[1.]], grad_fn=<CopySlices>), tensor([[1.]], grad_fn=<CopySlices>)]>"
      ]
     },
     "execution_count": 54,
     "metadata": {},
     "output_type": "execute_result"
    }
   ],
   "source": [
    "output_dist"
   ]
  },
  {
   "cell_type": "code",
   "execution_count": 55,
   "id": "10796225-5002-4970-9c5c-a55196905644",
   "metadata": {},
   "outputs": [],
   "source": [
    "sampling_pi = torch.tensor(0.5)\n",
    "sampling_mean = torch.tensor(3.)\n",
    "sampling_std = torch.tensor(2.)\n",
    "\n",
    "samples = torch.zeros((500,1))\n",
    "latent = distributions.Bernoulli(sampling_pi).sample(samples.shape)\n",
    "for i, r in enumerate(latent):\n",
    "    if r:\n",
    "        samples[i] = distributions.Normal(torch.tensor(-5.), torch.tensor(1.)).sample((1,))\n",
    "    else:\n",
    "        samples[i] = distributions.Normal(torch.tensor(5.), torch.tensor(1.)).sample((1,))"
   ]
  },
  {
   "cell_type": "code",
   "execution_count": 56,
   "id": "b2b624bd-94be-483b-bbcc-f0a5f568a791",
   "metadata": {},
   "outputs": [
    {
     "data": {
      "image/png": "[encoded data removed]",
      "text/plain": [
       "<Figure size 640x480 with 1 Axes>"
      ]
     },
     "metadata": {},
     "output_type": "display_data"
    }
   ],
   "source": [
    "import matplotlib.pyplot as plt\n",
    "from scipy.stats import norm\n",
    "\n",
    "npsamples = np.array([sample.item() for sample in samples])\n",
    "_ = plt.hist(npsamples, bins=50, density=True)"
   ]
  },
  {
   "cell_type": "code",
   "execution_count": 57,
   "id": "75f1e369-722d-4bf2-aafd-f6cb81f4b4dd",
   "metadata": {},
   "outputs": [
    {
     "name": "stdout",
     "output_type": "stream",
     "text": [
      "coeff: 0.49000000953674316 loss: 1054.591552734375\n",
      "coeff: 0.21726015210151672 loss: 1029.2459716796875\n",
      "coeff: 0.07931501418352127 loss: 1025.4832763671875\n",
      "coeff: 0.06391044706106186 loss: 1025.470703125\n",
      "coeff: 0.07040511816740036 loss: 1025.4637451171875\n",
      "coeff: 0.07047039270401001 loss: 1025.4637451171875\n",
      "coeff: 0.0701855793595314 loss: 1025.4637451171875\n",
      "coeff: 0.07025035470724106 loss: 1025.463623046875\n",
      "coeff: 0.07024329900741577 loss: 1025.4637451171875\n",
      "coeff: 0.07024306803941727 loss: 1025.4637451171875\n"
     ]
    }
   ],
   "source": [
    "import torch\n",
    "\n",
    "#pars = {'mean':2.}\n",
    "#\n",
    "## creates torch parameters for each params declared in the dictionary\n",
    "#params_dict = {}\n",
    "#for key, value in pars.items():\n",
    "#    params_dict[key] = torch.tensor(value, requires_grad=True)    \n",
    "\n",
    "optimizer = torch.optim.Adam([params_dict[key] for key in params_dict.keys()], lr=0.01)\n",
    "\n",
    "for i in range(300):\n",
    "    optimizer.zero_grad()  # Reset gradients\n",
    "    \n",
    "    # loss\n",
    "    current_dist = start_SOGA(cfg, params_dict)\n",
    "    loss = neg_likelihood(current_dist, samples)\n",
    "    \n",
    "    # Backpropagate\n",
    "    loss.backward()\n",
    "    \n",
    "    # Update init_mean\n",
    "    optimizer.step()\n",
    "\n",
    "    #with torch.no_grad():\n",
    "    #    params_dict['std'].clamp_(0.001, 1e10)\n",
    "    \n",
    "    # Print progress\n",
    "    if i % 30 == 0:\n",
    "        out = ''\n",
    "        for key in params_dict.keys():\n",
    "            out = out + key + ': ' + str(params_dict[key].item())\n",
    "        out = out + f\" loss: {loss.item()}\"\n",
    "        print(out)\n"
   ]
  },
  {
   "cell_type": "code",
   "execution_count": 58,
   "id": "53a02ff2-f377-42dd-a36f-3d29894fef53",
   "metadata": {},
   "outputs": [
    {
     "name": "stdout",
     "output_type": "stream",
     "text": [
      "Likelihood with respect to the sampling distribution:  tensor(1026.2483)\n",
      "Likelihood in the optimized distribution:  tensor(1025.4637, grad_fn=<NegBackward0>)\n"
     ]
    }
   ],
   "source": [
    "sampling_dist = Dist(['x'], GaussianMix([torch.tensor(0.5), torch.tensor(0.5)], [torch.tensor([-5.]), torch.tensor([5.])], [torch.tensor([[1.]]), torch.tensor([[1.]])]))\n",
    "print('Likelihood with respect to the sampling distribution: ', neg_likelihood(sampling_dist, samples, idx=0))\n",
    "output_dist = start_SOGA(cfg, params_dict)\n",
    "print('Likelihood in the optimized distribution: ', neg_likelihood(output_dist, samples, idx=0))"
   ]
  },
  {
   "cell_type": "code",
   "execution_count": 59,
   "id": "97583266-2fba-4af2-a885-9dd99b1470a4",
   "metadata": {},
   "outputs": [
    {
     "data": {
      "text/plain": [
       "Dist<['a'],pi: [tensor(0.5280, grad_fn=<UnbindBackward0>), tensor(0.4720, grad_fn=<UnbindBackward0>)]  mu: [tensor([-5.], grad_fn=<CopySlices>), tensor([5.], grad_fn=<CopySlices>)] sigma: [tensor([[1.]], grad_fn=<CopySlices>), tensor([[1.]], grad_fn=<CopySlices>)]>"
      ]
     },
     "execution_count": 59,
     "metadata": {},
     "output_type": "execute_result"
    }
   ],
   "source": [
    "output_dist"
   ]
  },
  {
   "cell_type": "code",
   "execution_count": 60,
   "id": "023798e5-0df3-42b4-8eea-fcf9aa467090",
   "metadata": {},
   "outputs": [
    {
     "data": {
      "text/plain": [
       "<matplotlib.legend.Legend at 0x207ba6ccd50>"
      ]
     },
     "execution_count": 60,
     "metadata": {},
     "output_type": "execute_result"
    },
    {
     "data": {
      "image/png": "[encoded data removed]",
      "text/plain": [
       "<Figure size 640x480 with 1 Axes>"
      ]
     },
     "metadata": {},
     "output_type": "display_data"
    }
   ],
   "source": [
    "import matplotlib.pyplot as plt\n",
    "from scipy.stats import norm\n",
    "\n",
    "\n",
    "npsamples = np.array([sample.item() for sample in samples])\n",
    "_ = plt.hist(npsamples, bins=50, density=True)\n",
    "\n",
    "x = torch.linspace(-8,8,500)\n",
    "y_sampling = sampling_dist.gm.marg_pdf(x, 0)\n",
    "y_optim = output_dist.gm.marg_pdf(x, 0).detach()\n",
    "\n",
    "plt.plot(x, y_sampling, label='sampling dist')\n",
    "plt.plot(x, y_optim, label='optimized dist')\n",
    "plt.legend()"
   ]
  },
  {
   "cell_type": "markdown",
   "id": "8b8f2e60-cc71-41e9-bd77-98d0f8310304",
   "metadata": {},
   "source": [
    "### TEST 7\n",
    "\n",
    "``` \n",
    "a = gm([1.], [_mean], [_std]); \n",
    "```"
   ]
  },
  {
   "cell_type": "code",
   "execution_count": 61,
   "id": "631bcb7b-ba84-449e-9c5a-38aa8e6ae466",
   "metadata": {},
   "outputs": [],
   "source": [
    "from sogaPreprocessor import *\n",
    "from producecfg import *\n",
    "from libSOGA import *"
   ]
  },
  {
   "cell_type": "code",
   "execution_count": 62,
   "id": "77843ca4-b177-45ff-b096-b9fb69d8d15f",
   "metadata": {},
   "outputs": [],
   "source": [
    "compiledFile=compile2SOGA('../programs/SOGA/Optimization/Optim7.soga')\n",
    "cfg = produce_cfg(compiledFile)"
   ]
  },
  {
   "cell_type": "code",
   "execution_count": 63,
   "id": "3e0827a3-e0ee-4e08-93e1-a5810c46413c",
   "metadata": {},
   "outputs": [],
   "source": [
    "pars = {'mean':5., 'std':2.5}\n",
    "\n",
    "# creates torch parameters for each params declared in the dictionary\n",
    "params_dict = {}\n",
    "for key, value in pars.items():\n",
    "    params_dict[key] = torch.tensor(value, requires_grad=True)    "
   ]
  },
  {
   "cell_type": "code",
   "execution_count": 64,
   "id": "71de404e-af73-44c0-92b8-1ac9d3c72a84",
   "metadata": {},
   "outputs": [],
   "source": [
    "output_dist = start_SOGA(cfg, params_dict)"
   ]
  },
  {
   "cell_type": "code",
   "execution_count": 65,
   "id": "d254cc9a-dd79-49aa-b1e8-ff08aa2a4ce6",
   "metadata": {},
   "outputs": [
    {
     "data": {
      "text/plain": [
       "Dist<['a'],pi: [tensor(1.)]  mu: [tensor([5.], grad_fn=<CopySlices>)] sigma: [tensor([[6.2500]], grad_fn=<CopySlices>)]>"
      ]
     },
     "execution_count": 65,
     "metadata": {},
     "output_type": "execute_result"
    }
   ],
   "source": [
    "output_dist"
   ]
  },
  {
   "cell_type": "code",
   "execution_count": 66,
   "id": "8772b3bf-fad8-47b9-ab6d-576e5f661e65",
   "metadata": {},
   "outputs": [
    {
     "name": "stdout",
     "output_type": "stream",
     "text": [
      "samples std tensor(0.9770)\n"
     ]
    }
   ],
   "source": [
    "sampling_mean = torch.tensor(10.)\n",
    "sampling_std = torch.tensor(1.)\n",
    "samples = distributions.Normal(sampling_mean, sampling_std).sample((1000,1))\n",
    "print('samples std', torch.std(samples))"
   ]
  },
  {
   "cell_type": "code",
   "execution_count": 67,
   "id": "37b8a2f2-83b3-4662-9982-62519422936f",
   "metadata": {},
   "outputs": [
    {
     "name": "stdout",
     "output_type": "stream",
     "text": [
      "mean: 5.010000228881836std: 2.509999990463257 loss: 3891.62548828125\n",
      "mean: 5.880665302276611std: 3.219818592071533 loss: 2946.648681640625\n",
      "mean: 6.570217132568359std: 3.4436919689178467 loss: 2686.355712890625\n",
      "mean: 7.203171253204346std: 3.380964994430542 loss: 2516.538818359375\n",
      "mean: 7.831730842590332std: 3.0778589248657227 loss: 2337.98828125\n",
      "mean: 8.498313903808594std: 2.5218496322631836 loss: 2093.388427734375\n",
      "mean: 9.2581205368042std: 1.659559726715088 loss: 1696.9359130859375\n",
      "mean: 9.940850257873535std: 0.9703043699264526 loss: 1395.9488525390625\n",
      "mean: 9.975208282470703std: 0.9765245318412781 loss: 1395.19677734375\n",
      "mean: 9.975061416625977std: 0.9765380620956421 loss: 1395.19677734375\n"
     ]
    }
   ],
   "source": [
    "import torch\n",
    "\n",
    "# Define the optimizer with init_mean as the parameter\n",
    "\n",
    "optimizer = torch.optim.Adam([params_dict[key] for key in params_dict.keys()], lr=0.01)\n",
    "\n",
    "for i in range(1000):\n",
    "    optimizer.zero_grad()  # Reset gradients\n",
    "    \n",
    "    # loss\n",
    "    #current_dist = compute_posterior(init_mean)\n",
    "    current_dist = start_SOGA(cfg, params_dict)\n",
    "    loss = neg_likelihood(current_dist, samples)\n",
    "    \n",
    "    # Backpropagate\n",
    "    loss.backward()\n",
    "    \n",
    "    # Update init_mean\n",
    "    optimizer.step()\n",
    "\n",
    "    #with torch.no_grad():\n",
    "    #    params_dict['std'].clamp_(0.001, 1e10)\n",
    "    \n",
    "    # Print progress\n",
    "    if i % 100 == 0:\n",
    "        out = ''\n",
    "        for key in params_dict.keys():\n",
    "            out = out + key + ': ' + str(params_dict[key].item())\n",
    "        out = out + f\" loss: {loss.item()}\"\n",
    "        print(out)\n"
   ]
  },
  {
   "cell_type": "code",
   "execution_count": 68,
   "id": "7b29803c-538e-4480-812a-460a02610e40",
   "metadata": {},
   "outputs": [
    {
     "name": "stdout",
     "output_type": "stream",
     "text": [
      "Likelihood with respect to the sampling distribution:  tensor(1396.0624)\n",
      "Likelihood in the optimized distribution:  tensor(1395.1968, grad_fn=<NegBackward0>)\n"
     ]
    }
   ],
   "source": [
    "sampling_dist = Dist(['x'], GaussianMix([torch.tensor(1.)], [torch.tensor([sampling_mean.item()])], [torch.tensor([[sampling_std.item()**2]])]))\n",
    "print('Likelihood with respect to the sampling distribution: ', neg_likelihood(sampling_dist, samples))\n",
    "output_dist = start_SOGA(cfg, params_dict)\n",
    "print('Likelihood in the optimized distribution: ', neg_likelihood(output_dist, samples))"
   ]
  },
  {
   "cell_type": "code",
   "execution_count": 69,
   "id": "5219d505-6144-4dc6-b4a8-bd544c4b8e2d",
   "metadata": {},
   "outputs": [
    {
     "data": {
      "text/plain": [
       "<matplotlib.legend.Legend at 0x207ba8bfd10>"
      ]
     },
     "execution_count": 69,
     "metadata": {},
     "output_type": "execute_result"
    },
    {
     "data": {
      "image/png": "[encoded data removed]",
      "text/plain": [
       "<Figure size 640x480 with 1 Axes>"
      ]
     },
     "metadata": {},
     "output_type": "display_data"
    }
   ],
   "source": [
    "import matplotlib.pyplot as plt\n",
    "from scipy.stats import norm\n",
    "\n",
    "npsamples = np.array([sample.item() for sample in samples])\n",
    "_ = plt.hist(npsamples, bins=50, density=True)\n",
    "\n",
    "x = np.linspace(7,14,500)\n",
    "y_sampling = norm(sampling_mean.item(), sampling_std.item()).pdf(x)\n",
    "y_optim = norm(sampling_mean.item(), params_dict['std'].item()).pdf(x)\n",
    "\n",
    "plt.plot(x, y_sampling, label='sampling dist')\n",
    "plt.plot(x, y_optim, label='optimized dist')\n",
    "plt.legend()"
   ]
  },
  {
   "cell_type": "code",
   "execution_count": null,
   "id": "60ee300f-b13a-4235-8061-e5591c3b2411",
   "metadata": {},
   "outputs": [],
   "source": []
  }
 ],
 "metadata": {
  "kernelspec": {
   "display_name": "Python 3 (ipykernel)",
   "language": "python",
   "name": "python3"
  },
  "language_info": {
   "codemirror_mode": {
    "name": "ipython",
    "version": 3
   },
   "file_extension": ".py",
   "mimetype": "text/x-python",
   "name": "python",
   "nbconvert_exporter": "python",
   "pygments_lexer": "ipython3",
   "version": "3.11.5"
  }
 },
 "nbformat": 4,
 "nbformat_minor": 5
}
