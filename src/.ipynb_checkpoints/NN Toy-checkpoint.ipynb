{
 "cells": [
  {
   "cell_type": "code",
   "execution_count": 131,
   "id": "4697f0da",
   "metadata": {},
   "outputs": [],
   "source": [
    "from sogaPreprocessor import *\n",
    "from producecfg import *\n",
    "from libSOGA import *\n",
    "\n",
    "import numpy as np\n",
    "import matplotlib.pyplot as plt\n",
    "from pylab import cm, colorbar\n",
    "from time import time"
   ]
  },
  {
   "cell_type": "markdown",
   "id": "ac1c19a8",
   "metadata": {},
   "source": [
    "# Toy example"
   ]
  },
  {
   "cell_type": "code",
   "execution_count": 142,
   "id": "7c38dc04",
   "metadata": {},
   "outputs": [],
   "source": [
    "def ReLu(x):\n",
    "    return x*(x > 0)\n",
    "\n",
    "W1 = np.array([[0.61, -0.97], [0.63, 0.82], [-1, 0.84], [-0.83, -0.89]])    \n",
    "b1 = np.array([-0.037, 0.23, 0.12, 0.17])\n",
    "W2 = np.array([[-0.22, -0.31, 1.2, -0.54], [-1.1, 1.1, -0.65, 1.2]]) \n",
    "b2 = np.array([0.14, 0.67])\n",
    "W3 = np.array([[-1.1, 2]])\n",
    "\n",
    "def NN(x):\n",
    "    h1 = ReLu(W1.dot(x) + b1)\n",
    "    h2 = ReLu(W2.dot(h1) + b2)\n",
    "    y = W3.dot(h2)\n",
    "    return y"
   ]
  },
  {
   "cell_type": "code",
   "execution_count": 143,
   "id": "364db654",
   "metadata": {},
   "outputs": [
    {
     "data": {
      "text/plain": [
       "<matplotlib.colorbar.Colorbar at 0x20ebc542ed0>"
      ]
     },
     "execution_count": 143,
     "metadata": {},
     "output_type": "execute_result"
    },
    {
     "data": {
      "image/png": "[encoded data removed]",
      "text/plain": [
       "<Figure size 640x480 with 2 Axes>"
      ]
     },
     "metadata": {},
     "output_type": "display_data"
    }
   ],
   "source": [
    "x = np.arange(-3.0,3.0,0.1)\n",
    "y = np.arange(-3.0,3.0,0.1)\n",
    "X, Y = np.meshgrid(x,y)\n",
    "Z = np.zeros((len(X), len(Y)))\n",
    "for i in range(len(X)):\n",
    "    for j in range(len(Y)):\n",
    "        Z[i,j] = NN(np.array([x[i],y[j]])) # evaluation of the function on the grid\n",
    "\n",
    "#fig = plt.figure()\n",
    "#ax = fig.add_subplot(111, projection = '3d')\n",
    "#ax.plot_surface(X, Y, Z)\n",
    "\n",
    "im = plt.imshow(Z,cmap=cm.RdBu, extent=[-3,3,-3,3])\n",
    "colorbar(im) # adding the colobar on the right\n"
   ]
  },
  {
   "cell_type": "code",
   "execution_count": 154,
   "id": "320de8b6",
   "metadata": {},
   "outputs": [
    {
     "name": "stdout",
     "output_type": "stream",
     "text": [
      "Mean activation nodes in layer 1: [1.36514905 1.33226027 1.61526343 1.56298548]\n",
      "Mean activation nodes in layer 2: [1.4694586  2.19804057]\n"
     ]
    }
   ],
   "source": [
    "# computes the mean activation of the neurons, from uniform sampling\n",
    "\n",
    "H1 = []\n",
    "H2 = []\n",
    "\n",
    "\n",
    "for _ in range(10000):\n",
    "    x = 10*np.random.random() - 5\n",
    "    y = 10*np.random.random() - 5\n",
    "    sample = np.array([x,y])\n",
    "    \n",
    "    h1 = ReLu(W1.dot(sample) + b1)\n",
    "    h2 = ReLu(W2.dot(h1) + b2)\n",
    "    \n",
    "    H1.append(h1)\n",
    "    H2.append(h2)\n",
    "    \n",
    "print('Mean activation nodes in layer 1:', np.mean(H1, axis=0))\n",
    "print('Mean activation nodes in layer 2:', np.mean(H2, axis=0))"
   ]
  },
  {
   "cell_type": "code",
   "execution_count": 167,
   "id": "b7c37644",
   "metadata": {},
   "outputs": [
    {
     "name": "stdout",
     "output_type": "stream",
     "text": [
      "Computed in 0.59\n"
     ]
    }
   ],
   "source": [
    "# computing this with SOGA yields the same result?\n",
    "\n",
    "# using two components for the uniform\n",
    "\n",
    "start = time()\n",
    "compiledFile=compile2SOGA('../programs/SOGA/NN/Toy2comp.soga')\n",
    "cfg = produce_cfg(compiledFile)\n",
    "output_dist = start_SOGA(cfg)\n",
    "end = time()\n",
    "print('Computed in {}'.format(np.round(end-start,2)))"
   ]
  },
  {
   "cell_type": "code",
   "execution_count": 168,
   "id": "8c8c922c",
   "metadata": {},
   "outputs": [
    {
     "data": {
      "text/plain": [
       "array([1.34349916, 1.33741904, 1.6099931 , 1.54026368, 1.47075105,\n",
       "       2.17339972])"
      ]
     },
     "execution_count": 168,
     "metadata": {},
     "output_type": "execute_result"
    }
   ],
   "source": [
    "#print(output_dist.var_list)\n",
    "output_dist.gm.mean()[-6:]"
   ]
  },
  {
   "cell_type": "code",
   "execution_count": 177,
   "id": "6b7b77ab",
   "metadata": {},
   "outputs": [
    {
     "name": "stdout",
     "output_type": "stream",
     "text": [
      "Computed in 1.77\n"
     ]
    }
   ],
   "source": [
    "# using three component for the uniform\n",
    "\n",
    "start = time()\n",
    "compiledFile=compile2SOGA('../programs/SOGA/NN/Toy3comp.soga')\n",
    "cfg = produce_cfg(compiledFile)\n",
    "output_dist = start_SOGA(cfg)\n",
    "end = time()\n",
    "print('Computed in {}'.format(np.round(end-start,2)))"
   ]
  },
  {
   "cell_type": "code",
   "execution_count": 178,
   "id": "97e23c85",
   "metadata": {},
   "outputs": [
    {
     "data": {
      "text/plain": [
       "array([1.35368878, 1.34437596, 1.60525352, 1.52698482, 1.47194052,\n",
       "       2.17679126])"
      ]
     },
     "execution_count": 178,
     "metadata": {},
     "output_type": "execute_result"
    }
   ],
   "source": [
    "#print(output_dist.var_list)\n",
    "output_dist.gm.mean()[-6:]"
   ]
  },
  {
   "cell_type": "markdown",
   "id": "0734959f",
   "metadata": {},
   "source": [
    "# One layer"
   ]
  },
  {
   "cell_type": "markdown",
   "id": "522cb7ff",
   "metadata": {},
   "source": [
    "One layer networks with weights randomly generated in $[-10,10]$ and $size$ neuron in the hidden layer.\n",
    "\n",
    "We estimate mean activation of the inner neurons, for inputs randomly sampled in $[-10,10]$."
   ]
  },
  {
   "cell_type": "code",
   "execution_count": 245,
   "id": "71c5bfdd",
   "metadata": {},
   "outputs": [],
   "source": [
    "def generate_params(size):\n",
    "    W1 = np.round(20*np.random.random(size) - 10, 3)\n",
    "    b1 = np.round(np.random.random(size), 3)\n",
    "    W2 = np.round(20*np.random.random(size) - 10, 3)\n",
    "    b2 = np.round(np.random.random(size), 3)\n",
    "    np.savez('../programs/SOGA/NN/params/params{}'.format(size), W1=W1, b1=b1, W2=W2, b2=b2)  "
   ]
  },
  {
   "cell_type": "code",
   "execution_count": 279,
   "id": "0d9bfe3c",
   "metadata": {},
   "outputs": [],
   "source": [
    "def sample_actvs(W1, W2, b1, b2):\n",
    "    H = []\n",
    "    for _  in range(10000):\n",
    "        x = 20*np.random.random()-10\n",
    "        h = ReLu(W1*x + b1)\n",
    "        H.append(h) \n",
    "    return np.mean(H, axis=0), np.std(H, axis=0)"
   ]
  },
  {
   "cell_type": "code",
   "execution_count": 247,
   "id": "27cb3881",
   "metadata": {},
   "outputs": [],
   "source": [
    "def generate_script(W1, W2, b1, b2, comp=2, bound=10):\n",
    "    with open(\"../programs/SOGA/NN/OneLayer{}.soga\".format(len(W1)), \"w\") as file:\n",
    "        file.write('data W1 = {};\\n'.format(list(W1)))\n",
    "        file.write('data W2 = {};\\n'.format(list(W2)))\n",
    "        file.write('data b1 = {};\\n'.format(list(b1)))\n",
    "        file.write('data b2 = {};\\n\\n'.format(list(b1)))\n",
    " \n",
    "        file.write('array[{}] h;\\n\\n'.format(len(W1)))\n",
    "        \n",
    "        file.write('x = uniform([{},{}],{});\\n\\n'.format(-bound, bound, comp))\n",
    "        \n",
    "        file.write('for i in range({}) {{ \\n \\t h[i] = W1[i]*x + b1[i];\\n \\t if h[i] > 0 {{ \\n \\t\\t skip; \\n \\t }} else {{ \\n \\t\\t h[i] = 0; \\n\\t}} end if; \\n}} end for;\\n\\n'.format(len(W1)))\n",
    "        \n",
    "        file.write('y = 0;\\n')\n",
    "        file.write('for i in range({}) {{ \\n \\t y = y + W2[i]*h[i] + b2[i]; \\n}} end for;'.format(len(W1)))"
   ]
  },
  {
   "cell_type": "code",
   "execution_count": 274,
   "id": "a696e55c",
   "metadata": {},
   "outputs": [],
   "source": [
    "for size in [10,25,50,100]:\n",
    "    generate_params(size)\n",
    "    data = np.load('../programs/SOGA/NN/params/params{}.npz'.format(size))\n",
    "    W1, W2, b1, b2 = data['W1'], data['W2'], data['b1'], data['b2']\n",
    "    generate_script(W1,W2,b1,b2)    "
   ]
  },
  {
   "cell_type": "markdown",
   "id": "d8f56f36",
   "metadata": {},
   "source": [
    "### size = 10"
   ]
  },
  {
   "cell_type": "code",
   "execution_count": 280,
   "id": "19de61a2",
   "metadata": {},
   "outputs": [],
   "source": [
    "size = 10\n",
    "\n",
    "data = np.load('../programs/SOGA/NN/params/params{}.npz'.format(size))\n",
    "W1, W2, b1, b2 = data['W1'], data['W2'], data['b1'], data['b2']\n",
    "actvs_mean, actvs_std = sample_actvs(W1, W2, b1, b2)"
   ]
  },
  {
   "cell_type": "code",
   "execution_count": 281,
   "id": "15f9f7be",
   "metadata": {},
   "outputs": [
    {
     "name": "stdout",
     "output_type": "stream",
     "text": [
      "Computed in 2.73\n"
     ]
    }
   ],
   "source": [
    "start = time()\n",
    "compiledFile=compile2SOGA('../programs/SOGA/NN/OneLayer{}.soga'.format(size))\n",
    "cfg = produce_cfg(compiledFile)\n",
    "output_dist = start_SOGA(cfg)\n",
    "end = time()\n",
    "print('Computed in {}'.format(np.round(end-start,2)))"
   ]
  },
  {
   "cell_type": "code",
   "execution_count": 282,
   "id": "c133fe66",
   "metadata": {},
   "outputs": [
    {
     "name": "stdout",
     "output_type": "stream",
     "text": [
      "Mean rel.err.: 1.69%\n",
      "Std rel.err.: 0.79%\n"
     ]
    }
   ],
   "source": [
    "mean = output_dist.gm.mean()\n",
    "cov = output_dist.gm.cov()\n",
    "\n",
    "soga_mean = np.zeros(size)\n",
    "soga_std = np.zeros(size)\n",
    "\n",
    "for i in range(size):\n",
    "    idx = output_dist.var_list.index('h[{}]'.format(i))\n",
    "    soga_mean[i] = mean[idx]\n",
    "    soga_std[i] = np.sqrt(cov[idx,idx])\n",
    "    \n",
    "#print('SOGA mean:', soga10mean)\n",
    "#print('SOGA std:', soga10std)\n",
    "\n",
    "err_mean = 100*abs(actvs_mean - soga_mean)/actvs_mean\n",
    "err_std = 100*abs(actvs_std - soga_std)/actvs_std\n",
    "\n",
    "print('Mean rel.err.: {}%'.format(np.round(np.mean(err_mean),2)))\n",
    "print('Std rel.err.: {}%'.format(np.round(np.mean(err_std),2)))"
   ]
  },
  {
   "cell_type": "markdown",
   "id": "1756c2ce",
   "metadata": {},
   "source": [
    "### size = 25"
   ]
  },
  {
   "cell_type": "code",
   "execution_count": 284,
   "id": "d5cfa10d",
   "metadata": {},
   "outputs": [],
   "source": [
    "size = 25\n",
    "\n",
    "data = np.load('../programs/SOGA/NN/params/params{}.npz'.format(size))\n",
    "W1, W2, b1, b2 = data['W1'], data['W2'], data['b1'], data['b2']\n",
    "actvs_mean, actvs_std = sample_actvs(W1, W2, b1, b2)"
   ]
  },
  {
   "cell_type": "code",
   "execution_count": null,
   "id": "41b78421",
   "metadata": {},
   "outputs": [],
   "source": [
    "start = time()\n",
    "compiledFile=compile2SOGA('../programs/SOGA/NN/OneLayer{}.soga'.format(size))\n",
    "cfg = produce_cfg(compiledFile)\n",
    "output_dist = start_SOGA(cfg)\n",
    "end = time()\n",
    "print('Computed in {}'.format(np.round(end-start,2)))"
   ]
  },
  {
   "cell_type": "code",
   "execution_count": null,
   "id": "b1eb4e18",
   "metadata": {},
   "outputs": [],
   "source": [
    "mean = output_dist.gm.mean()\n",
    "cov = output_dist.gm.cov()\n",
    "\n",
    "soga_mean = np.zeros(size)\n",
    "soga_std = np.zeros(size)\n",
    "\n",
    "for i in range(size):\n",
    "    idx = output_dist.var_list.index('h[{}]'.format(i))\n",
    "    soga_mean[i] = mean[idx]\n",
    "    soga_std[i] = np.sqrt(cov[idx,idx])\n",
    "    \n",
    "#print('SOGA mean:', soga10mean)\n",
    "#print('SOGA std:', soga10std)\n",
    "\n",
    "err_mean = 100*abs(actvs_mean - soga_mean)/actvs_mean\n",
    "err_std = 100*abs(actvs_std - soga_std)/actvs_std\n",
    "\n",
    "print('Mean rel.err.: {}%'.format(np.round(np.mean(err_mean),2)))\n",
    "print('Std rel.err.: {}%'.format(np.round(np.mean(err_std),2)))"
   ]
  },
  {
   "cell_type": "markdown",
   "id": "f0bc1ae6",
   "metadata": {},
   "source": [
    "### size = 50"
   ]
  },
  {
   "cell_type": "code",
   "execution_count": 284,
   "id": "ac8ac451",
   "metadata": {},
   "outputs": [],
   "source": [
    "size = 50\n",
    "\n",
    "data = np.load('../programs/SOGA/NN/params/params{}.npz'.format(size))\n",
    "W1, W2, b1, b2 = data['W1'], data['W2'], data['b1'], data['b2']\n",
    "actvs_mean, actvs_std = sample_actvs(W1, W2, b1, b2)"
   ]
  },
  {
   "cell_type": "code",
   "execution_count": null,
   "id": "36a26f71",
   "metadata": {},
   "outputs": [],
   "source": [
    "start = time()\n",
    "compiledFile=compile2SOGA('../programs/SOGA/NN/OneLayer{}.soga'.format(size))\n",
    "cfg = produce_cfg(compiledFile)\n",
    "output_dist = start_SOGA(cfg)\n",
    "end = time()\n",
    "print('Computed in {}'.format(np.round(end-start,2)))"
   ]
  },
  {
   "cell_type": "code",
   "execution_count": null,
   "id": "a1964f6d",
   "metadata": {},
   "outputs": [],
   "source": [
    "mean = output_dist.gm.mean()\n",
    "cov = output_dist.gm.cov()\n",
    "\n",
    "soga_mean = np.zeros(size)\n",
    "soga_std = np.zeros(size)\n",
    "\n",
    "for i in range(size):\n",
    "    idx = output_dist.var_list.index('h[{}]'.format(i))\n",
    "    soga_mean[i] = mean[idx]\n",
    "    soga_std[i] = np.sqrt(cov[idx,idx])\n",
    "    \n",
    "#print('SOGA mean:', soga10mean)\n",
    "#print('SOGA std:', soga10std)\n",
    "\n",
    "err_mean = 100*abs(actvs_mean - soga_mean)/actvs_mean\n",
    "err_std = 100*abs(actvs_std - soga_std)/actvs_std\n",
    "\n",
    "print('Mean rel.err.: {}%'.format(np.round(np.mean(err_mean),2)))\n",
    "print('Std rel.err.: {}%'.format(np.round(np.mean(err_std),2)))"
   ]
  },
  {
   "cell_type": "code",
   "execution_count": null,
   "id": "3f7d707d",
   "metadata": {},
   "outputs": [],
   "source": []
  }
 ],
 "metadata": {
  "kernelspec": {
   "display_name": "Python 3 (ipykernel)",
   "language": "python",
   "name": "python3"
  },
  "language_info": {
   "codemirror_mode": {
    "name": "ipython",
    "version": 3
   },
   "file_extension": ".py",
   "mimetype": "text/x-python",
   "name": "python",
   "nbconvert_exporter": "python",
   "pygments_lexer": "ipython3",
   "version": "3.11.5"
  }
 },
 "nbformat": 4,
 "nbformat_minor": 5
}
