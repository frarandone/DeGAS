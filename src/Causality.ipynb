{
 "cells": [
  {
   "cell_type": "markdown",
   "id": "fd6593a0",
   "metadata": {},
   "source": [
    "## Causality\n",
    "\n",
    "We would like to represent an acyclic SCM $M = (U, V, f_V, P_U)$ as a SOGA Probabilistic Program. We set the following assumptions:\n",
    "\n",
    "- Exogenous variables $u \\in U$ are independent from any other variable (exogenous or endogenous)\n",
    "- All the varibles are declared only once (so we guarantee acyclicity). This in SOGA means in one block of instructions all x = something; x = x...\n",
    "- Each endogenous variable depends only from one exogenous variables (to guarantee Markovianity)\n",
    "- As this is a program, variables that are not yet declared can't be used\n",
    "- If: non puoi definire solo variabili in un branch\n",
    "\n",
    "Moreover, we need to:\n",
    "\n",
    "- Be able to do interventions (modifying the lines of the code corresponding to the intervened variables), maybe directly from the distribution \n",
    "- Evaluate the program (likelihood + interventions or some independence test on the noise? )\n",
    "\n"
   ]
  },
  {
   "cell_type": "code",
   "execution_count": 24,
   "id": "5bfc9c0d",
   "metadata": {},
   "outputs": [],
   "source": [
    "from sogaPreprocessor import *\n",
    "from producecfg import *\n",
    "from smoothcfg import *\n",
    "from libSOGA import *\n",
    "from time import time\n",
    "\n",
    "torch.set_default_dtype(torch.float64)"
   ]
  },
  {
   "cell_type": "code",
   "execution_count": 25,
   "id": "2addd411",
   "metadata": {},
   "outputs": [],
   "source": [
    "compiledFile=compile2SOGA('../programs/SOGA/Causality/SCM_1.soga')\n",
    "cfg = produce_cfg(compiledFile)\n",
    "smooth_cfg(cfg)\n",
    "\n",
    "output_dist = start_SOGA(cfg)"
   ]
  },
  {
   "cell_type": "code",
   "execution_count": 26,
   "id": "361278f3",
   "metadata": {},
   "outputs": [
    {
     "data": {
      "text/plain": [
       "Dist<['a', 'b', 'd', 'c'],pi: tensor([[1.]])\n",
       "mu: tensor([[2., 4., 2., 8.]])\n",
       "sigma: tensor([[[ 4.0000,  8.0000,  4.0000, 12.0000],\n",
       "         [ 8.0000, 17.0000,  8.0000, 25.0000],\n",
       "         [ 4.0000,  8.0000,  5.0000, 13.0000],\n",
       "         [12.0000, 25.0000, 13.0000, 39.0000]]])>"
      ]
     },
     "execution_count": 26,
     "metadata": {},
     "output_type": "execute_result"
    }
   ],
   "source": [
    "output_dist_int =output_dist\n",
    "output_dist_int"
   ]
  },
  {
   "cell_type": "code",
   "execution_count": 27,
   "id": "ba655271",
   "metadata": {},
   "outputs": [
    {
     "data": {
      "text/plain": [
       "Dist<['a', 'b', 'd', 'c'],pi: tensor([[1.]])\n",
       "mu: tensor([[2., 4., 2., 8.]])\n",
       "sigma: tensor([[[ 4.0000,  0.0000,  4.0000, 12.0000],\n",
       "         [ 0.0000, 17.0000,  8.0000, 25.0000],\n",
       "         [ 4.0000,  8.0000,  5.0000, 13.0000],\n",
       "         [12.0000, 25.0000, 13.0000, 39.0000]]])>"
      ]
     },
     "execution_count": 27,
     "metadata": {},
     "output_type": "execute_result"
    }
   ],
   "source": [
    "output_dist_int.var_list.index('a')\n",
    "\n",
    "output_dist_int.gm.sigma[0][output_dist_int.var_list.index('a')][\n",
    "    output_dist_int.var_list.index('b')] = 0\n",
    "\n",
    "output_dist_int.gm.sigma[0][output_dist_int.var_list.index('b')][\n",
    "    output_dist_int.var_list.index('a')] = 0\n",
    "\n",
    "output_dist_int"
   ]
  },
  {
   "cell_type": "code",
   "execution_count": 28,
   "id": "bc67ea8b",
   "metadata": {},
   "outputs": [
    {
     "data": {
      "text/plain": [
       "tensor([[2., 4., 2., 8.]])"
      ]
     },
     "execution_count": 28,
     "metadata": {},
     "output_type": "execute_result"
    }
   ],
   "source": [
    "output_dist_int.gm.mu"
   ]
  },
  {
   "cell_type": "code",
   "execution_count": 29,
   "id": "66402646",
   "metadata": {},
   "outputs": [
    {
     "name": "stdout",
     "output_type": "stream",
     "text": [
      "Conditional Mean: [2.         1.52941179 6.52941179]\n",
      "Conditional Covariance: [[ 4.          4.         12.        ]\n",
      " [ 4.          1.23529434  1.23529434]\n",
      " [12.          1.23529434  2.23529534]]\n"
     ]
    }
   ],
   "source": [
    "import numpy as np\n",
    "\n",
    "mu = output_dist_int.gm.mu[0].detach().numpy()\n",
    "sigma = output_dist_int.gm.sigma[0].detach().numpy()\n",
    "idx_b = output_dist_int.var_list.index('b')\n",
    "idx_all = list(range(len(mu)))\n",
    "idx_x1 = [i for i in idx_all if i != idx_b]\n",
    "idx_x2 = [idx_b]\n",
    "\n",
    "mu1 = mu[idx_x1]\n",
    "mu2 = mu[idx_x2]\n",
    "sigma11 = sigma[np.ix_(idx_x1, idx_x1)]\n",
    "sigma12 = sigma[np.ix_(idx_x1, idx_x2)]\n",
    "sigma21 = sigma[np.ix_(idx_x2, idx_x1)]\n",
    "sigma22 = sigma[np.ix_(idx_x2, idx_x2)]\n",
    "\n",
    "b_value = 3.0\n",
    "mu_cond = mu1 + sigma12 @ np.linalg.inv(sigma22) @ (b_value - mu2)\n",
    "sigma_cond = sigma11 - sigma12 @ np.linalg.inv(sigma22) @ sigma21\n",
    "\n",
    "print(\"Conditional Mean:\", mu_cond)\n",
    "print(\"Conditional Covariance:\", sigma_cond)"
   ]
  },
  {
   "cell_type": "code",
   "execution_count": 31,
   "id": "36036a2a",
   "metadata": {},
   "outputs": [
    {
     "data": {
      "text/plain": [
       "Dist<['a', 'b', 'd', 'c'],pi: tensor([[1.]])\n",
       "mu: tensor([[2., 3., 2., 7.]])\n",
       "sigma: tensor([[[4.0000e+00, 0.0000e+00, 4.0000e+00, 4.0000e+00],\n",
       "         [0.0000e+00, 1.0000e-06, 0.0000e+00, 1.0000e-06],\n",
       "         [4.0000e+00, 0.0000e+00, 5.0000e+00, 5.0000e+00],\n",
       "         [4.0000e+00, 1.0000e-06, 5.0000e+00, 6.0000e+00]]])>"
      ]
     },
     "execution_count": 31,
     "metadata": {},
     "output_type": "execute_result"
    }
   ],
   "source": [
    "compiledFile=compile2SOGA('../programs/SOGA/Causality/SCM_1_int.soga')\n",
    "cfg = produce_cfg(compiledFile)\n",
    "smooth_cfg(cfg)\n",
    "\n",
    "output_dist = start_SOGA(cfg)\n",
    "output_dist"
   ]
  }
 ],
 "metadata": {
  "kernelspec": {
   "display_name": "simple_env",
   "language": "python",
   "name": "python3"
  },
  "language_info": {
   "codemirror_mode": {
    "name": "ipython",
    "version": 3
   },
   "file_extension": ".py",
   "mimetype": "text/x-python",
   "name": "python",
   "nbconvert_exporter": "python",
   "pygments_lexer": "ipython3",
   "version": "3.12.9"
  }
 },
 "nbformat": 4,
 "nbformat_minor": 5
}
