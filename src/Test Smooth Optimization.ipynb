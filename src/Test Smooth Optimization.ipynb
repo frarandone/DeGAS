{
 "cells": [
  {
   "cell_type": "code",
   "execution_count": 1,
   "id": "afa5e2d3-2260-471c-adc0-83ca1a02a269",
   "metadata": {},
   "outputs": [],
   "source": [
    "from sogaPreprocessor import *\n",
    "from producecfg import *\n",
    "from libSOGAsmoother import *"
   ]
  },
  {
   "cell_type": "markdown",
   "id": "5356113e-ee71-47fc-9b50-e352b4a8c9ba",
   "metadata": {},
   "source": [
    "### Test 1\n",
    "``` a = gm([1.], [_mean], [1.]); ```\n",
    "\n",
    "\n",
    "Genero sample da $\\mathcal{N}(10,1)$"
   ]
  },
  {
   "cell_type": "code",
   "execution_count": 2,
   "id": "bc32fd89-c025-4197-beca-57339a396dee",
   "metadata": {},
   "outputs": [],
   "source": [
    "compiledFile=compile2SOGA('../programs/SOGA/Optimization/Optim1.soga')\n",
    "cfg = produce_cfg(compiledFile)"
   ]
  },
  {
   "cell_type": "code",
   "execution_count": 3,
   "id": "6a510e21-0638-462c-b6be-93837c8b7c1f",
   "metadata": {},
   "outputs": [],
   "source": [
    "pars = {'mean':5.}\n",
    "\n",
    "# creates torch parameters for each params declared in the dictionary\n",
    "params_dict = {}\n",
    "for key, value in pars.items():\n",
    "    params_dict[key] = torch.tensor(value, requires_grad=True)    "
   ]
  },
  {
   "cell_type": "code",
   "execution_count": 4,
   "id": "073288eb-d51b-4cd0-90a9-73968cfaa1ae",
   "metadata": {},
   "outputs": [],
   "source": [
    "output_dist = start_SOGA_smooth(cfg, params_dict)"
   ]
  },
  {
   "cell_type": "code",
   "execution_count": 5,
   "id": "444c6d6f-561a-4082-94df-c6664d191b41",
   "metadata": {},
   "outputs": [
    {
     "data": {
      "text/plain": [
       "Dist<['a'],pi: tensor([[1.]])\n",
       "mu: tensor([[5.]], grad_fn=<IndexBackward0>)\n",
       "sigma: tensor([[[1.]]])>"
      ]
     },
     "execution_count": 5,
     "metadata": {},
     "output_type": "execute_result"
    }
   ],
   "source": [
    "output_dist"
   ]
  },
  {
   "cell_type": "code",
   "execution_count": 6,
   "id": "3324f797-9a95-4f6a-8306-9b104465c151",
   "metadata": {},
   "outputs": [],
   "source": [
    "sampling_mean = torch.tensor(10.)\n",
    "sampling_std = torch.tensor(1.)\n",
    "samples = distributions.Normal(sampling_mean, sampling_std).sample((100,1))"
   ]
  },
  {
   "cell_type": "code",
   "execution_count": 7,
   "id": "35c7222b-2ab7-4352-b9a6-2d04c27bcb4c",
   "metadata": {},
   "outputs": [],
   "source": [
    "def neg_likelihood(dist, samples, idx=0):\n",
    "    likelihood = dist.gm.marg_pdf(samples,idx)\n",
    "    log_likelihood = torch.log(likelihood)\n",
    "    return -torch.sum(log_likelihood)"
   ]
  },
  {
   "cell_type": "code",
   "execution_count": 8,
   "id": "e320eb98-ae82-4c9d-8434-806fe1a7d90a",
   "metadata": {},
   "outputs": [
    {
     "name": "stdout",
     "output_type": "stream",
     "text": [
      "mean: 5.050000190734863 loss: 1382.452392578125\n",
      "mean: 7.355869770050049 loss: 491.21490478515625\n",
      "mean: 8.901952743530273 loss: 192.91543579101562\n",
      "mean: 9.662483215332031 loss: 135.6775360107422\n",
      "mean: 9.929889678955078 loss: 129.76629638671875\n",
      "mean: 9.994834899902344 loss: 129.46324157714844\n",
      "mean: 10.005101203918457 loss: 129.45651245117188\n",
      "mean: 10.00598430633545 loss: 129.4564666748047\n",
      "mean: 10.005997657775879 loss: 129.45648193359375\n",
      "mean: 10.005997657775879 loss: 129.45648193359375\n"
     ]
    }
   ],
   "source": [
    "import torch\n",
    "\n",
    "# Define the optimizer with init_mean as the parameter\n",
    "\n",
    "optimizer = torch.optim.Adam([params_dict[key] for key in params_dict.keys()], lr=0.05)\n",
    "\n",
    "for i in range(500):\n",
    "    optimizer.zero_grad()  # Reset gradients\n",
    "    \n",
    "    # loss\n",
    "    #current_dist = compute_posterior(init_mean)\n",
    "    current_dist = start_SOGA_smooth(cfg, params_dict)\n",
    "    loss = neg_likelihood(current_dist, samples)\n",
    "    \n",
    "    # Backpropagate\n",
    "    loss.backward()\n",
    "    \n",
    "    # Update init_mean\n",
    "    optimizer.step()\n",
    "\n",
    "    #with torch.no_grad():\n",
    "    #    params_dict['std'].clamp_(0.001, 1e10)\n",
    "    \n",
    "    # Print progress\n",
    "    if i % 50 == 0:\n",
    "        out = ''\n",
    "        for key in params_dict.keys():\n",
    "            out = out + key + ': ' + str(params_dict[key].item())\n",
    "        out = out + f\" loss: {loss.item()}\"\n",
    "        print(out)\n"
   ]
  },
  {
   "cell_type": "code",
   "execution_count": 9,
   "id": "caa378eb",
   "metadata": {},
   "outputs": [
    {
     "data": {
      "text/plain": [
       "tensor(10.)"
      ]
     },
     "execution_count": 9,
     "metadata": {},
     "output_type": "execute_result"
    }
   ],
   "source": [
    "sampling_mean"
   ]
  },
  {
   "cell_type": "code",
   "execution_count": 10,
   "id": "b82fc13e-2507-4bf5-a308-d6c8bd382c2e",
   "metadata": {},
   "outputs": [
    {
     "name": "stdout",
     "output_type": "stream",
     "text": [
      "Likelihood with respect to the sampling distribution:  tensor(129.4583)\n",
      "Likelihood in the optimized distribution:  tensor(129.4565, grad_fn=<NegBackward0>)\n"
     ]
    }
   ],
   "source": [
    "sampling_dist = Dist(['x'], GaussianMix(torch.tensor([[1.]]), torch.tensor([[sampling_mean.item()]]), torch.tensor([[[sampling_std.item()]]])))\n",
    "print('Likelihood with respect to the sampling distribution: ', neg_likelihood(sampling_dist, samples))\n",
    "output_dist = start_SOGA(cfg, params_dict)\n",
    "print('Likelihood in the optimized distribution: ', neg_likelihood(output_dist, samples))"
   ]
  },
  {
   "cell_type": "markdown",
   "id": "5d2fd792-94ec-4c59-b7a1-b7e65682b9eb",
   "metadata": {},
   "source": [
    "### Test 2\n",
    "\n",
    "``` a = gm([1.], [10.], [_std]);  ```"
   ]
  },
  {
   "cell_type": "code",
   "execution_count": 11,
   "id": "6c7a0dfd-c676-4095-b08a-ee9bc9170ed3",
   "metadata": {},
   "outputs": [],
   "source": [
    "compiledFile=compile2SOGA('../programs/SOGA/Optimization/Optim2.soga')\n",
    "cfg = produce_cfg(compiledFile)"
   ]
  },
  {
   "cell_type": "code",
   "execution_count": 12,
   "id": "7b95adf8-5d95-4e37-857a-3687955a2742",
   "metadata": {},
   "outputs": [],
   "source": [
    "pars = {'std':2.}\n",
    "\n",
    "# creates torch parameters for each params declared in the dictionary\n",
    "params_dict = {}\n",
    "for key, value in pars.items():\n",
    "    params_dict[key] = torch.tensor(value, requires_grad=True)    "
   ]
  },
  {
   "cell_type": "code",
   "execution_count": 13,
   "id": "b00af0f2-5497-410e-b474-986f2a310c9b",
   "metadata": {},
   "outputs": [],
   "source": [
    "output_dist = start_SOGA_smooth(cfg, params_dict)"
   ]
  },
  {
   "cell_type": "code",
   "execution_count": 14,
   "id": "d97f65c6-feee-4eea-b0a9-7f41b5b84abb",
   "metadata": {},
   "outputs": [
    {
     "data": {
      "text/plain": [
       "Dist<['a'],pi: tensor([[1.]])\n",
       "mu: tensor([[10.]])\n",
       "sigma: tensor([[[4.]]], grad_fn=<IndexBackward0>)>"
      ]
     },
     "execution_count": 14,
     "metadata": {},
     "output_type": "execute_result"
    }
   ],
   "source": [
    "output_dist"
   ]
  },
  {
   "cell_type": "code",
   "execution_count": 15,
   "id": "a35a5f86-53e7-4b5f-ae4d-5b8674cd9919",
   "metadata": {},
   "outputs": [
    {
     "name": "stdout",
     "output_type": "stream",
     "text": [
      "samples std tensor(1.0151)\n"
     ]
    }
   ],
   "source": [
    "sampling_mean = torch.tensor(10.)\n",
    "sampling_std = torch.tensor(1.)\n",
    "samples = distributions.Normal(sampling_mean, sampling_std).sample((1000,1))\n",
    "print('samples std', torch.std(samples))"
   ]
  },
  {
   "cell_type": "code",
   "execution_count": 16,
   "id": "8f270789-dc91-4aec-bb57-de7c7d7cd9e3",
   "metadata": {},
   "outputs": [
    {
     "name": "stdout",
     "output_type": "stream",
     "text": [
      "std: 1.9900000095367432 loss: 1740.7802734375\n",
      "std: 1.4896724224090576 loss: 1553.0281982421875\n",
      "std: 1.0747566223144531 loss: 1437.242919921875\n",
      "std: 1.0110114812850952 loss: 1433.5181884765625\n",
      "std: 1.0147432088851929 loss: 1433.502197265625\n",
      "std: 1.0146892070770264 loss: 1433.502197265625\n",
      "std: 1.014668583869934 loss: 1433.5020751953125\n",
      "std: 1.014670491218567 loss: 1433.501953125\n",
      "std: 1.014670491218567 loss: 1433.501953125\n",
      "std: 1.014670491218567 loss: 1433.501953125\n"
     ]
    }
   ],
   "source": [
    "import torch\n",
    "\n",
    "# Define the optimizer with init_mean as the parameter\n",
    "\n",
    "optimizer = torch.optim.Adam([params_dict[key] for key in params_dict.keys()], lr=0.01)\n",
    "\n",
    "for i in range(500):\n",
    "    optimizer.zero_grad()  # Reset gradients\n",
    "    \n",
    "    # loss\n",
    "    #current_dist = compute_posterior(init_mean)\n",
    "    current_dist = start_SOGA_smooth(cfg, params_dict)\n",
    "    loss = neg_likelihood(current_dist, samples)\n",
    "    \n",
    "    # Backpropagate\n",
    "    loss.backward()\n",
    "    \n",
    "    # Update init_mean\n",
    "    optimizer.step()\n",
    "\n",
    "    #with torch.no_grad():\n",
    "    #    params_dict['std'].clamp_(0.001, 1e10)\n",
    "    \n",
    "    # Print progress\n",
    "    if i % 50 == 0:\n",
    "        out = ''\n",
    "        for key in params_dict.keys():\n",
    "            out = out + key + ': ' + str(params_dict[key].item())\n",
    "        out = out + f\" loss: {loss.item()}\"\n",
    "        print(out)\n"
   ]
  },
  {
   "cell_type": "code",
   "execution_count": 17,
   "id": "0f456a88-09ca-42b8-ba8d-0fb7b3a05555",
   "metadata": {},
   "outputs": [
    {
     "name": "stdout",
     "output_type": "stream",
     "text": [
      "Likelihood with respect to the sampling distribution:  tensor(1433.7163)\n",
      "Likelihood in the optimized distribution:  tensor(1433.5020, grad_fn=<NegBackward0>)\n"
     ]
    }
   ],
   "source": [
    "sampling_dist = Dist(['x'], GaussianMix(torch.tensor([1.]), torch.tensor([[sampling_mean.item()]]), torch.tensor([[[sampling_std.item()**2]]])))\n",
    "print('Likelihood with respect to the sampling distribution: ', neg_likelihood(sampling_dist, samples))\n",
    "output_dist = start_SOGA(cfg, params_dict)\n",
    "print('Likelihood in the optimized distribution: ', neg_likelihood(output_dist, samples))"
   ]
  },
  {
   "cell_type": "code",
   "execution_count": 18,
   "id": "cdb1f49b-ab48-41b5-b33b-ca044f5c850b",
   "metadata": {},
   "outputs": [
    {
     "data": {
      "text/plain": [
       "<matplotlib.legend.Legend at 0x222cf769b90>"
      ]
     },
     "execution_count": 18,
     "metadata": {},
     "output_type": "execute_result"
    },
    {
     "data": {
      "image/png": "[encoded data removed]",
      "text/plain": [
       "<Figure size 640x480 with 1 Axes>"
      ]
     },
     "metadata": {},
     "output_type": "display_data"
    }
   ],
   "source": [
    "import matplotlib.pyplot as plt\n",
    "from scipy.stats import norm\n",
    "\n",
    "npsamples = np.array([sample.item() for sample in samples])\n",
    "_ = plt.hist(npsamples, bins=50, density=True)\n",
    "\n",
    "x = np.linspace(7,14,500)\n",
    "y_sampling = norm(sampling_mean.item(), sampling_std.item()).pdf(x)\n",
    "y_optim = norm(sampling_mean.item(), params_dict['std'].item()).pdf(x)\n",
    "\n",
    "plt.plot(x, y_sampling, label='sampling dist')\n",
    "plt.plot(x, y_optim, label='optimized dist')\n",
    "plt.legend()"
   ]
  },
  {
   "cell_type": "markdown",
   "id": "d10259be-b201-40e5-a8c2-19adaa9a1d8c",
   "metadata": {},
   "source": [
    "### TEST 3\n",
    "\n",
    "```\n",
    "a = gm([1.], [1.], [1.]);\n",
    "a = _par1 * a + 1.;\n",
    "```\n",
    "\n",
    "sample from the program with _par1 = 2"
   ]
  },
  {
   "cell_type": "code",
   "execution_count": 19,
   "id": "fa0ed12a-92de-401e-94b2-abe5d6a7a31c",
   "metadata": {},
   "outputs": [],
   "source": [
    "from sogaPreprocessor import *\n",
    "from producecfg import *\n",
    "from libSOGA import *"
   ]
  },
  {
   "cell_type": "code",
   "execution_count": 20,
   "id": "1302ade0-2e2b-4d40-8466-166eb3a0be4a",
   "metadata": {},
   "outputs": [],
   "source": [
    "compiledFile=compile2SOGA('../programs/SOGA/Optimization/Optim3.soga')\n",
    "cfg = produce_cfg(compiledFile)"
   ]
  },
  {
   "cell_type": "code",
   "execution_count": 21,
   "id": "8467e04b-2f43-4ba5-89a6-314d535939e4",
   "metadata": {},
   "outputs": [],
   "source": [
    "pars = {'par1':1.}\n",
    "\n",
    "# creates torch parameters for each params declared in the dictionary\n",
    "params_dict = {}\n",
    "for key, value in pars.items():\n",
    "    params_dict[key] = torch.tensor(value, requires_grad=True)    "
   ]
  },
  {
   "cell_type": "code",
   "execution_count": 22,
   "id": "711d5689-ac34-4abb-8858-12d21540026a",
   "metadata": {},
   "outputs": [],
   "source": [
    "output_dist = start_SOGA_smooth(cfg, params_dict)"
   ]
  },
  {
   "cell_type": "code",
   "execution_count": 23,
   "id": "3d89e41b-adda-4500-872d-8e2ab3dd7b17",
   "metadata": {},
   "outputs": [
    {
     "data": {
      "text/plain": [
       "Dist<['a'],pi: tensor([[1.]])\n",
       "mu: tensor([[1.]], grad_fn=<IndexBackward0>)\n",
       "sigma: tensor([[[1.]]], grad_fn=<IndexBackward0>)>"
      ]
     },
     "execution_count": 23,
     "metadata": {},
     "output_type": "execute_result"
    }
   ],
   "source": [
    "output_dist"
   ]
  },
  {
   "cell_type": "code",
   "execution_count": 24,
   "id": "c236c5d1-535d-4a99-aec7-6cecb4386165",
   "metadata": {},
   "outputs": [],
   "source": [
    "sampling_mean = torch.tensor(2.)\n",
    "sampling_std = torch.tensor(2.)\n",
    "samples = distributions.Normal(sampling_mean, sampling_std).sample((1000,1))"
   ]
  },
  {
   "cell_type": "code",
   "execution_count": 25,
   "id": "cfdf8d6e-d857-4292-b4af-5a9198acb880",
   "metadata": {},
   "outputs": [
    {
     "data": {
      "text/plain": [
       "tensor(3.7891)"
      ]
     },
     "execution_count": 25,
     "metadata": {},
     "output_type": "execute_result"
    }
   ],
   "source": [
    "torch.var(samples)"
   ]
  },
  {
   "cell_type": "code",
   "execution_count": 26,
   "id": "2fe53aa1",
   "metadata": {},
   "outputs": [],
   "source": [
    "def neg_likelihood(dist, samples, idx=0):\n",
    "    likelihood = dist.gm.marg_pdf(samples,idx)\n",
    "    log_likelihood = torch.log(likelihood)\n",
    "    return -torch.sum(log_likelihood)"
   ]
  },
  {
   "cell_type": "code",
   "execution_count": 27,
   "id": "c269025e-7a9b-427b-a941-10dd0666bf2e",
   "metadata": {},
   "outputs": [
    {
     "name": "stdout",
     "output_type": "stream",
     "text": [
      "par1: 1.0099999904632568 loss: 3351.916748046875\n",
      "par1: 1.4062180519104004 loss: 2324.570556640625\n",
      "par1: 1.6081644296646118 loss: 2163.370849609375\n",
      "par1: 1.730619192123413 loss: 2115.822265625\n",
      "par1: 1.8122953176498413 loss: 2097.864501953125\n",
      "par1: 1.868170976638794 loss: 2090.49365234375\n",
      "par1: 1.9064598083496094 loss: 2087.3935546875\n",
      "par1: 1.9324159622192383 loss: 2086.098876953125\n",
      "par1: 1.949680209159851 loss: 2085.572998046875\n",
      "par1: 1.9608789682388306 loss: 2085.3681640625\n"
     ]
    }
   ],
   "source": [
    "import torch\n",
    "\n",
    "# Define the optimizer with init_mean as the parameter\n",
    "\n",
    "optimizer = torch.optim.Adam([params_dict[key] for key in params_dict.keys()], lr=0.01)\n",
    "\n",
    "for i in range(500):\n",
    "    optimizer.zero_grad()  # Reset gradients\n",
    "    \n",
    "    # loss\n",
    "    #current_dist = compute_posterior(init_mean)\n",
    "    current_dist = start_SOGA_smooth(cfg, params_dict)\n",
    "    loss = neg_likelihood(current_dist, samples)\n",
    "    \n",
    "    # Backpropagate\n",
    "    loss.backward()\n",
    "    \n",
    "    # Update init_mean\n",
    "    optimizer.step()\n",
    "\n",
    "    #with torch.no_grad():\n",
    "    #    params_dict['std'].clamp_(0.001, 1e10)\n",
    "    \n",
    "    # Print progress\n",
    "    if i % 50 == 0:\n",
    "        out = ''\n",
    "        for key in params_dict.keys():\n",
    "            out = out + key + ': ' + str(params_dict[key].item())\n",
    "        out = out + f\" loss: {loss.item()}\"\n",
    "        print(out)\n"
   ]
  },
  {
   "cell_type": "code",
   "execution_count": 28,
   "id": "b3236c5d-6773-4a29-8360-0d3c513b6a88",
   "metadata": {},
   "outputs": [
    {
     "name": "stdout",
     "output_type": "stream",
     "text": [
      "Likelihood with respect to the sampling distribution:  tensor(2085.4426)\n",
      "Likelihood in the optimized distribution:  tensor(2085.2925, grad_fn=<NegBackward0>)\n"
     ]
    }
   ],
   "source": [
    "sampling_dist = Dist(['x'], GaussianMix(torch.tensor([1.]), torch.tensor([[sampling_mean.item()]]), torch.tensor([[[sampling_std.item()**2]]])))\n",
    "print('Likelihood with respect to the sampling distribution: ', neg_likelihood(sampling_dist, samples))\n",
    "output_dist = start_SOGA(cfg, params_dict)\n",
    "print('Likelihood in the optimized distribution: ', neg_likelihood(output_dist, samples))"
   ]
  },
  {
   "cell_type": "code",
   "execution_count": 29,
   "id": "e2d6acb1-13d6-45e0-819c-943fc78df34d",
   "metadata": {},
   "outputs": [
    {
     "data": {
      "text/plain": [
       "<matplotlib.legend.Legend at 0x222cf9023d0>"
      ]
     },
     "execution_count": 29,
     "metadata": {},
     "output_type": "execute_result"
    },
    {
     "data": {
      "image/png": "[encoded data removed]",
      "text/plain": [
       "<Figure size 640x480 with 1 Axes>"
      ]
     },
     "metadata": {},
     "output_type": "display_data"
    }
   ],
   "source": [
    "import matplotlib.pyplot as plt\n",
    "from scipy.stats import norm\n",
    "\n",
    "npsamples = np.array([sample.item() for sample in samples])\n",
    "_ = plt.hist(npsamples, bins=50, density=True)\n",
    "\n",
    "x = np.linspace(-4,8,500)\n",
    "y_sampling = norm(sampling_mean.item(), sampling_std.item()).pdf(x)\n",
    "y_optim = norm(sampling_mean.item(), np.sqrt(output_dist.gm.sigma[0][0,0].item())).pdf(x)\n",
    "\n",
    "plt.plot(x, y_sampling, label='sampling dist')\n",
    "plt.plot(x, y_optim, label='optimized dist')\n",
    "plt.legend()"
   ]
  },
  {
   "cell_type": "markdown",
   "id": "addc1f56-2bd0-4f2d-b293-68a0f4245ff5",
   "metadata": {},
   "source": [
    "### TEST 4\n",
    "\n",
    "```\n",
    "a = gm([1.], [1.], [1.]);\n",
    "a = 2 * a + _par2;\n",
    "```\n",
    "\n",
    "sample from the program with _par2 = 1"
   ]
  },
  {
   "cell_type": "code",
   "execution_count": 30,
   "id": "b4b40ead-ee7e-496f-90c4-692832df0a8b",
   "metadata": {},
   "outputs": [],
   "source": [
    "from sogaPreprocessor import *\n",
    "from producecfg import *\n",
    "from libSOGA import *"
   ]
  },
  {
   "cell_type": "code",
   "execution_count": 31,
   "id": "69910b59-83e5-4af6-8dff-c95253417cf3",
   "metadata": {},
   "outputs": [],
   "source": [
    "compiledFile=compile2SOGA('../programs/SOGA/Optimization/Optim4.soga')\n",
    "cfg = produce_cfg(compiledFile)"
   ]
  },
  {
   "cell_type": "code",
   "execution_count": 32,
   "id": "9535b697-437f-47a5-9c13-a08c8fa3c595",
   "metadata": {},
   "outputs": [],
   "source": [
    "pars = {'par2':2.}\n",
    "\n",
    "# creates torch parameters for each params declared in the dictionary\n",
    "params_dict = {}\n",
    "for key, value in pars.items():\n",
    "    params_dict[key] = torch.tensor(value, requires_grad=True)    "
   ]
  },
  {
   "cell_type": "code",
   "execution_count": 33,
   "id": "8296fef1-9480-4a01-8d60-58f0873e6720",
   "metadata": {},
   "outputs": [],
   "source": [
    "output_dist = start_SOGA_smooth(cfg, params_dict)"
   ]
  },
  {
   "cell_type": "code",
   "execution_count": 34,
   "id": "4a7f820c-ad29-42ac-bc86-cbbdd5d1a7c7",
   "metadata": {},
   "outputs": [
    {
     "data": {
      "text/plain": [
       "Dist<['a'],pi: tensor([[1.]])\n",
       "mu: tensor([[4.]], grad_fn=<IndexBackward0>)\n",
       "sigma: tensor([[[4.]]])>"
      ]
     },
     "execution_count": 34,
     "metadata": {},
     "output_type": "execute_result"
    }
   ],
   "source": [
    "output_dist"
   ]
  },
  {
   "cell_type": "code",
   "execution_count": 35,
   "id": "0fb7269f-7d3a-4f6b-b67d-889709630923",
   "metadata": {},
   "outputs": [],
   "source": [
    "sampling_mean = torch.tensor(3.)\n",
    "sampling_std = torch.tensor(2.)\n",
    "samples = distributions.Normal(sampling_mean, sampling_std).sample((1000,1))"
   ]
  },
  {
   "cell_type": "code",
   "execution_count": 36,
   "id": "b3a0b882-d4ef-4574-bc02-3b93d7fd850c",
   "metadata": {},
   "outputs": [
    {
     "data": {
      "text/plain": [
       "tensor(4.2132)"
      ]
     },
     "execution_count": 36,
     "metadata": {},
     "output_type": "execute_result"
    }
   ],
   "source": [
    "torch.var(samples)"
   ]
  },
  {
   "cell_type": "code",
   "execution_count": 37,
   "id": "8a0e19ec-0e89-4311-be9b-1b96a806dc44",
   "metadata": {},
   "outputs": [
    {
     "name": "stdout",
     "output_type": "stream",
     "text": [
      "par2: 1.9989999532699585 loss: 2256.391845703125\n",
      "par2: 1.949331283569336 loss: 2244.62255859375\n",
      "par2: 1.9008374214172363 loss: 2233.72509765625\n",
      "par2: 1.8536654710769653 loss: 2223.68896484375\n",
      "par2: 1.807830572128296 loss: 2214.470703125\n",
      "par2: 1.7633471488952637 loss: 2206.02685546875\n",
      "par2: 1.7202279567718506 loss: 2198.314697265625\n",
      "par2: 1.6784864664077759 loss: 2191.291748046875\n",
      "par2: 1.638135313987732 loss: 2184.91748046875\n",
      "par2: 1.5991864204406738 loss: 2179.15087890625\n"
     ]
    }
   ],
   "source": [
    "import torch\n",
    "\n",
    "# Define the optimizer with init_mean as the parameter\n",
    "\n",
    "optimizer = torch.optim.Adam([params_dict[key] for key in params_dict.keys()], lr=0.001)\n",
    "\n",
    "for i in range(500):\n",
    "    optimizer.zero_grad()  # Reset gradients\n",
    "    \n",
    "    # loss\n",
    "    #current_dist = compute_posterior(init_mean)\n",
    "    current_dist = start_SOGA_smooth(cfg, params_dict)\n",
    "    loss = neg_likelihood(current_dist, samples)\n",
    "    \n",
    "    # Backpropagate\n",
    "    loss.backward()\n",
    "    \n",
    "    # Update init_mean\n",
    "    optimizer.step()\n",
    "\n",
    "    #with torch.no_grad():\n",
    "    #    params_dict['std'].clamp_(0.001, 1e10)\n",
    "    \n",
    "    # Print progress\n",
    "    if i % 50 == 0:\n",
    "        out = ''\n",
    "        for key in params_dict.keys():\n",
    "            out = out + key + ': ' + str(params_dict[key].item())\n",
    "        out = out + f\" loss: {loss.item()}\"\n",
    "        print(out)\n"
   ]
  },
  {
   "cell_type": "code",
   "execution_count": 38,
   "id": "6909ac5a-5b8a-4f72-be0c-cf921f5c0043",
   "metadata": {},
   "outputs": [
    {
     "name": "stdout",
     "output_type": "stream",
     "text": [
      "Likelihood with respect to the sampling distribution:  tensor(2138.3071)\n",
      "Likelihood in the optimized distribution:  tensor(2173.9529, grad_fn=<NegBackward0>)\n"
     ]
    }
   ],
   "source": [
    "sampling_dist = Dist(['x'], GaussianMix(torch.tensor([1.]), torch.tensor([[sampling_mean.item()]]), torch.tensor([[[sampling_std.item()**2]]])))\n",
    "print('Likelihood with respect to the sampling distribution: ', neg_likelihood(sampling_dist, samples))\n",
    "output_dist = start_SOGA(cfg, params_dict)\n",
    "print('Likelihood in the optimized distribution: ', neg_likelihood(output_dist, samples))"
   ]
  },
  {
   "cell_type": "code",
   "execution_count": 39,
   "id": "b45f80b5-18aa-497a-878a-4b00d17c0856",
   "metadata": {},
   "outputs": [
    {
     "data": {
      "text/plain": [
       "<matplotlib.legend.Legend at 0x222cfbe2350>"
      ]
     },
     "execution_count": 39,
     "metadata": {},
     "output_type": "execute_result"
    },
    {
     "data": {
      "image/png": "[encoded data removed]",
      "text/plain": [
       "<Figure size 640x480 with 1 Axes>"
      ]
     },
     "metadata": {},
     "output_type": "display_data"
    }
   ],
   "source": [
    "import matplotlib.pyplot as plt\n",
    "from scipy.stats import norm\n",
    "\n",
    "npsamples = np.array([sample.item() for sample in samples])\n",
    "_ = plt.hist(npsamples, bins=50, density=True)\n",
    "\n",
    "x = np.linspace(-2,8,500)\n",
    "y_sampling = norm(sampling_mean.item(), sampling_std.item()).pdf(x)\n",
    "y_optim = norm(sampling_mean.item(), np.sqrt(output_dist.gm.sigma[0][0,0].item())).pdf(x)\n",
    "\n",
    "plt.plot(x, y_sampling, label='sampling dist')\n",
    "plt.plot(x, y_optim, label='optimized dist')\n",
    "plt.legend()"
   ]
  },
  {
   "cell_type": "markdown",
   "id": "cb3c62d2-6bca-4685-b962-843331af51a0",
   "metadata": {},
   "source": [
    "### TEST 5\n",
    "\n",
    "``` \n",
    "if gm([1.], [_mean], [1.]) < 0 {\n",
    "    a = gm([1.], [-5.], [1.]);\n",
    "} else {\n",
    "    a = gm([1.], [5.], [1.]);\n",
    "} end if;\n",
    "```\n",
    "\n",
    "sample from the program with _mean = 0"
   ]
  },
  {
   "cell_type": "code",
   "execution_count": 40,
   "id": "fc644140-b63d-4c7a-b3b6-54bd4f043b8e",
   "metadata": {},
   "outputs": [],
   "source": [
    "from sogaPreprocessor import *\n",
    "from producecfg import *\n",
    "from libSOGAsmoother import *\n"
   ]
  },
  {
   "cell_type": "code",
   "execution_count": 41,
   "id": "e2908590-6c5f-4adf-8ce0-62cca356b149",
   "metadata": {},
   "outputs": [],
   "source": [
    "compiledFile=compile2SOGA('../programs/SOGA/Optimization/Optim5.soga')\n",
    "cfg = produce_cfg(compiledFile)"
   ]
  },
  {
   "cell_type": "code",
   "execution_count": 42,
   "id": "81c05dbd",
   "metadata": {},
   "outputs": [
    {
     "data": {
      "text/plain": [
       "{'entry': EntryNode<>,\n",
       " 'test0': TestNode<test0,gm([1.],[_mean],[1.])<0>,\n",
       " 'state0': StateNode<state0,True,a=gm([1.],[-5.],[1.])>,\n",
       " 'state1': StateNode<state1,False,a=gm([1.],[5.],[1.])>,\n",
       " 'merge0': MergeNode<merge0>,\n",
       " 'exit': ExitNode<>}"
      ]
     },
     "execution_count": 42,
     "metadata": {},
     "output_type": "execute_result"
    }
   ],
   "source": [
    "cfg.node_list"
   ]
  },
  {
   "cell_type": "code",
   "execution_count": 43,
   "id": "36f155c1-e4e2-456b-9a80-750345a1668b",
   "metadata": {},
   "outputs": [],
   "source": [
    "pars = {'mean':0.5}\n",
    "\n",
    "# creates torch parameters for each params declared in the dictionary\n",
    "params_dict = {}\n",
    "for key, value in pars.items():\n",
    "    params_dict[key] = torch.tensor(value, requires_grad=True)    "
   ]
  },
  {
   "cell_type": "code",
   "execution_count": 44,
   "id": "c89ea9f5-01f8-43e5-987f-270606b1639e",
   "metadata": {},
   "outputs": [],
   "source": [
    "output_dist = start_SOGA_smooth(cfg, params_dict)"
   ]
  },
  {
   "cell_type": "code",
   "execution_count": 45,
   "id": "a899425d-8057-494b-b342-5fa80dadfc17",
   "metadata": {},
   "outputs": [
    {
     "data": {
      "text/plain": [
       "Dist<['a'],pi: tensor([[0.3085],\n",
       "        [0.6915]], grad_fn=<DivBackward0>)\n",
       "mu: tensor([[-5.],\n",
       "        [ 5.]], grad_fn=<IndexBackward0>)\n",
       "sigma: tensor([[[1.]],\n",
       "\n",
       "        [[1.]]], grad_fn=<IndexBackward0>)>"
      ]
     },
     "execution_count": 45,
     "metadata": {},
     "output_type": "execute_result"
    }
   ],
   "source": [
    "output_dist"
   ]
  },
  {
   "cell_type": "code",
   "execution_count": 46,
   "id": "2c54698f-1e8d-422a-8a71-34d7a2b950f7",
   "metadata": {},
   "outputs": [],
   "source": [
    "sampling_pi = torch.tensor(0.5)\n",
    "sampling_mean = torch.tensor(3.)\n",
    "sampling_std = torch.tensor(2.)\n",
    "\n",
    "samples = torch.zeros((500,1))\n",
    "latent = distributions.Bernoulli(sampling_pi).sample(samples.shape)\n",
    "for i, r in enumerate(latent):\n",
    "    if r:\n",
    "        samples[i] = distributions.Normal(torch.tensor(-5.), torch.tensor(1.)).sample((1,))\n",
    "    else:\n",
    "        samples[i] = distributions.Normal(torch.tensor(5.), torch.tensor(1.)).sample((1,))"
   ]
  },
  {
   "cell_type": "code",
   "execution_count": 47,
   "id": "0570d120-9d79-45ab-81ba-4d75ab0eb3ea",
   "metadata": {},
   "outputs": [
    {
     "data": {
      "image/png": "[encoded data removed]",
      "text/plain": [
       "<Figure size 640x480 with 1 Axes>"
      ]
     },
     "metadata": {},
     "output_type": "display_data"
    }
   ],
   "source": [
    "import matplotlib.pyplot as plt\n",
    "from scipy.stats import norm\n",
    "\n",
    "npsamples = np.array([sample.item() for sample in samples])\n",
    "_ = plt.hist(npsamples, bins=50, density=True)"
   ]
  },
  {
   "cell_type": "code",
   "execution_count": 48,
   "id": "2bf2d614",
   "metadata": {},
   "outputs": [],
   "source": [
    "def neg_likelihood(dist, samples, idx=0):\n",
    "    likelihood = dist.gm.marg_pdf(samples,idx)\n",
    "    log_likelihood = torch.log(likelihood)\n",
    "    return -torch.sum(log_likelihood)"
   ]
  },
  {
   "cell_type": "code",
   "execution_count": 49,
   "id": "3fa2455c-0c0c-4467-a32a-634f903abcb1",
   "metadata": {},
   "outputs": [
    {
     "name": "stdout",
     "output_type": "stream",
     "text": [
      "mean: 0.49000000953674316 loss: 1129.16357421875\n",
      "mean: 0.2103770673274994 loss: 1093.9114990234375\n",
      "mean: 0.03130533918738365 loss: 1084.4637451171875\n",
      "mean: -0.031175293028354645 loss: 1083.6812744140625\n",
      "mean: -0.03760668635368347 loss: 1083.6788330078125\n",
      "mean: -0.03536940738558769 loss: 1083.6778564453125\n",
      "mean: -0.03498529642820358 loss: 1083.677734375\n",
      "mean: -0.03509895130991936 loss: 1083.677734375\n",
      "mean: -0.035104863345623016 loss: 1083.6778564453125\n",
      "mean: -0.03509915992617607 loss: 1083.677734375\n"
     ]
    }
   ],
   "source": [
    "import torch\n",
    "\n",
    "#pars = {'mean':2.}\n",
    "#\n",
    "## creates torch parameters for each params declared in the dictionary\n",
    "#params_dict = {}\n",
    "#for key, value in pars.items():\n",
    "#    params_dict[key] = torch.tensor(value, requires_grad=True)    \n",
    "\n",
    "optimizer = torch.optim.Adam([params_dict[key] for key in params_dict.keys()], lr=0.01)\n",
    "\n",
    "for i in range(300):\n",
    "    optimizer.zero_grad()  # Reset gradients\n",
    "    \n",
    "    # loss\n",
    "    current_dist = start_SOGA_smooth(cfg, params_dict)\n",
    "    loss = neg_likelihood(current_dist, samples)\n",
    "\n",
    "    # Backpropagate\n",
    "    loss.backward()\n",
    "    \n",
    "    # Update init_mean\n",
    "    optimizer.step()\n",
    "\n",
    "    #with torch.no_grad():\n",
    "    #    params_dict['std'].clamp_(0.001, 1e10)\n",
    "    \n",
    "    # Print progress\n",
    "    if i % 30 == 0:\n",
    "        out = ''\n",
    "        for key in params_dict.keys():\n",
    "            out = out + key + ': ' + str(params_dict[key].item())\n",
    "        out = out + f\" loss: {loss.item()}\"\n",
    "        print(out)\n"
   ]
  },
  {
   "cell_type": "code",
   "execution_count": 50,
   "id": "df86c370",
   "metadata": {},
   "outputs": [
    {
     "data": {
      "text/plain": [
       "Dist<['a'],pi: tensor([[0.5140],\n",
       "        [0.4860]], grad_fn=<DivBackward0>)\n",
       "mu: tensor([[-5.],\n",
       "        [ 5.]], grad_fn=<IndexBackward0>)\n",
       "sigma: tensor([[[1.]],\n",
       "\n",
       "        [[1.]]], grad_fn=<IndexBackward0>)>"
      ]
     },
     "execution_count": 50,
     "metadata": {},
     "output_type": "execute_result"
    }
   ],
   "source": [
    "current_dist"
   ]
  },
  {
   "cell_type": "code",
   "execution_count": 51,
   "id": "d7e484b3-3e0d-470f-a28a-0f9cf69eb1a2",
   "metadata": {},
   "outputs": [
    {
     "name": "stdout",
     "output_type": "stream",
     "text": [
      "Likelihood with respect to the sampling distribution:  tensor(1083.8738)\n",
      "Likelihood in the optimized distribution:  tensor(1083.6777, grad_fn=<NegBackward0>)\n"
     ]
    }
   ],
   "source": [
    "sampling_dist = Dist(['x'], GaussianMix(torch.tensor([[0.5], [0.5]]), torch.tensor([[-5.], [5.]]), torch.tensor([[[1.]], [[1.]]])))\n",
    "print('Likelihood with respect to the sampling distribution: ', neg_likelihood(sampling_dist, samples, idx=0))\n",
    "output_dist = start_SOGA(cfg, params_dict)\n",
    "print('Likelihood in the optimized distribution: ', neg_likelihood(output_dist, samples, idx=0))"
   ]
  },
  {
   "cell_type": "code",
   "execution_count": 52,
   "id": "5a9d552c-2580-4bcf-b1f4-2b540dbb8c85",
   "metadata": {},
   "outputs": [
    {
     "data": {
      "text/plain": [
       "Dist<['a'],pi: tensor([[0.5140],\n",
       "        [0.4860]], grad_fn=<DivBackward0>)\n",
       "mu: tensor([[-5.],\n",
       "        [ 5.]], grad_fn=<IndexBackward0>)\n",
       "sigma: tensor([[[1.]],\n",
       "\n",
       "        [[1.]]], grad_fn=<IndexBackward0>)>"
      ]
     },
     "execution_count": 52,
     "metadata": {},
     "output_type": "execute_result"
    }
   ],
   "source": [
    "output_dist"
   ]
  },
  {
   "cell_type": "code",
   "execution_count": 53,
   "id": "f9db3134-31e8-4b73-90be-966608e2d4da",
   "metadata": {},
   "outputs": [
    {
     "data": {
      "text/plain": [
       "<matplotlib.legend.Legend at 0x222cfccc4d0>"
      ]
     },
     "execution_count": 53,
     "metadata": {},
     "output_type": "execute_result"
    },
    {
     "data": {
      "image/png": "[encoded data removed]",
      "text/plain": [
       "<Figure size 640x480 with 1 Axes>"
      ]
     },
     "metadata": {},
     "output_type": "display_data"
    }
   ],
   "source": [
    "import matplotlib.pyplot as plt\n",
    "from scipy.stats import norm\n",
    "\n",
    "\n",
    "npsamples = np.array([sample.item() for sample in samples])\n",
    "_ = plt.hist(npsamples, bins=50, density=True)\n",
    "\n",
    "x = torch.linspace(-8,8,500).view(-1,1)\n",
    "y_sampling = sampling_dist.gm.marg_pdf(x, 0)\n",
    "y_optim = output_dist.gm.marg_pdf(x, 0).detach()\n",
    "\n",
    "plt.plot(x, y_sampling, label='sampling dist')\n",
    "plt.plot(x, y_optim, label='optimized dist')\n",
    "plt.legend()"
   ]
  },
  {
   "cell_type": "markdown",
   "id": "3d6f1c92-fc3c-42ad-b9c3-eb02cbbba01d",
   "metadata": {},
   "source": [
    "### TEST 6\n",
    "\n",
    "``` \n",
    "if gm([1.], [0.], [1.]) < _coeff {\n",
    "    a = gm([1.], [-5.], [1.]);\n",
    "} else {\n",
    "    a = gm([1.], [5.], [1.]);\n",
    "} end if;\n",
    "```\n",
    "\n",
    "sample from the program with _coeff = 0"
   ]
  },
  {
   "cell_type": "code",
   "execution_count": 54,
   "id": "70ac13ce-b0dd-4219-b024-d5410679fc99",
   "metadata": {},
   "outputs": [],
   "source": [
    "from sogaPreprocessor import *\n",
    "from producecfg import *\n",
    "from libSOGA import *"
   ]
  },
  {
   "cell_type": "code",
   "execution_count": 55,
   "id": "6ecdb549-0cb5-46dd-9d93-5bd907bc8607",
   "metadata": {},
   "outputs": [],
   "source": [
    "compiledFile=compile2SOGA('../programs/SOGA/Optimization/Optim6.soga')\n",
    "cfg = produce_cfg(compiledFile)"
   ]
  },
  {
   "cell_type": "code",
   "execution_count": 56,
   "id": "827a42b0-e960-41f9-b8e5-b2fc74c0fedb",
   "metadata": {},
   "outputs": [],
   "source": [
    "pars = {'coeff':0.5}\n",
    "\n",
    "# creates torch parameters for each params declared in the dictionary\n",
    "params_dict = {}\n",
    "for key, value in pars.items():\n",
    "    params_dict[key] = torch.tensor(value, requires_grad=True)    "
   ]
  },
  {
   "cell_type": "code",
   "execution_count": 57,
   "id": "1cbc7282-2e15-4357-93a4-26c3d2d1874c",
   "metadata": {},
   "outputs": [],
   "source": [
    "output_dist = start_SOGA_smooth(cfg, params_dict)"
   ]
  },
  {
   "cell_type": "code",
   "execution_count": 58,
   "id": "5f48f2d9-ce26-486d-b7af-3829dcfadd42",
   "metadata": {},
   "outputs": [
    {
     "data": {
      "text/plain": [
       "Dist<['a'],pi: tensor([[0.6915],\n",
       "        [0.3085]], grad_fn=<DivBackward0>)\n",
       "mu: tensor([[-5.],\n",
       "        [ 5.]], grad_fn=<IndexBackward0>)\n",
       "sigma: tensor([[[1.]],\n",
       "\n",
       "        [[1.]]], grad_fn=<IndexBackward0>)>"
      ]
     },
     "execution_count": 58,
     "metadata": {},
     "output_type": "execute_result"
    }
   ],
   "source": [
    "output_dist"
   ]
  },
  {
   "cell_type": "code",
   "execution_count": 59,
   "id": "10796225-5002-4970-9c5c-a55196905644",
   "metadata": {},
   "outputs": [],
   "source": [
    "sampling_pi = torch.tensor(0.5)\n",
    "sampling_mean = torch.tensor(3.)\n",
    "sampling_std = torch.tensor(2.)\n",
    "\n",
    "samples = torch.zeros((500,1))\n",
    "latent = distributions.Bernoulli(sampling_pi).sample(samples.shape)\n",
    "for i, r in enumerate(latent):\n",
    "    if r:\n",
    "        samples[i] = distributions.Normal(torch.tensor(-5.), torch.tensor(1.)).sample((1,))\n",
    "    else:\n",
    "        samples[i] = distributions.Normal(torch.tensor(5.), torch.tensor(1.)).sample((1,))"
   ]
  },
  {
   "cell_type": "code",
   "execution_count": 60,
   "id": "b2b624bd-94be-483b-bbcc-f0a5f568a791",
   "metadata": {},
   "outputs": [
    {
     "data": {
      "image/png": "[encoded data removed]",
      "text/plain": [
       "<Figure size 640x480 with 1 Axes>"
      ]
     },
     "metadata": {},
     "output_type": "display_data"
    }
   ],
   "source": [
    "import matplotlib.pyplot as plt\n",
    "from scipy.stats import norm\n",
    "\n",
    "npsamples = np.array([sample.item() for sample in samples])\n",
    "_ = plt.hist(npsamples, bins=50, density=True)"
   ]
  },
  {
   "cell_type": "code",
   "execution_count": 61,
   "id": "75f1e369-722d-4bf2-aafd-f6cb81f4b4dd",
   "metadata": {},
   "outputs": [
    {
     "name": "stdout",
     "output_type": "stream",
     "text": [
      "coeff: 0.49000000953674316 loss: 1092.72998046875\n",
      "coeff: 0.216828390955925 loss: 1066.9171142578125\n",
      "coeff: 0.07641594856977463 loss: 1062.9315185546875\n",
      "coeff: 0.05883049964904785 loss: 1062.9102783203125\n",
      "coeff: 0.06522507965564728 loss: 1062.9033203125\n",
      "coeff: 0.06547532975673676 loss: 1062.9033203125\n",
      "coeff: 0.06516236066818237 loss: 1062.9031982421875\n",
      "coeff: 0.06522350013256073 loss: 1062.9033203125\n",
      "coeff: 0.06521914899349213 loss: 1062.9033203125\n",
      "coeff: 0.06521813571453094 loss: 1062.9031982421875\n"
     ]
    }
   ],
   "source": [
    "import torch\n",
    "\n",
    "#pars = {'mean':2.}\n",
    "#\n",
    "## creates torch parameters for each params declared in the dictionary\n",
    "#params_dict = {}\n",
    "#for key, value in pars.items():\n",
    "#    params_dict[key] = torch.tensor(value, requires_grad=True)    \n",
    "\n",
    "optimizer = torch.optim.Adam([params_dict[key] for key in params_dict.keys()], lr=0.01)\n",
    "\n",
    "for i in range(300):\n",
    "    optimizer.zero_grad()  # Reset gradients\n",
    "    \n",
    "    # loss\n",
    "    current_dist = start_SOGA_smooth(cfg, params_dict)\n",
    "    loss = neg_likelihood(current_dist, samples)\n",
    "    \n",
    "    # Backpropagate\n",
    "    loss.backward()\n",
    "    \n",
    "    # Update init_mean\n",
    "    optimizer.step()\n",
    "\n",
    "    #with torch.no_grad():\n",
    "    #    params_dict['std'].clamp_(0.001, 1e10)\n",
    "    \n",
    "    # Print progress\n",
    "    if i % 30 == 0:\n",
    "        out = ''\n",
    "        for key in params_dict.keys():\n",
    "            out = out + key + ': ' + str(params_dict[key].item())\n",
    "        out = out + f\" loss: {loss.item()}\"\n",
    "        print(out)\n"
   ]
  },
  {
   "cell_type": "code",
   "execution_count": 62,
   "id": "53a02ff2-f377-42dd-a36f-3d29894fef53",
   "metadata": {},
   "outputs": [
    {
     "name": "stdout",
     "output_type": "stream",
     "text": [
      "Likelihood with respect to the sampling distribution:  tensor(1063.5796)\n",
      "Likelihood in the optimized distribution:  tensor(1062.9033, grad_fn=<NegBackward0>)\n"
     ]
    }
   ],
   "source": [
    "sampling_dist = Dist(['x'], GaussianMix(torch.tensor([[0.5], [0.5]]), torch.tensor([[-5.], [5.]]), torch.tensor([[[1.]], [[1.]]])))\n",
    "print('Likelihood with respect to the sampling distribution: ', neg_likelihood(sampling_dist, samples, idx=0))\n",
    "output_dist = start_SOGA(cfg, params_dict)\n",
    "print('Likelihood in the optimized distribution: ', neg_likelihood(output_dist, samples, idx=0))"
   ]
  },
  {
   "cell_type": "code",
   "execution_count": 63,
   "id": "97583266-2fba-4af2-a885-9dd99b1470a4",
   "metadata": {},
   "outputs": [
    {
     "data": {
      "text/plain": [
       "Dist<['a'],pi: tensor([[0.5260],\n",
       "        [0.4740]], grad_fn=<DivBackward0>)\n",
       "mu: tensor([[-5.],\n",
       "        [ 5.]], grad_fn=<IndexBackward0>)\n",
       "sigma: tensor([[[1.]],\n",
       "\n",
       "        [[1.]]], grad_fn=<IndexBackward0>)>"
      ]
     },
     "execution_count": 63,
     "metadata": {},
     "output_type": "execute_result"
    }
   ],
   "source": [
    "output_dist"
   ]
  },
  {
   "cell_type": "code",
   "execution_count": 64,
   "id": "023798e5-0df3-42b4-8eea-fcf9aa467090",
   "metadata": {},
   "outputs": [
    {
     "data": {
      "text/plain": [
       "<matplotlib.legend.Legend at 0x222cfe7eb90>"
      ]
     },
     "execution_count": 64,
     "metadata": {},
     "output_type": "execute_result"
    },
    {
     "data": {
      "image/png": "[encoded data removed]",
      "text/plain": [
       "<Figure size 640x480 with 1 Axes>"
      ]
     },
     "metadata": {},
     "output_type": "display_data"
    }
   ],
   "source": [
    "import matplotlib.pyplot as plt\n",
    "from scipy.stats import norm\n",
    "\n",
    "\n",
    "npsamples = np.array([sample.item() for sample in samples])\n",
    "_ = plt.hist(npsamples, bins=50, density=True)\n",
    "\n",
    "x = torch.linspace(-8,8,500).view(-1,1)\n",
    "y_sampling = sampling_dist.gm.marg_pdf(x, 0)\n",
    "y_optim = output_dist.gm.marg_pdf(x, 0).detach()\n",
    "\n",
    "plt.plot(x, y_sampling, label='sampling dist')\n",
    "plt.plot(x, y_optim, label='optimized dist')\n",
    "plt.legend()"
   ]
  },
  {
   "cell_type": "markdown",
   "id": "8b8f2e60-cc71-41e9-bd77-98d0f8310304",
   "metadata": {},
   "source": [
    "### TEST 7\n",
    "\n",
    "``` \n",
    "a = gm([1.], [_mean], [_std]); \n",
    "```"
   ]
  },
  {
   "cell_type": "code",
   "execution_count": 65,
   "id": "631bcb7b-ba84-449e-9c5a-38aa8e6ae466",
   "metadata": {},
   "outputs": [],
   "source": [
    "from sogaPreprocessor import *\n",
    "from producecfg import *\n",
    "from libSOGA import *"
   ]
  },
  {
   "cell_type": "code",
   "execution_count": 66,
   "id": "77843ca4-b177-45ff-b096-b9fb69d8d15f",
   "metadata": {},
   "outputs": [],
   "source": [
    "compiledFile=compile2SOGA('../programs/SOGA/Optimization/Optim7.soga')\n",
    "cfg = produce_cfg(compiledFile)"
   ]
  },
  {
   "cell_type": "code",
   "execution_count": 67,
   "id": "3e0827a3-e0ee-4e08-93e1-a5810c46413c",
   "metadata": {},
   "outputs": [],
   "source": [
    "pars = {'mean':5., 'std':2.5}\n",
    "\n",
    "# creates torch parameters for each params declared in the dictionary\n",
    "params_dict = {}\n",
    "for key, value in pars.items():\n",
    "    params_dict[key] = torch.tensor(value, requires_grad=True)    "
   ]
  },
  {
   "cell_type": "code",
   "execution_count": 68,
   "id": "71de404e-af73-44c0-92b8-1ac9d3c72a84",
   "metadata": {},
   "outputs": [],
   "source": [
    "output_dist = start_SOGA_smooth(cfg, params_dict)"
   ]
  },
  {
   "cell_type": "code",
   "execution_count": 69,
   "id": "d254cc9a-dd79-49aa-b1e8-ff08aa2a4ce6",
   "metadata": {},
   "outputs": [
    {
     "data": {
      "text/plain": [
       "Dist<['a'],pi: tensor([[1.]])\n",
       "mu: tensor([[5.]], grad_fn=<IndexBackward0>)\n",
       "sigma: tensor([[[6.2500]]], grad_fn=<IndexBackward0>)>"
      ]
     },
     "execution_count": 69,
     "metadata": {},
     "output_type": "execute_result"
    }
   ],
   "source": [
    "output_dist"
   ]
  },
  {
   "cell_type": "code",
   "execution_count": 70,
   "id": "8772b3bf-fad8-47b9-ab6d-576e5f661e65",
   "metadata": {},
   "outputs": [
    {
     "name": "stdout",
     "output_type": "stream",
     "text": [
      "samples std tensor(1.0369)\n"
     ]
    }
   ],
   "source": [
    "sampling_mean = torch.tensor(10.)\n",
    "sampling_std = torch.tensor(1.)\n",
    "samples = distributions.Normal(sampling_mean, sampling_std).sample((1000,1))\n",
    "print('samples std', torch.std(samples))"
   ]
  },
  {
   "cell_type": "code",
   "execution_count": 71,
   "id": "37b8a2f2-83b3-4662-9982-62519422936f",
   "metadata": {},
   "outputs": [
    {
     "name": "stdout",
     "output_type": "stream",
     "text": [
      "mean: 5.010000228881836std: 2.509999990463257 loss: 3901.072998046875\n",
      "mean: 5.880585193634033std: 3.220811367034912 loss: 2952.18896484375\n",
      "mean: 6.5695013999938965std: 3.4480268955230713 loss: 2691.482177734375\n",
      "mean: 7.200753211975098std: 3.391301155090332 loss: 2523.03125\n",
      "mean: 7.825681686401367std: 3.0982701778411865 loss: 2348.27001953125\n",
      "mean: 8.484480857849121std: 2.5604429244995117 loss: 2113.3115234375\n",
      "mean: 9.225156784057617std: 1.7372562885284424 loss: 1746.800048828125\n",
      "mean: 9.910077095031738std: 1.035430669784546 loss: 1456.83154296875\n",
      "mean: 9.975112915039062std: 1.0363432168960571 loss: 1454.6820068359375\n",
      "mean: 9.97482967376709std: 1.0363892316818237 loss: 1454.6820068359375\n"
     ]
    }
   ],
   "source": [
    "import torch\n",
    "\n",
    "# Define the optimizer with init_mean as the parameter\n",
    "\n",
    "optimizer = torch.optim.Adam([params_dict[key] for key in params_dict.keys()], lr=0.01)\n",
    "\n",
    "for i in range(1000):\n",
    "    optimizer.zero_grad()  # Reset gradients\n",
    "    \n",
    "    # loss\n",
    "    #current_dist = compute_posterior(init_mean)\n",
    "    current_dist = start_SOGA(cfg, params_dict)\n",
    "    loss = neg_likelihood(current_dist, samples)\n",
    "    \n",
    "    # Backpropagate\n",
    "    loss.backward()\n",
    "    \n",
    "    # Update init_mean\n",
    "    optimizer.step()\n",
    "\n",
    "    #with torch.no_grad():\n",
    "    #    params_dict['std'].clamp_(0.001, 1e10)\n",
    "    \n",
    "    # Print progress\n",
    "    if i % 100 == 0:\n",
    "        out = ''\n",
    "        for key in params_dict.keys():\n",
    "            out = out + key + ': ' + str(params_dict[key].item())\n",
    "        out = out + f\" loss: {loss.item()}\"\n",
    "        print(out)\n"
   ]
  },
  {
   "cell_type": "code",
   "execution_count": 72,
   "id": "7b29803c-538e-4480-812a-460a02610e40",
   "metadata": {},
   "outputs": [
    {
     "name": "stdout",
     "output_type": "stream",
     "text": [
      "Likelihood with respect to the sampling distribution:  tensor(1456.3073)\n",
      "Likelihood in the optimized distribution:  tensor(1454.6820, grad_fn=<NegBackward0>)\n"
     ]
    }
   ],
   "source": [
    "sampling_dist = Dist(['x'], GaussianMix(torch.tensor([[1.]]), torch.tensor([[sampling_mean.item()]]), torch.tensor([[[sampling_std.item()**2]]])))\n",
    "print('Likelihood with respect to the sampling distribution: ', neg_likelihood(sampling_dist, samples))\n",
    "output_dist = start_SOGA(cfg, params_dict)\n",
    "print('Likelihood in the optimized distribution: ', neg_likelihood(output_dist, samples))"
   ]
  },
  {
   "cell_type": "code",
   "execution_count": 73,
   "id": "5219d505-6144-4dc6-b4a8-bd544c4b8e2d",
   "metadata": {},
   "outputs": [
    {
     "data": {
      "text/plain": [
       "<matplotlib.legend.Legend at 0x222cff3a010>"
      ]
     },
     "execution_count": 73,
     "metadata": {},
     "output_type": "execute_result"
    },
    {
     "data": {
      "image/png": "[encoded data removed]",
      "text/plain": [
       "<Figure size 640x480 with 1 Axes>"
      ]
     },
     "metadata": {},
     "output_type": "display_data"
    }
   ],
   "source": [
    "import matplotlib.pyplot as plt\n",
    "from scipy.stats import norm\n",
    "\n",
    "npsamples = np.array([sample.item() for sample in samples])\n",
    "_ = plt.hist(npsamples, bins=50, density=True)\n",
    "\n",
    "x = torch.linspace(7,14,500).view(-1,1)\n",
    "y_sampling = norm(sampling_mean.item(), sampling_std.item()).pdf(x)\n",
    "y_optim = norm(sampling_mean.item(), params_dict['std'].item()).pdf(x)\n",
    "\n",
    "plt.plot(x, y_sampling, label='sampling dist')\n",
    "plt.plot(x, y_optim, label='optimized dist')\n",
    "plt.legend()"
   ]
  },
  {
   "cell_type": "markdown",
   "id": "f118c4e5",
   "metadata": {},
   "source": [
    "## Optimization + Smoothing"
   ]
  },
  {
   "cell_type": "markdown",
   "id": "b8e98a43",
   "metadata": {},
   "source": [
    "### TEST 8\n",
    "\n",
    "``` \n",
    "x = bern(0.5);\n",
    "if x < _coeff {\n",
    "    a = gm([1.], [-5.], [1.]);\n",
    "} else {\n",
    "    a = gm([1.], [5.], [1.]);\n",
    "} end if;\n",
    "```\n",
    "\n",
    "sample from the program with _coeff = 0"
   ]
  },
  {
   "cell_type": "code",
   "execution_count": 22,
   "id": "50dfb5d5",
   "metadata": {},
   "outputs": [],
   "source": [
    "from sogaPreprocessor import *\n",
    "from producecfg import *\n",
    "from libSOGAsmoother import *\n",
    "\n",
    "torch.set_default_dtype(torch.float64)"
   ]
  },
  {
   "cell_type": "code",
   "execution_count": 23,
   "id": "d6461630",
   "metadata": {},
   "outputs": [],
   "source": [
    "compiledFile=compile2SOGA('../programs/SOGA/Optimization/Optim8.soga')\n",
    "cfg = produce_cfg(compiledFile)"
   ]
  },
  {
   "cell_type": "code",
   "execution_count": 24,
   "id": "3f61a8f3",
   "metadata": {},
   "outputs": [],
   "source": [
    "pars = {'coeff':0.5}\n",
    "\n",
    "# creates torch parameters for each params declared in the dictionary\n",
    "params_dict = {}\n",
    "for key, value in pars.items():\n",
    "    params_dict[key] = torch.tensor(value, requires_grad=True)    "
   ]
  },
  {
   "cell_type": "code",
   "execution_count": 25,
   "id": "c1700783",
   "metadata": {},
   "outputs": [],
   "source": [
    "output_dist = start_SOGA_smooth(cfg, params_dict)"
   ]
  },
  {
   "cell_type": "code",
   "execution_count": 26,
   "id": "7fa80316",
   "metadata": {},
   "outputs": [
    {
     "data": {
      "text/plain": [
       "Dist<['x', 'a'],pi: tensor([[0.5000],\n",
       "        [0.5000]], grad_fn=<DivBackward0>)\n",
       "mu: tensor([[ 0., -5.],\n",
       "        [ 1.,  5.]], grad_fn=<IndexBackward0>)\n",
       "sigma: tensor([[[1.0000e-10, 0.0000e+00],\n",
       "         [0.0000e+00, 1.0000e+00]],\n",
       "\n",
       "        [[1.0000e-10, 0.0000e+00],\n",
       "         [0.0000e+00, 1.0000e+00]]], grad_fn=<IndexBackward0>)>"
      ]
     },
     "execution_count": 26,
     "metadata": {},
     "output_type": "execute_result"
    }
   ],
   "source": [
    "output_dist"
   ]
  },
  {
   "cell_type": "code",
   "execution_count": 27,
   "id": "1353a282",
   "metadata": {},
   "outputs": [],
   "source": [
    "def neg_likelihood(dist, samples, idx=0):\n",
    "    likelihood = dist.gm.marg_pdf(samples,idx)\n",
    "    log_likelihood = torch.log(likelihood)\n",
    "    return -torch.sum(log_likelihood)\n",
    "\n",
    "loss = neg_likelihood(current_dist, samples, 1)"
   ]
  },
  {
   "cell_type": "code",
   "execution_count": 28,
   "id": "51f66657",
   "metadata": {},
   "outputs": [],
   "source": [
    "sampling_pi = torch.tensor(0.5)\n",
    "sampling_mean = torch.tensor(3.)\n",
    "sampling_std = torch.tensor(2.)\n",
    "\n",
    "samples = torch.zeros((500,1))\n",
    "latent = distributions.Bernoulli(sampling_pi).sample(samples.shape)\n",
    "for i, r in enumerate(latent):\n",
    "    if r:\n",
    "        samples[i] = distributions.Normal(torch.tensor(-5.), torch.tensor(1.)).sample((1,))\n",
    "    else:\n",
    "        samples[i] = distributions.Normal(torch.tensor(5.), torch.tensor(1.)).sample((1,))"
   ]
  },
  {
   "cell_type": "code",
   "execution_count": 29,
   "id": "8883e6cf",
   "metadata": {},
   "outputs": [
    {
     "data": {
      "image/png": "[encoded data removed]",
      "text/plain": [
       "<Figure size 640x480 with 1 Axes>"
      ]
     },
     "metadata": {},
     "output_type": "display_data"
    }
   ],
   "source": [
    "import matplotlib.pyplot as plt\n",
    "from scipy.stats import norm\n",
    "\n",
    "npsamples = np.array([sample.item() for sample in samples])\n",
    "_ = plt.hist(npsamples, bins=50, density=True)"
   ]
  },
  {
   "cell_type": "code",
   "execution_count": 31,
   "id": "460256a1",
   "metadata": {},
   "outputs": [
    {
     "name": "stdout",
     "output_type": "stream",
     "text": [
      "coeff: 0.5 loss: 1039.9029619264436\n",
      "coeff: 0.5 loss: 1039.9029619264436\n",
      "coeff: 0.5 loss: 1039.9029619264436\n",
      "coeff: 0.5 loss: 1039.9029619264436\n",
      "coeff: 0.5 loss: 1039.9029619264436\n",
      "coeff: 0.5 loss: 1039.9029619264436\n",
      "coeff: 0.5 loss: 1039.9029619264436\n",
      "coeff: 0.5 loss: 1039.9029619264436\n",
      "coeff: 0.5 loss: 1039.9029619264436\n",
      "coeff: 0.5 loss: 1039.9029619264436\n"
     ]
    }
   ],
   "source": [
    "import torch\n",
    "\n",
    "#pars = {'mean':2.}\n",
    "#\n",
    "## creates torch parameters for each params declared in the dictionary\n",
    "#params_dict = {}\n",
    "#for key, value in pars.items():\n",
    "#    params_dict[key] = torch.tensor(value, requires_grad=True)    \n",
    "\n",
    "optimizer = torch.optim.Adam([params_dict[key] for key in params_dict.keys()], lr=0.01)\n",
    "\n",
    "for i in range(300):\n",
    "    optimizer.zero_grad()  # Reset gradients\n",
    "    \n",
    "    # loss\n",
    "    current_dist = start_SOGA_smooth(cfg, params_dict)\n",
    "    loss = neg_likelihood(current_dist, samples, idx=1)\n",
    "    \n",
    "    # Backpropagate\n",
    "    loss.backward()\n",
    "    \n",
    "    # Update init_mean\n",
    "    optimizer.step()\n",
    "\n",
    "    #with torch.no_grad():\n",
    "    #    params_dict['std'].clamp_(0.001, 1e10)\n",
    "    \n",
    "    # Print progress\n",
    "    if i % 30 == 0:\n",
    "        out = ''\n",
    "        for key in params_dict.keys():\n",
    "            out = out + key + ': ' + str(params_dict[key].item())\n",
    "        out = out + f\" loss: {loss.item()}\"\n",
    "        print(out)\n",
    "\n",
    "# E' normale che non ottimizzi perche' ogni valore in (0,1) va bene"
   ]
  },
  {
   "cell_type": "code",
   "execution_count": null,
   "id": "ed5559bc",
   "metadata": {},
   "outputs": [
    {
     "name": "stdout",
     "output_type": "stream",
     "text": [
      "Likelihood with respect to the sampling distribution:  tensor(1061.8419)\n",
      "Likelihood in the optimized distribution:  tensor(1061.6459, grad_fn=<NegBackward0>)\n"
     ]
    }
   ],
   "source": [
    "sampling_dist = Dist(['x'], GaussianMix(torch.tensor([[0.5], [0.5]]), torch.tensor([[-5.], [5.]]), torch.tensor([[[1.]], [[1.]]])))\n",
    "print('Likelihood with respect to the sampling distribution: ', neg_likelihood(sampling_dist, samples, idx=0))\n",
    "output_dist = start_SOGA(cfg, params_dict)\n",
    "print('Likelihood in the optimized distribution: ', neg_likelihood(output_dist, samples, idx=0))"
   ]
  },
  {
   "cell_type": "code",
   "execution_count": null,
   "id": "77ee602c",
   "metadata": {},
   "outputs": [
    {
     "data": {
      "text/plain": [
       "Dist<['a'],pi: tensor([[0.5140],\n",
       "        [0.4860]], grad_fn=<DivBackward0>)\n",
       "mu: tensor([[-5.],\n",
       "        [ 5.]], grad_fn=<IndexBackward0>)\n",
       "sigma: tensor([[[1.]],\n",
       "\n",
       "        [[1.]]], grad_fn=<IndexBackward0>)>"
      ]
     },
     "metadata": {},
     "output_type": "display_data"
    }
   ],
   "source": [
    "output_dist"
   ]
  },
  {
   "cell_type": "code",
   "execution_count": null,
   "id": "002e9bb6",
   "metadata": {},
   "outputs": [
    {
     "data": {
      "text/plain": [
       "<matplotlib.legend.Legend at 0x213f972b910>"
      ]
     },
     "metadata": {},
     "output_type": "display_data"
    },
    {
     "data": {
      "image/png": "[encoded data removed]",
      "text/plain": [
       "<Figure size 640x480 with 1 Axes>"
      ]
     },
     "metadata": {},
     "output_type": "display_data"
    }
   ],
   "source": [
    "import matplotlib.pyplot as plt\n",
    "from scipy.stats import norm\n",
    "\n",
    "\n",
    "npsamples = np.array([sample.item() for sample in samples])\n",
    "_ = plt.hist(npsamples, bins=50, density=True)\n",
    "\n",
    "x = torch.linspace(-8,8,500).view(-1,1)\n",
    "y_sampling = sampling_dist.gm.marg_pdf(x, 0)\n",
    "y_optim = output_dist.gm.marg_pdf(x, 0).detach()\n",
    "\n",
    "plt.plot(x, y_sampling, label='sampling dist')\n",
    "plt.plot(x, y_optim, label='optimized dist')\n",
    "plt.legend()"
   ]
  },
  {
   "cell_type": "markdown",
   "id": "60ee300f-b13a-4235-8061-e5591c3b2411",
   "metadata": {},
   "source": [
    "# Runtimes on old benchmarks"
   ]
  },
  {
   "cell_type": "code",
   "execution_count": null,
   "id": "c89e742f",
   "metadata": {},
   "outputs": [],
   "source": [
    "from sogaPreprocessor import *\n",
    "from producecfg import *\n",
    "from libSOGA import *\n",
    "from time import time"
   ]
  },
  {
   "cell_type": "code",
   "execution_count": null,
   "id": "7e414f7e",
   "metadata": {},
   "outputs": [
    {
     "data": {
      "text/plain": [
       "0.04083165884017945"
      ]
     },
     "execution_count": 2,
     "metadata": {},
     "output_type": "execute_result"
    }
   ],
   "source": [
    "compiledFile=compile2SOGA('../programs/SOGA/Scalability/TrueSkills5.soga')\n",
    "cfg = produce_cfg(compiledFile)\n",
    "\n",
    "times = []\n",
    "\n",
    "for i in range(100):\n",
    "    start = time()\n",
    "    output_dist = start_SOGA(cfg, {})\n",
    "    end = time()\n",
    "    times.append(end-start)\n",
    "\n",
    "np.mean(times)"
   ]
  },
  {
   "cell_type": "code",
   "execution_count": null,
   "id": "541ca163",
   "metadata": {},
   "outputs": [
    {
     "data": {
      "text/plain": [
       "0.059299399852752684"
      ]
     },
     "execution_count": 3,
     "metadata": {},
     "output_type": "execute_result"
    }
   ],
   "source": [
    "compiledFile=compile2SOGA('../programs/SOGA/Scalability/TrueSkills10.soga')\n",
    "cfg = produce_cfg(compiledFile)\n",
    "\n",
    "times = []\n",
    "\n",
    "for i in range(100):\n",
    "    start = time()\n",
    "    output_dist = start_SOGA(cfg, {})\n",
    "    end = time()\n",
    "    times.append(end-start)\n",
    "\n",
    "np.mean(times)"
   ]
  },
  {
   "cell_type": "code",
   "execution_count": null,
   "id": "351ab321",
   "metadata": {},
   "outputs": [
    {
     "data": {
      "text/plain": [
       "0.19232213258743286"
      ]
     },
     "execution_count": 4,
     "metadata": {},
     "output_type": "execute_result"
    }
   ],
   "source": [
    "compiledFile=compile2SOGA('../programs/SOGA/Scalability/TrueSkills20.soga')\n",
    "cfg = produce_cfg(compiledFile)\n",
    "\n",
    "times = []\n",
    "\n",
    "for i in range(100):\n",
    "    start = time()\n",
    "    output_dist = start_SOGA(cfg, {})\n",
    "    end = time()\n",
    "    times.append(end-start)\n",
    "\n",
    "np.mean(times)"
   ]
  },
  {
   "cell_type": "code",
   "execution_count": null,
   "id": "e2256e5b",
   "metadata": {},
   "outputs": [
    {
     "data": {
      "text/plain": [
       "0.2792282724380493"
      ]
     },
     "execution_count": 5,
     "metadata": {},
     "output_type": "execute_result"
    }
   ],
   "source": [
    "compiledFile=compile2SOGA('../programs/SOGA/Scalability/TrueSkills30.soga')\n",
    "cfg = produce_cfg(compiledFile)\n",
    "\n",
    "times = []\n",
    "\n",
    "for i in range(100):\n",
    "    start = time()\n",
    "    output_dist = start_SOGA(cfg, {})\n",
    "    end = time()\n",
    "    times.append(end-start)\n",
    "\n",
    "np.mean(times)"
   ]
  },
  {
   "cell_type": "code",
   "execution_count": null,
   "id": "194486f9",
   "metadata": {},
   "outputs": [
    {
     "data": {
      "text/plain": [
       "0.33835127830505374"
      ]
     },
     "execution_count": 7,
     "metadata": {},
     "output_type": "execute_result"
    }
   ],
   "source": [
    "compiledFile=compile2SOGA('../programs/SOGA/Scalability/TrueSkills50.soga')\n",
    "cfg = produce_cfg(compiledFile)\n",
    "\n",
    "times = []\n",
    "\n",
    "for i in range(100):\n",
    "    start = time()\n",
    "    output_dist = start_SOGA(cfg, {})\n",
    "    end = time()\n",
    "    times.append(end-start)\n",
    "\n",
    "np.mean(times)"
   ]
  },
  {
   "cell_type": "code",
   "execution_count": null,
   "id": "1eac8530",
   "metadata": {},
   "outputs": [],
   "source": []
  }
 ],
 "metadata": {
  "kernelspec": {
   "display_name": "base",
   "language": "python",
   "name": "python3"
  },
  "language_info": {
   "codemirror_mode": {
    "name": "ipython",
    "version": 3
   },
   "file_extension": ".py",
   "mimetype": "text/x-python",
   "name": "python",
   "nbconvert_exporter": "python",
   "pygments_lexer": "ipython3",
   "version": "3.11.5"
  }
 },
 "nbformat": 4,
 "nbformat_minor": 5
}
