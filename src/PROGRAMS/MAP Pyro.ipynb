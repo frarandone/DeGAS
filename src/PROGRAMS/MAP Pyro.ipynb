{
 "cells": [
  {
   "cell_type": "code",
   "execution_count": 1,
   "id": "43331f04",
   "metadata": {},
   "outputs": [],
   "source": [
    "import math\n",
    "import os\n",
    "import torch\n",
    "import torch.distributions.constraints as constraints\n",
    "import pyro\n",
    "from pyro.optim import Adam\n",
    "from pyro.infer import SVI, Trace_ELBO, TraceEnum_ELBO\n",
    "from pyro.infer import MCMC, NUTS\n",
    "import pyro.distributions as dist\n",
    "from time import time\n",
    "import numpy as np\n",
    "import matplotlib.pyplot as plt"
   ]
  },
  {
   "cell_type": "code",
   "execution_count": 14,
   "id": "5667486a",
   "metadata": {},
   "outputs": [],
   "source": [
    "def test(model, guide, param_name, args, tol=1e-2, warmup=100, max_iter=10000, delta=100):\n",
    "    \n",
    "    res = {}\n",
    "    \n",
    "    for lr in [0.01, 0.005, 0.001]:\n",
    "        \n",
    "        pyro.clear_param_store()\n",
    "        \n",
    "        # Optimizer and SVI setup\n",
    "        optimizer = Adam({'lr':lr})\n",
    "        \n",
    "        svi = SVI(model, guide, optimizer, loss=Trace_ELBO())\n",
    "\n",
    "        # Training loop\n",
    "        start = time()\n",
    "        n_steps = 0\n",
    "        for i in range(warmup):\n",
    "            svi.step(*args)\n",
    "            n_steps += 1\n",
    "        while(n_steps < max_iter):\n",
    "            # Take a gradient step\n",
    "            old_param = pyro.param(param_name+'_map').item()\n",
    "            \n",
    "            for _ in range(delta):\n",
    "                svi.step(*args)\n",
    "                n_steps += 1\n",
    "            new_param = pyro.param(param_name+'_map').item()\n",
    "            #if n_steps % 100 == 0:\n",
    "                #print('{} steps'.format(n_steps))\n",
    "            if abs(old_param - new_param) < tol*abs(new_param):\n",
    "                break\n",
    "        end = time()\n",
    "        \n",
    "        res[lr] = new_param\n",
    "        \n",
    "        print('Learning rate: ', lr)\n",
    "        print('Performed {} steps'.format(n_steps))\n",
    "        print('Computed in:', np.round(end-start,3))\n",
    "        print('Estimated value:', new_param)\n",
    "        print('________________________________')\n",
    "        \n",
    "    return res\n",
    "\n",
    "def mcmc(model, name_param, args, num_samples=1000, plot=True, plot_title='', MAP=True, mean=True):\n",
    "    \n",
    "    nuts_kernel = NUTS(model)\n",
    "    mcmc_run = MCMC(nuts_kernel, num_samples=num_samples, warmup_steps=500)\n",
    "    mcmc_run.run(*args)\n",
    "    mcmc_samples = mcmc_run.get_samples()\n",
    "\n",
    "    mcmc_samples = mcmc_samples[name_param].detach().numpy()\n",
    "    np.savetxt('Samples/'+plot_title+'MCMC.csv', mcmc_samples, delimiter=',')\n",
    "    \n",
    "    if plot:\n",
    "        _ = plt.hist(mcmc_samples, bins=50, density=True)\n",
    "        plt.title(plot_title)\n",
    "        plt.savefig('Densities/'+plot_title+'.png')\n",
    "    \n",
    "    if MAP:\n",
    "        nums, ints = np.histogram(mcmc_samples, 100)\n",
    "        max_num = max(nums)\n",
    "        idx = list(nums).index(max_num)  \n",
    "        print('MAP value in:', ints[idx], ints[idx+1])\n",
    "        \n",
    "    if mean:\n",
    "        print('Mean value:', np.mean(mcmc_samples))\n",
    "        \n",
    "    return mcmc_samples"
   ]
  },
  {
   "cell_type": "markdown",
   "id": "9ae3a02d",
   "metadata": {},
   "source": [
    "# Bernoulli"
   ]
  },
  {
   "cell_type": "markdown",
   "id": "6c914fdf",
   "metadata": {},
   "source": [
    "STAN: 0.20"
   ]
  },
  {
   "cell_type": "code",
   "execution_count": null,
   "id": "09859a4d",
   "metadata": {},
   "outputs": [
    {
     "name": "stderr",
     "output_type": "stream",
     "text": [
      "Sample:   5%|█▉                                     | 524/10500 [00:05, 91.68it/s, step size=1.02e+00, acc. prob=0.932]"
     ]
    }
   ],
   "source": [
    "pyro.clear_param_store()\n",
    "\n",
    "# Data\n",
    "N =  10 # Set your value of N here\n",
    "y_data =  torch.tensor([1., 0., 0., 0., 0., 0., 0., 0., 1., 0.]) # Provide the array of observed values y here\n",
    "\n",
    "# Define the model\n",
    "def model(N, y):\n",
    "    # Prior for theta\n",
    "    theta = pyro.sample(\"theta\", dist.Uniform(0,1))\n",
    "\n",
    "    # Likelihood\n",
    "    with pyro.plate(\"data_plate\", N):\n",
    "        y = pyro.sample(\"y\", dist.Bernoulli(theta), obs=y)\n",
    "        \n",
    "mcmc_samples = mcmc(model, 'theta', args=(N,y_data), num_samples=10000, plot_title='Bernoulli')"
   ]
  },
  {
   "cell_type": "code",
   "execution_count": 3,
   "id": "92421c26",
   "metadata": {},
   "outputs": [
    {
     "name": "stdout",
     "output_type": "stream",
     "text": [
      "Learning rate:  0.01\n",
      "Performed 200 steps\n",
      "Computed in: 0.197\n",
      "Estimated value: 0.19999243319034576\n",
      "________________________________\n",
      "Learning rate:  0.005\n",
      "Performed 200 steps\n",
      "Computed in: 0.204\n",
      "Estimated value: 0.1999809741973877\n",
      "________________________________\n",
      "Learning rate:  0.001\n",
      "Performed 800 steps\n",
      "Computed in: 0.827\n",
      "Estimated value: 0.2001093178987503\n",
      "________________________________\n"
     ]
    },
    {
     "data": {
      "text/plain": [
       "{0.01: 0.19999243319034576,\n",
       " 0.005: 0.1999809741973877,\n",
       " 0.001: 0.2001093178987503}"
      ]
     },
     "execution_count": 3,
     "metadata": {},
     "output_type": "execute_result"
    }
   ],
   "source": [
    "pyro.clear_param_store()\n",
    "\n",
    "# Data\n",
    "N =  10 # Set your value of N here\n",
    "y_data =  torch.tensor([1., 0., 0., 0., 0., 0., 0., 0., 1., 0.]) # Provide the array of observed values y here\n",
    "\n",
    "# Define the model\n",
    "def model(N, y):\n",
    "    # Prior for theta\n",
    "    theta = pyro.sample(\"theta\", dist.Uniform(0,1))\n",
    "\n",
    "    # Likelihood\n",
    "    with pyro.plate(\"data_plate\", N):\n",
    "        y = pyro.sample(\"y\", dist.Bernoulli(theta), obs=y)\n",
    "\n",
    "# Define the guide (variational distribution)\n",
    "def guide(N, y):\n",
    "    # Variational parameter for theta\n",
    "    #alpha_theta = pyro.param('alpha_theta', torch.tensor(1.), constraint=constraints.positive)\n",
    "    #beta_theta = pyro.param('beta_theta', torch.tensor(1.), constraint=constraints.positive)\n",
    "    #theta = pyro.sample('theta', dist.Beta(alpha_theta, beta_theta))\n",
    "    theta_map = pyro.param('theta_map', torch.tensor(0.5))\n",
    "    pyro.sample(\"theta\", dist.Delta(theta_map))\n",
    "\n",
    "\n",
    "test(model, guide, 'theta', args=(N,y_data))"
   ]
  },
  {
   "cell_type": "markdown",
   "id": "f0661b94",
   "metadata": {},
   "source": [
    "# BayesPointMachine"
   ]
  },
  {
   "cell_type": "markdown",
   "id": "0cbfa4be",
   "metadata": {},
   "source": [
    "STAN: 0"
   ]
  },
  {
   "cell_type": "code",
   "execution_count": 13,
   "id": "a2c0ec08",
   "metadata": {},
   "outputs": [
    {
     "name": "stderr",
     "output_type": "stream",
     "text": [
      "Sample: 100%|█████████████████████████████████████| 10500/10500 [49:51,  3.51it/s, step size=3.33e-02, acc. prob=0.883]\n"
     ]
    },
    {
     "name": "stdout",
     "output_type": "stream",
     "text": [
      "MAP value in: 0.018931784 0.020732988\n",
      "Mean value: 0.050425764\n"
     ]
    },
    {
     "data": {
      "image/png": "[encoded data removed]",
      "text/plain": [
       "<Figure size 640x480 with 1 Axes>"
      ]
     },
     "metadata": {},
     "output_type": "display_data"
    }
   ],
   "source": [
    "pyro.clear_param_store()\n",
    "\n",
    "# Data\n",
    "N =  6 # Set your value of N here\n",
    "feat1 = torch.tensor([63.0., 16., 28., 55., 22., 20.]) # Provide the array of feat1 values here\n",
    "feat2 =  torch.tensor([38., 23., 49., 27., 18., 40.])# Provide the array of feat2 values here\n",
    "feat3 =  torch.tensor([1., 1., 1., 1., 1., 1.]) # Provide the array of feat3 values here\n",
    "obs = torch.tensor([1., 0., 1., 1., 0., 0.]) # Provide the array of observed values here\n",
    "\n",
    "# Define the model\n",
    "def model(N, feat1, feat2, feat3, obs):\n",
    "    \n",
    "    w1 = pyro.sample(\"w1\", dist.Normal(torch.tensor(0.), torch.tensor(1.)))  # Prior for weights w\n",
    "    w2 = pyro.sample(\"w2\", dist.Normal(torch.tensor(0.), torch.tensor(1.)))\n",
    "    w3 = pyro.sample(\"w3\", dist.Normal(torch.tensor(0.), torch.tensor(1.)))\n",
    "    \n",
    "    for i in pyro.plate(\"norm_plate\", N):\n",
    "        norm = pyro.sample(\"norm{}\".format(i), dist.Normal(feat1[i]*w1 + feat2[i]*w2 + feat3[i]*w3, 0.1))\n",
    "        constraint = (norm > 0).float()\n",
    "        pyro.sample('obs{}'.format(i), dist.Delta(constraint), obs=obs[i])\n",
    "\n",
    "mcmc_samples = mcmc(model, 'w1', args=(N,feat1,feat2,feat3,obs), num_samples=10000, plot_title='BayesPointMachine')"
   ]
  },
  {
   "cell_type": "code",
   "execution_count": 4,
   "id": "96d9f0e2",
   "metadata": {
    "scrolled": true
   },
   "outputs": [
    {
     "name": "stdout",
     "output_type": "stream",
     "text": [
      "Learning rate:  0.01\n",
      "Performed 900 steps\n",
      "Computed in: 7.831\n",
      "Estimated value: 0.0005423434777185321\n",
      "________________________________\n",
      "Learning rate:  0.005\n",
      "Performed 10000 steps\n",
      "Computed in: 87.737\n",
      "Estimated value: -0.00031775125535205007\n",
      "________________________________\n",
      "Learning rate:  0.001\n",
      "Performed 10000 steps\n",
      "Computed in: 86.176\n",
      "Estimated value: 4.835394429392181e-05\n",
      "________________________________\n"
     ]
    },
    {
     "data": {
      "text/plain": [
       "{0.01: 0.0005423434777185321,\n",
       " 0.005: -0.00031775125535205007,\n",
       " 0.001: 4.835394429392181e-05}"
      ]
     },
     "execution_count": 4,
     "metadata": {},
     "output_type": "execute_result"
    }
   ],
   "source": [
    "pyro.clear_param_store()\n",
    "\n",
    "# Data\n",
    "N =  6 # Set your value of N here\n",
    "feat1 = torch.tensor([63., 16., 28., 55., 22., 20.]) # Provide the array of feat1 values here\n",
    "feat2 =  torch.tensor([38., 23., 49., 27., 18., 40.])# Provide the array of feat2 values here\n",
    "feat3 =  torch.tensor([1., 1., 1., 1., 1., 1.]) # Provide the array of feat3 values here\n",
    "obs = torch.tensor([1., 0., 1., 1., 0., 0.]) # Provide the array of observed values here\n",
    "\n",
    "# Define the model\n",
    "def model(N, feat1, feat2, feat3, obs):\n",
    "    \n",
    "    w1 = pyro.sample(\"w1\", dist.Normal(torch.tensor(0.), torch.tensor(1.)))  # Prior for weights w\n",
    "    w2 = pyro.sample(\"w2\", dist.Normal(torch.tensor(0.), torch.tensor(1.)))\n",
    "    w3 = pyro.sample(\"w3\", dist.Normal(torch.tensor(0.), torch.tensor(1.)))\n",
    "    \n",
    "    for i in pyro.plate(\"norm_plate\", N):\n",
    "        norm = pyro.sample(\"norm{}\".format(i), dist.Normal(feat1[i]*w1 + feat2[i]*w2 + feat3[i]*w3, 0.1))\n",
    "        constraint = (norm > 0).float()\n",
    "        pyro.sample('obs{}'.format(i), dist.Delta(constraint), obs=obs[i])\n",
    "\n",
    "\n",
    "# Define the guide (variational distribution)\n",
    "def guide(N, feat1, feat2, feat3, obs):\n",
    "        \n",
    "    # Variational parameters for weights w\n",
    "    w1_map = pyro.param(\"w1_map\", torch.tensor(0.))\n",
    "    w1 = pyro.sample(\"w1\", dist.Delta(w1_map))\n",
    "    \n",
    "    #w2_loc = pyro.param(\"w2_loc\", torch.tensor(0.))\n",
    "    #w2_scale = pyro.param(\"w2_scale\", torch.tensor(1.), constraint=dist.constraints.positive)\n",
    "    w2 = pyro.sample(\"w2\", dist.Normal(0., 1.))\n",
    "    \n",
    "    #w3_loc = pyro.param(\"w3_loc\", torch.tensor(0.))\n",
    "    #w3_scale = pyro.param(\"w3_scale\", torch.tensor(1.), constraint=dist.constraints.positive)\n",
    "    w3 = pyro.sample(\"w3\", dist.Normal(0., 1.))\n",
    "    \n",
    "    # Variational parameters for norms\n",
    "    for i in pyro.plate(\"norm_plate\",N):\n",
    "        norm = pyro.sample(\"norm{}\".format(i), dist.Normal(feat1[i]*w1 + feat2[i]*w2 + feat3[i]*w3, 0.1))\n",
    "        constraint = (norm > 0).float()\n",
    "    \n",
    "    \n",
    "test(model, guide, 'w1', args=(N, feat1, feat2, feat3, obs))"
   ]
  },
  {
   "cell_type": "markdown",
   "id": "b2097b1e",
   "metadata": {},
   "source": [
    "# ClickGraph"
   ]
  },
  {
   "cell_type": "markdown",
   "id": "574b5489",
   "metadata": {},
   "source": [
    "STAN 0.67"
   ]
  },
  {
   "cell_type": "code",
   "execution_count": 15,
   "id": "9851e483",
   "metadata": {},
   "outputs": [
    {
     "name": "stderr",
     "output_type": "stream",
     "text": [
      "Sample: 100%|█████████████████████████████████████| 10500/10500 [27:11,  6.43it/s, step size=6.43e-01, acc. prob=0.856]\n"
     ]
    },
    {
     "name": "stdout",
     "output_type": "stream",
     "text": [
      "MAP value in: 0.98997504 0.999972\n",
      "Mean value: 0.61240584\n"
     ]
    },
    {
     "data": {
      "image/png": "[encoded data removed]",
      "text/plain": [
       "<Figure size 640x480 with 1 Axes>"
      ]
     },
     "metadata": {},
     "output_type": "display_data"
    }
   ],
   "source": [
    "pyro.clear_param_store()\n",
    "\n",
    "N = 5\n",
    "click0 = torch.tensor([1.,1.,1.,0.,0.])\n",
    "click1 = torch.tensor([1.,1.,1.,0.,0.])\n",
    "\n",
    "# Define the model in Pyro\n",
    "def model(N, click0, click1):\n",
    "    simAll = pyro.sample(\"simAll\", dist.Uniform(0, 1))\n",
    "\n",
    "    for i in pyro.plate('data', N):\n",
    "        branch = pyro.sample(\"branch{}\".format(i), dist.Bernoulli(simAll))\n",
    "        beta1 = pyro.sample(\"beta1{}\".format(i), dist.Uniform(0., 1.))\n",
    "        beta2 = pyro.sample(\"beta2{}\".format(i), dist.Uniform(0., 1.))\n",
    "        click_probs = torch.where(branch.bool(), beta1, beta2)  # Select probabilities based on branch values\n",
    "        pyro.sample(\"click0{}\".format(i), dist.Bernoulli(beta1), obs=click0[i])\n",
    "        pyro.sample(\"click1{}\".format(i), dist.Bernoulli(click_probs), obs=click1[i])\n",
    "        \n",
    "mcmc_samples = mcmc(model, 'simAll', args=(N,click0,click1), num_samples=10000, plot_title='ClickGraph')"
   ]
  },
  {
   "cell_type": "code",
   "execution_count": 5,
   "id": "200b9505",
   "metadata": {},
   "outputs": [
    {
     "name": "stdout",
     "output_type": "stream",
     "text": [
      "Learning rate:  0.01\n",
      "Performed 700 steps\n",
      "Computed in: 9.506\n",
      "Estimated value: 0.41696450114250183\n",
      "________________________________\n",
      "Learning rate:  0.005\n",
      "Performed 300 steps\n",
      "Computed in: 4.227\n",
      "Estimated value: 0.49017035961151123\n",
      "________________________________\n",
      "Learning rate:  0.001\n",
      "Performed 200 steps\n",
      "Computed in: 2.981\n",
      "Estimated value: 0.5012288093566895\n",
      "________________________________\n"
     ]
    },
    {
     "data": {
      "text/plain": [
       "{0.01: 0.41696450114250183,\n",
       " 0.005: 0.49017035961151123,\n",
       " 0.001: 0.5012288093566895}"
      ]
     },
     "execution_count": 5,
     "metadata": {},
     "output_type": "execute_result"
    }
   ],
   "source": [
    "pyro.clear_param_store()\n",
    "\n",
    "N = 5\n",
    "click0 = torch.tensor([1.,1.,1.,0.,0.])\n",
    "click1 = torch.tensor([1.,1.,1.,0.,0.])\n",
    "\n",
    "# Define the model in Pyro\n",
    "def model(N, click0, click1):\n",
    "    simAll = pyro.sample(\"simAll\", dist.Uniform(0, 1))\n",
    "\n",
    "    for i in pyro.plate('data', N):\n",
    "        branch = pyro.sample(\"branch{}\".format(i), dist.Bernoulli(simAll))\n",
    "        beta1 = pyro.sample(\"beta1{}\".format(i), dist.Uniform(0., 1.))\n",
    "        beta2 = pyro.sample(\"beta2{}\".format(i), dist.Uniform(0., 1.))\n",
    "        click_probs = torch.where(branch.bool(), beta1, beta2)  # Select probabilities based on branch values\n",
    "        pyro.sample(\"click0{}\".format(i), dist.Bernoulli(beta1), obs=click0[i])\n",
    "        pyro.sample(\"click1{}\".format(i), dist.Bernoulli(click_probs), obs=click1[i])\n",
    "\n",
    "# Define the guide (variational distribution) in Pyro\n",
    "def guide(N, click0, click1):\n",
    "    \n",
    "    simAll_map = pyro.param('simAll_map', torch.tensor(0.5), constraint=constraints.unit_interval)\n",
    "    simAll = pyro.sample(\"simAll\", dist.Delta(simAll_map))\n",
    "    \n",
    "    for i in pyro.plate(\"data\", N):\n",
    "        branch = pyro.sample(\"branch{}\".format(i), dist.Bernoulli(simAll))\n",
    "        \n",
    "        beta1 = pyro.sample(\"beta1{}\".format(i), dist.Uniform(0.,1.))\n",
    "        beta2 = pyro.sample(\"beta2{}\".format(i), dist.Uniform(0.,1.))\n",
    "        \n",
    "        click_probs = torch.where(branch.bool(), beta1, beta2)\n",
    "    \n",
    "    \n",
    "test(model, guide, 'simAll', args=(N, click0, click1))"
   ]
  },
  {
   "cell_type": "markdown",
   "id": "5413f13b",
   "metadata": {},
   "source": [
    "# CoinBias"
   ]
  },
  {
   "cell_type": "code",
   "execution_count": 17,
   "id": "54f3523e",
   "metadata": {},
   "outputs": [
    {
     "name": "stderr",
     "output_type": "stream",
     "text": [
      "Sample: 100%|████████████████████████████████████| 10500/10500 [01:08, 154.33it/s, step size=1.17e+00, acc. prob=0.886]\n"
     ]
    },
    {
     "name": "stdout",
     "output_type": "stream",
     "text": [
      "MAP value in: 0.38964343 0.39804745\n",
      "Mean value: 0.41601408\n"
     ]
    },
    {
     "data": {
      "image/png": "[encoded data removed]",
      "text/plain": [
       "<Figure size 640x480 with 1 Axes>"
      ]
     },
     "metadata": {},
     "output_type": "display_data"
    }
   ],
   "source": [
    "pyro.clear_param_store()\n",
    "\n",
    "data = [torch.tensor(1.),\n",
    "       torch.tensor(1.),\n",
    "       torch.tensor(0.),\n",
    "       torch.tensor(1.),\n",
    "       torch.tensor(0.)]\n",
    "\n",
    "def model(data):\n",
    "    # sample theta from uniform prior\n",
    "    theta = pyro.sample(\"theta\", dist.Beta(2,5))\n",
    "    # loop over the observed data\n",
    "    for i in range(len(data)):\n",
    "        # observe datapoint i using the ernoulli likelihood\n",
    "        pyro.sample(\"obs_{}\".format(i), dist.Bernoulli(theta), obs=data[i])\n",
    "        \n",
    "mcmc_samples = mcmc(model, 'theta', args=(data,), num_samples=10000, plot_title='CoinBias')"
   ]
  },
  {
   "cell_type": "code",
   "execution_count": 6,
   "id": "39e0e954",
   "metadata": {},
   "outputs": [
    {
     "name": "stdout",
     "output_type": "stream",
     "text": [
      "Learning rate:  0.01\n",
      "Performed 200 steps\n",
      "Computed in: 0.633\n",
      "Estimated value: 0.40000057220458984\n",
      "________________________________\n",
      "Learning rate:  0.005\n",
      "Performed 200 steps\n",
      "Computed in: 0.653\n",
      "Estimated value: 0.3999849259853363\n",
      "________________________________\n",
      "Learning rate:  0.001\n",
      "Performed 700 steps\n",
      "Computed in: 2.318\n",
      "Estimated value: 0.3982037305831909\n",
      "________________________________\n"
     ]
    },
    {
     "data": {
      "text/plain": [
       "{0.01: 0.40000057220458984,\n",
       " 0.005: 0.3999849259853363,\n",
       " 0.001: 0.3982037305831909}"
      ]
     },
     "execution_count": 6,
     "metadata": {},
     "output_type": "execute_result"
    }
   ],
   "source": [
    "pyro.clear_param_store()\n",
    "\n",
    "data = [torch.tensor(1.),\n",
    "       torch.tensor(1.),\n",
    "       torch.tensor(0.),\n",
    "       torch.tensor(1.),\n",
    "       torch.tensor(0.)]\n",
    "\n",
    "def model(data):\n",
    "    # sample theta from uniform prior\n",
    "    theta = pyro.sample(\"theta\", dist.Beta(2,5))\n",
    "    # loop over the observed data\n",
    "    for i in range(len(data)):\n",
    "        # observe datapoint i using the ernoulli likelihood\n",
    "        pyro.sample(\"obs_{}\".format(i), dist.Bernoulli(theta), obs=data[i])\n",
    "\n",
    "def guide(data):\n",
    "    theta_map = pyro.param('theta_map', torch.tensor(1/6))\n",
    "    pyro.sample(\"theta\", dist.Delta(theta_map))\n",
    "\n",
    "test(model, guide, 'theta', args=(data,))"
   ]
  },
  {
   "cell_type": "markdown",
   "id": "4ca5092c",
   "metadata": {},
   "source": [
    "# SurveyUnbias"
   ]
  },
  {
   "cell_type": "code",
   "execution_count": 19,
   "id": "7d2ccdb3",
   "metadata": {},
   "outputs": [
    {
     "name": "stderr",
     "output_type": "stream",
     "text": [
      "Sample: 100%|█████████████████████████████████████| 10500/10500 [03:49, 45.69it/s, step size=5.68e-01, acc. prob=0.940]\n"
     ]
    },
    {
     "name": "stdout",
     "output_type": "stream",
     "text": [
      "MAP value in: 0.9824852 0.99121153\n",
      "Mean value: 0.8028255\n"
     ]
    },
    {
     "data": {
      "image/png": "[encoded data removed]",
      "text/plain": [
       "<Figure size 640x480 with 1 Axes>"
      ]
     },
     "metadata": {},
     "output_type": "display_data"
    }
   ],
   "source": [
    "pyro.clear_param_store()\n",
    "\n",
    "# Data\n",
    "N = 5  \n",
    "personGender = torch.tensor([0,1,0,0,1])  \n",
    "dataAnswer = torch.tensor([1.,0.,1.,1.,1.])  # Assuming dataAnswer is 0 or 1 for each data point\n",
    "\n",
    "# Pyro model\n",
    "def model(N, personGender, dataAnswer):\n",
    "    bias1 = pyro.sample(\"bias1\", dist.Beta(torch.tensor(1.0), torch.tensor(1.0)))\n",
    "    bias2 = pyro.sample(\"bias2\", dist.Beta(torch.tensor(1.0), torch.tensor(1.0)))\n",
    "\n",
    "    for n in pyro.plate(\"data\", N):\n",
    "        prob = torch.where(personGender[n].bool(), bias2, bias1)\n",
    "        pyro.sample(\"dataAnswer_{}\".format(n), dist.Bernoulli(prob), obs=dataAnswer[n])\n",
    "        \n",
    "mcmc_samples = mcmc(model, 'bias1', args=(N,personGender, dataAnswer), num_samples=10000, plot_title='SurveyUnbias')"
   ]
  },
  {
   "cell_type": "code",
   "execution_count": 7,
   "id": "1b2ce0cd",
   "metadata": {},
   "outputs": [
    {
     "name": "stdout",
     "output_type": "stream",
     "text": [
      "Learning rate:  0.01\n",
      "Performed 700 steps\n",
      "Computed in: 3.455\n",
      "Estimated value: 0.964478075504303\n",
      "________________________________\n",
      "Learning rate:  0.005\n",
      "Performed 1000 steps\n",
      "Computed in: 4.881\n",
      "Estimated value: 0.9429612755775452\n",
      "________________________________\n",
      "Learning rate:  0.001\n",
      "Performed 2200 steps\n",
      "Computed in: 11.533\n",
      "Estimated value: 0.8471129536628723\n",
      "________________________________\n"
     ]
    },
    {
     "data": {
      "text/plain": [
       "{0.01: 0.964478075504303, 0.005: 0.9429612755775452, 0.001: 0.8471129536628723}"
      ]
     },
     "execution_count": 7,
     "metadata": {},
     "output_type": "execute_result"
    }
   ],
   "source": [
    "pyro.clear_param_store()\n",
    "\n",
    "# Data\n",
    "N = 5  \n",
    "personGender = torch.tensor([0,1,0,0,1])  \n",
    "dataAnswer = torch.tensor([1.,0.,1.,1.,1.])  # Assuming dataAnswer is 0 or 1 for each data point\n",
    "\n",
    "# Pyro model\n",
    "def model(N, personGender, dataAnswer):\n",
    "    bias1 = pyro.sample(\"bias1\", dist.Beta(torch.tensor(1.0), torch.tensor(1.0)))\n",
    "    bias2 = pyro.sample(\"bias2\", dist.Beta(torch.tensor(1.0), torch.tensor(1.0)))\n",
    "\n",
    "    for n in pyro.plate(\"data\", N):\n",
    "        prob = torch.where(personGender[n].bool(), bias2, bias1)\n",
    "        pyro.sample(\"dataAnswer_{}\".format(n), dist.Bernoulli(prob), obs=dataAnswer[n])\n",
    "        \n",
    "def guide(N, personGender, dataAnswer):\n",
    "    \n",
    "    bias1_map = pyro.param('bias1_map', torch.tensor(0.5), constraint=constraints.unit_interval)\n",
    "    bias1 = pyro.sample(\"bias1\", dist.Delta(bias1_map))\n",
    "    \n",
    "    bias2 = pyro.sample(\"bias2\", dist.Beta(1.0, 1.0))\n",
    "\n",
    "test(model, guide, 'bias1', args=(N, personGender, dataAnswer))"
   ]
  },
  {
   "cell_type": "markdown",
   "id": "e7caf468",
   "metadata": {},
   "source": [
    "# TrueSkills"
   ]
  },
  {
   "cell_type": "code",
   "execution_count": 21,
   "id": "38e91904",
   "metadata": {},
   "outputs": [
    {
     "name": "stderr",
     "output_type": "stream",
     "text": [
      "Sample: 100%|█████████████████████████████████████| 10500/10500 [09:59, 17.52it/s, step size=2.00e-01, acc. prob=0.893]\n"
     ]
    },
    {
     "name": "stdout",
     "output_type": "stream",
     "text": [
      "MAP value in: 104.14383 104.82497\n",
      "Mean value: 104.95736\n"
     ]
    },
    {
     "data": {
      "image/png": "[encoded data removed]",
      "text/plain": [
       "<Figure size 640x480 with 1 Axes>"
      ]
     },
     "metadata": {},
     "output_type": "display_data"
    }
   ],
   "source": [
    "pyro.clear_param_store()\n",
    "\n",
    "# Define the Pyro model\n",
    "def model():\n",
    "    skillA = pyro.sample(\"skillA\", dist.Normal(100, 10))\n",
    "    skillB = pyro.sample(\"skillB\", dist.Normal(100, 10))\n",
    "    skillC = pyro.sample(\"skillC\", dist.Normal(100, 10))\n",
    "    \n",
    "    perfA = pyro.sample(\"perfA\", dist.Normal(skillA, 15))\n",
    "    perfB = pyro.sample(\"perfB\", dist.Normal(skillB, 15)) \n",
    "    perfC = pyro.sample(\"perfC\", dist.Normal(skillC, 15)) \n",
    "    \n",
    "    pyro.sample(\"AbeatsB\", dist.Bernoulli(logits=perfA - perfB), obs=torch.tensor(1.))\n",
    "    pyro.sample(\"AbeatsC\", dist.Bernoulli(logits=perfA - perfC), obs=torch.tensor(1.))\n",
    "        \n",
    "mcmc_samples = mcmc(model, 'skillA', args=(), num_samples=10000, plot_title='TrueSkills')"
   ]
  },
  {
   "cell_type": "code",
   "execution_count": 8,
   "id": "8f3e1dc0",
   "metadata": {},
   "outputs": [
    {
     "name": "stdout",
     "output_type": "stream",
     "text": [
      "Learning rate:  0.01\n",
      "Performed 200 steps\n",
      "Computed in: 0.992\n",
      "Estimated value: 101.62904357910156\n",
      "________________________________\n",
      "Learning rate:  0.005\n",
      "Performed 200 steps\n",
      "Computed in: 0.974\n",
      "Estimated value: 100.80146789550781\n",
      "________________________________\n",
      "Learning rate:  0.001\n",
      "Performed 200 steps\n",
      "Computed in: 1.029\n",
      "Estimated value: 100.1552734375\n",
      "________________________________\n"
     ]
    },
    {
     "data": {
      "text/plain": [
       "{0.01: 101.62904357910156, 0.005: 100.80146789550781, 0.001: 100.1552734375}"
      ]
     },
     "execution_count": 8,
     "metadata": {},
     "output_type": "execute_result"
    }
   ],
   "source": [
    "pyro.clear_param_store()\n",
    "\n",
    "# Define the Pyro model\n",
    "def model():\n",
    "    skillA = pyro.sample(\"skillA\", dist.Normal(100, 10))\n",
    "    skillB = pyro.sample(\"skillB\", dist.Normal(100, 10))\n",
    "    skillC = pyro.sample(\"skillC\", dist.Normal(100, 10))\n",
    "    \n",
    "    perfA = pyro.sample(\"perfA\", dist.Normal(skillA, 15))\n",
    "    perfB = pyro.sample(\"perfB\", dist.Normal(skillB, 15)) \n",
    "    perfC = pyro.sample(\"perfC\", dist.Normal(skillC, 15)) \n",
    "    \n",
    "    pyro.sample(\"AbeatsB\", dist.Bernoulli(logits=perfA - perfB), obs=torch.tensor(1.))\n",
    "    pyro.sample(\"AbeatsC\", dist.Bernoulli(logits=perfA - perfC), obs=torch.tensor(1.))\n",
    "    \n",
    "def guide():\n",
    "    \n",
    "    skillA_map = pyro.param('skillA_map', torch.tensor(100.))\n",
    "    skillA = pyro.sample('skillA', dist.Delta(skillA_map))\n",
    "    \n",
    "    skillB = pyro.sample(\"skillB\", dist.Normal(100, 10))\n",
    "    skillC = pyro.sample(\"skillC\", dist.Normal(100, 10))\n",
    "    \n",
    "    perfA = pyro.sample(\"perfA\", dist.Normal(skillA, 15))\n",
    "    perfB = pyro.sample(\"perfB\", dist.Normal(skillB, 15)) \n",
    "    perfC = pyro.sample(\"perfC\", dist.Normal(skillC, 15)) \n",
    "\n",
    "test(model, guide, 'skillA', args=())"
   ]
  },
  {
   "cell_type": "markdown",
   "id": "1e6baf63",
   "metadata": {},
   "source": [
    "# Altermu"
   ]
  },
  {
   "cell_type": "code",
   "execution_count": 3,
   "id": "da7e39df",
   "metadata": {},
   "outputs": [
    {
     "name": "stderr",
     "output_type": "stream",
     "text": [
      "Sample: 100%|███████████████████████████████████| 10500/10500 [7:37:37,  2.62s/it, step size=1.22e-02, acc. prob=0.829]\n"
     ]
    },
    {
     "name": "stdout",
     "output_type": "stream",
     "text": [
      "MAP value in: 0.20664176 0.299102\n",
      "Mean value: -0.20579731\n"
     ]
    },
    {
     "data": {
      "image/png": "[encoded data removed]",
      "text/plain": [
       "<Figure size 640x480 with 1 Axes>"
      ]
     },
     "metadata": {},
     "output_type": "display_data"
    }
   ],
   "source": [
    "pyro.clear_param_store()\n",
    "\n",
    "N = 40\n",
    "y = torch.tensor([-2.57251482,  0.33806206,  2.71757796,  1.09861336,  2.85603752, -0.91651351,  0.15555127, -2.68160347,  2.47043789,  3.47459025, 1.63949862, -1.32148757,  2.64187513,  0.30357848, -4.09546231, -1.50709863, -0.99517866, -2.0648892 , -2.40317949,  3.46383544, 0.91173696,  1.18222221,  0.04235722, -0.52815171,  1.15551598, -1.62749724,  0.71473237, -1.08458812,  4.66020296,  1.24563831, -0.67970862,  0.93461681,  1.18187607, -1.49501051,  2.44755622, -2.06424237, -0.04584074,  1.93396696,  1.07685273, -0.09837907])\n",
    "\n",
    "# Define the Pyro model\n",
    "def model(N, y):\n",
    "    mu1 = pyro.sample(\"mu1\", dist.Normal(0.0, 5.0))\n",
    "    mu2 = pyro.sample(\"mu2\", dist.Normal(0.0, 5.0))\n",
    "    mu3 = pyro.sample(\"mu3\", dist.Normal(0.0, 5.0))\n",
    "    \n",
    "    for n in pyro.plate(\"data\", N):\n",
    "        pyro.sample(\"obs{}\".format(n), dist.Normal(3*mu1*mu2-mu3, 1.0), obs=y[n])\n",
    "\n",
    "mcmc_samples = mcmc(model, 'mu1', args=(N,y), num_samples=10000, plot_title='Altermu')"
   ]
  },
  {
   "cell_type": "code",
   "execution_count": 9,
   "id": "02e070b2",
   "metadata": {},
   "outputs": [
    {
     "name": "stdout",
     "output_type": "stream",
     "text": [
      "Learning rate:  0.01\n",
      "Performed 10000 steps\n",
      "Computed in: 190.628\n",
      "Estimated value: -0.014561337418854237\n",
      "________________________________\n",
      "Learning rate:  0.005\n",
      "Performed 10000 steps\n",
      "Computed in: 184.589\n",
      "Estimated value: 0.029260210692882538\n",
      "________________________________\n",
      "Learning rate:  0.001\n",
      "Performed 10000 steps\n",
      "Computed in: 185.757\n",
      "Estimated value: 0.014976076781749725\n",
      "________________________________\n"
     ]
    },
    {
     "data": {
      "text/plain": [
       "{0.01: -0.014561337418854237,\n",
       " 0.005: 0.029260210692882538,\n",
       " 0.001: 0.014976076781749725}"
      ]
     },
     "execution_count": 9,
     "metadata": {},
     "output_type": "execute_result"
    }
   ],
   "source": [
    "pyro.clear_param_store()\n",
    "\n",
    "N = 40\n",
    "y = torch.tensor([-2.57251482,  0.33806206,  2.71757796,  1.09861336,  2.85603752, -0.91651351,  0.15555127, -2.68160347,  2.47043789,  3.47459025, 1.63949862, -1.32148757,  2.64187513,  0.30357848, -4.09546231, -1.50709863, -0.99517866, -2.0648892 , -2.40317949,  3.46383544, 0.91173696,  1.18222221,  0.04235722, -0.52815171,  1.15551598, -1.62749724,  0.71473237, -1.08458812,  4.66020296,  1.24563831, -0.67970862,  0.93461681,  1.18187607, -1.49501051,  2.44755622, -2.06424237, -0.04584074,  1.93396696,  1.07685273, -0.09837907])\n",
    "\n",
    "# Define the Pyro model\n",
    "def model(N, y):\n",
    "    mu1 = pyro.sample(\"mu1\", dist.Normal(0.0, 5.0))\n",
    "    mu2 = pyro.sample(\"mu2\", dist.Normal(0.0, 5.0))\n",
    "    mu3 = pyro.sample(\"mu3\", dist.Normal(0.0, 5.0))\n",
    "    \n",
    "    for n in pyro.plate(\"data\", N):\n",
    "        pyro.sample(\"obs{}\".format(n), dist.Normal(3*mu1*mu2-mu3, 1.0), obs=y[n])\n",
    "        \n",
    "def guide(N, y):\n",
    "    \n",
    "    mu1_map = pyro.param('mu1_map', torch.tensor(0.0))\n",
    "    mu1 = pyro.sample('mu1', dist.Delta(mu1_map))\n",
    "    \n",
    "    mu2 = pyro.sample(\"mu2\", dist.Normal(0.0, 5.0))\n",
    "    mu3 = pyro.sample(\"mu3\", dist.Normal(0.0, 5.0))\n",
    "    \n",
    "test(model, guide, 'mu1',  args=(N,y))"
   ]
  },
  {
   "cell_type": "markdown",
   "id": "25ea47df",
   "metadata": {},
   "source": [
    "# Altermu2"
   ]
  },
  {
   "cell_type": "code",
   "execution_count": 5,
   "id": "a63255d8",
   "metadata": {},
   "outputs": [
    {
     "name": "stderr",
     "output_type": "stream",
     "text": [
      "Sample: 100%|███████████████████████████████████| 10500/10500 [2:02:24,  1.43it/s, step size=1.58e-02, acc. prob=0.953]\n"
     ]
    },
    {
     "name": "stdout",
     "output_type": "stream",
     "text": [
      "MAP value in: 6.8207145 7.0194087\n",
      "Mean value: 0.41334298\n"
     ]
    },
    {
     "data": {
      "image/png": "[encoded data removed]",
      "text/plain": [
       "<Figure size 640x480 with 1 Axes>"
      ]
     },
     "metadata": {},
     "output_type": "display_data"
    }
   ],
   "source": [
    "pyro.clear_param_store()\n",
    "\n",
    "N = 40\n",
    "y = torch.tensor([-2.57251482,  0.33806206,  2.71757796,  1.09861336,  2.85603752, -0.91651351,  0.15555127, -2.68160347,  2.47043789,  3.47459025, 1.63949862, -1.32148757,  2.64187513,  0.30357848, -4.09546231, -1.50709863, -0.99517866, -2.0648892 , -2.40317949,  3.46383544, 0.91173696,  1.18222221,  0.04235722, -0.52815171,  1.15551598, -1.62749724,  0.71473237, -1.08458812,  4.66020296,  1.24563831, -0.67970862,  0.93461681,  1.18187607, -1.49501051,  2.44755622, -2.06424237, -0.04584074,  1.93396696,  1.07685273, -0.09837907])\n",
    "\n",
    "\n",
    "# Custom Beta distribution with support in [-10, 10]\n",
    "from torch.distributions.transforms import SigmoidTransform, AffineTransform\n",
    "\n",
    "class CustomBeta(dist.TransformedDistribution):\n",
    "    def __init__(self, alpha, beta):\n",
    "        base_dist = dist.Beta(alpha, beta)\n",
    "        transforms = [AffineTransform(loc=-10, scale=20.0)]\n",
    "        super().__init__(base_dist, transforms)\n",
    "\n",
    "\n",
    "# Define the Pyro model\n",
    "def model(N, y):\n",
    "    mu1 = pyro.sample(\"mu1\", dist.Uniform(-10.0, 10.0))\n",
    "    mu2 = pyro.sample(\"mu2\", dist.Uniform(-10.0, 10.0))\n",
    "    \n",
    "    for n in pyro.plate(\"data\", N):\n",
    "        pyro.sample(\"obs{}\".format(n), dist.Normal(mu1+mu2, 1.0), obs=y[n])\n",
    "        \n",
    "mcmc_samples = mcmc(model, 'mu1', args=(N,y), num_samples=10000, plot_title='Altermu2')"
   ]
  },
  {
   "cell_type": "code",
   "execution_count": 11,
   "id": "79fd81a0",
   "metadata": {},
   "outputs": [],
   "source": [
    "#pyro.clear_param_store()\n",
    "#\n",
    "#N = 40\n",
    "#y = torch.tensor([-2.57251482,  0.33806206,  2.71757796,  1.09861336,  2.85603752, -0.91651351,  0.15555127, -2.68160347,  2.47043789,  3.47459025, 1.63949862, -1.32148757,  2.64187513,  0.30357848, -4.09546231, -1.50709863, -0.99517866, -2.0648892 , -2.40317949,  3.46383544, 0.91173696,  1.18222221,  0.04235722, -0.52815171,  1.15551598, -1.62749724,  0.71473237, -1.08458812,  4.66020296,  1.24563831, -0.67970862,  0.93461681,  1.18187607, -1.49501051,  2.44755622, -2.06424237, -0.04584074,  1.93396696,  1.07685273, -0.09837907])\n",
    "#\n",
    "#\n",
    "## Custom Beta distribution with support in [-10, 10]\n",
    "#from torch.distributions.transforms import SigmoidTransform, AffineTransform\n",
    "#\n",
    "#class CustomBeta(dist.TransformedDistribution):\n",
    "#    def __init__(self, alpha, beta):\n",
    "#        base_dist = dist.Beta(alpha, beta)\n",
    "#        transforms = [AffineTransform(loc=-10, scale=20.0)]\n",
    "#        super().__init__(base_dist, transforms)\n",
    "#\n",
    "#\n",
    "## Define the Pyro model\n",
    "#def model(N, y):\n",
    "#    mu1 = pyro.sample(\"mu1\", dist.Uniform(-10.0, 10.0))\n",
    "#    mu2 = pyro.sample(\"mu2\", dist.Uniform(-10.0, 10.0))\n",
    "#    \n",
    "#    for n in pyro.plate(\"data\", N):\n",
    "#        pyro.sample(\"obs{}\".format(n), dist.Normal(mu1+mu2, 1.0), obs=y[n])\n",
    "#        \n",
    "#def guide(N, y):\n",
    "#    \n",
    "#    mu1_map = pyro.param('mu1_map', torch.tensor(0.0))\n",
    "#    mu1 = pyro.sample('mu1', dist.Delta(mu1_map))\n",
    "#    \n",
    "#    mu2 = pyro.sample(\"mu2\", dist.Uniform(-10.0, 10.0))\n",
    "#\n",
    "#res = test(model, guide, 'mu1', args=(N, y))\n",
    "#\n",
    "#for v in res.values():\n",
    "#    print(-10. + 20.*v)"
   ]
  },
  {
   "cell_type": "markdown",
   "id": "bdfdf943",
   "metadata": {},
   "source": [
    "# NormalMixtures"
   ]
  },
  {
   "cell_type": "code",
   "execution_count": 11,
   "id": "aaeaaace",
   "metadata": {},
   "outputs": [
    {
     "name": "stderr",
     "output_type": "stream",
     "text": [
      "Sample: 100%|█████████████████████████████████████| 10500/10500 [56:37,  3.09it/s, step size=9.60e-01, acc. prob=0.883]\n"
     ]
    },
    {
     "name": "stdout",
     "output_type": "stream",
     "text": [
      "MAP value in: 0.29328343 0.29792044\n",
      "Mean value: 0.2845489\n"
     ]
    },
    {
     "data": {
      "image/png": "[encoded data removed]",
      "text/plain": [
       "<Figure size 640x480 with 1 Axes>"
      ]
     },
     "metadata": {},
     "output_type": "display_data"
    }
   ],
   "source": [
    "pyro.clear_param_store()\n",
    "\n",
    "# Data\n",
    "N = 40  # Number of data points (please adjust this value according to your dataset)\n",
    "y = torch.tensor([10.0787617156523, -9.51866467444093, 9.73922587306449, 11.5662681883816, 9.62798489000074, -9.60265090119919, 8.90114345923455, 10.866328444034, 10.5347883361026, 8.60577222463504, -10.625227428575, -9.08615131315038, -8.99280046532217, 9.43533905966944, 8.92696803962787, 9.642301288006, 9.42066621557773, 9.90838406119759, 9.63911912487384, 7.55585122379505, 9.58069898235901, 9.63228461457187, -9.99589804304319, 8.61024296515084, -10.4988882191036, -8.45028703711596, 9.76066425342707, -8.68129886943495, 9.83763492226261, 7.29698608457303, 8.78881675784227, 10.6057117460834, 10.2807363791435, 9.54352982843898, -10.9911972452721, 12.2061931600758, 7.76887153466896, 10.7523541087606, -9.98525551020183, 10.6248182699128])  \n",
    "\n",
    "# Define the Pyro model\n",
    "def model(N, y):\n",
    "    theta = pyro.sample(\"theta\", dist.Uniform(0.,1.))  # Beta distribution with alpha=1, beta=1\n",
    "    mu1 = pyro.sample(\"mu1\", dist.Normal(-10.,1.))\n",
    "    mu2 = pyro.sample(\"mu2\", dist.Normal(10.,1.))\n",
    "    \n",
    "    for n in pyro.plate(\"data\", N):\n",
    "        comp = pyro.sample(\"comp{}\".format(n), dist.Bernoulli(theta))\n",
    "        prob = torch.where(comp.bool(), mu2, mu1)  \n",
    "        pyro.sample(\"obs{}\".format(n), dist.Normal(prob, 1.0), obs=y[n])\n",
    "        \n",
    "mcmc_samples = mcmc(model, 'theta', args=(N,y), num_samples=10000, plot_title='NormalMixtures')"
   ]
  },
  {
   "cell_type": "code",
   "execution_count": 12,
   "id": "021fa289",
   "metadata": {},
   "outputs": [
    {
     "name": "stdout",
     "output_type": "stream",
     "text": [
      "Learning rate:  0.01\n",
      "Performed 1100 steps\n",
      "Computed in: 49.479\n",
      "Estimated value: 0.23620811104774475\n",
      "________________________________\n",
      "Learning rate:  0.005\n",
      "Performed 300 steps\n",
      "Computed in: 14.982\n",
      "Estimated value: 0.47711676359176636\n",
      "________________________________\n",
      "Learning rate:  0.001\n",
      "Performed 200 steps\n",
      "Computed in: 9.716\n",
      "Estimated value: 0.4997936189174652\n",
      "________________________________\n"
     ]
    },
    {
     "data": {
      "text/plain": [
       "{0.01: 0.23620811104774475,\n",
       " 0.005: 0.47711676359176636,\n",
       " 0.001: 0.4997936189174652}"
      ]
     },
     "execution_count": 12,
     "metadata": {},
     "output_type": "execute_result"
    }
   ],
   "source": [
    "pyro.clear_param_store()\n",
    "\n",
    "# Data\n",
    "N = 40  # Number of data points (please adjust this value according to your dataset)\n",
    "y = torch.tensor([10.0787617156523, -9.51866467444093, 9.73922587306449, 11.5662681883816, 9.62798489000074, -9.60265090119919, 8.90114345923455, 10.866328444034, 10.5347883361026, 8.60577222463504, -10.625227428575, -9.08615131315038, -8.99280046532217, 9.43533905966944, 8.92696803962787, 9.642301288006, 9.42066621557773, 9.90838406119759, 9.63911912487384, 7.55585122379505, 9.58069898235901, 9.63228461457187, -9.99589804304319, 8.61024296515084, -10.4988882191036, -8.45028703711596, 9.76066425342707, -8.68129886943495, 9.83763492226261, 7.29698608457303, 8.78881675784227, 10.6057117460834, 10.2807363791435, 9.54352982843898, -10.9911972452721, 12.2061931600758, 7.76887153466896, 10.7523541087606, -9.98525551020183, 10.6248182699128])  \n",
    "\n",
    "# Define the Pyro model\n",
    "def model(N, y):\n",
    "    theta = pyro.sample(\"theta\", dist.Uniform(0.,1.))  # Beta distribution with alpha=1, beta=1\n",
    "    mu1 = pyro.sample(\"mu1\", dist.Normal(-10.,1.))\n",
    "    mu2 = pyro.sample(\"mu2\", dist.Normal(10.,1.))\n",
    "    \n",
    "    for n in pyro.plate(\"data\", N):\n",
    "        comp = pyro.sample(\"comp{}\".format(n), dist.Bernoulli(theta))\n",
    "        prob = torch.where(comp.bool(), mu1, mu2)  \n",
    "        pyro.sample(\"obs{}\".format(n), dist.Normal(prob, 1.0), obs=y[n])\n",
    "        \n",
    "def guide(N, y):\n",
    "    \n",
    "    theta_map = pyro.param('theta_map', torch.tensor(0.5), constraint=constraints.unit_interval)\n",
    "    theta = pyro.sample(\"theta\", dist.Delta(theta_map)) \n",
    "    \n",
    "    mu1 = pyro.sample(\"mu1\", dist.Normal(-10.,1.))\n",
    "    mu2 = pyro.sample(\"mu2\", dist.Normal(10.,1.))\n",
    "    \n",
    "    for n in pyro.plate(\"data\", N):\n",
    "        comp = pyro.sample(\"comp{}\".format(n), dist.Bernoulli(theta))\n",
    "        prob = torch.where(comp.bool(), mu1, mu2)  \n",
    "        \n",
    "\n",
    "test(model, guide, 'theta', args=(N,y))"
   ]
  },
  {
   "cell_type": "markdown",
   "id": "814dd285",
   "metadata": {},
   "source": [
    "# TimeSeries"
   ]
  },
  {
   "cell_type": "code",
   "execution_count": 6,
   "id": "e7bc99ea",
   "metadata": {},
   "outputs": [
    {
     "name": "stderr",
     "output_type": "stream",
     "text": [
      "Sample: 100%|█████████████████████████████████████| 10500/10500 [39:30,  4.43it/s, step size=1.96e-01, acc. prob=0.944]\n"
     ]
    },
    {
     "name": "stdout",
     "output_type": "stream",
     "text": [
      "MAP value in: -1.5423712 -1.5217392\n",
      "Mean value: -1.5740857\n"
     ]
    },
    {
     "data": {
      "image/png": "[encoded data removed]",
      "text/plain": [
       "<Figure size 640x480 with 1 Axes>"
      ]
     },
     "metadata": {},
     "output_type": "display_data"
    }
   ],
   "source": [
    "def model(T, y, x):\n",
    "    alpha = pyro.sample(\"alpha\", dist.Uniform(-5, 5))\n",
    "    beta = pyro.sample(\"beta\", dist.Uniform(-5, 5))\n",
    "    lambda_ = pyro.sample(\"lambda\", dist.Uniform(0, 1))\n",
    "    \n",
    "    for i in pyro.plate('obs', T-1):\n",
    "        pyro.sample(\"y{}\".format(i+1), dist.Normal(alpha + beta *x[i+1] + lambda_ *obs_y[i], 0.5), obs=obs_y[i+1])\n",
    "\n",
    "mcmc_samples = mcmc(model, 'alpha', args=(T,y,x), num_samples=10000, plot_title='TimeSeries')"
   ]
  },
  {
   "cell_type": "code",
   "execution_count": 15,
   "id": "6cdd9eb5",
   "metadata": {},
   "outputs": [
    {
     "name": "stdout",
     "output_type": "stream",
     "text": [
      "Learning rate:  0.01\n",
      "Performed 3100 steps\n",
      "Computed in: 55.367\n",
      "Estimated value: -1.5639817714691162\n",
      "________________________________\n",
      "Learning rate:  0.005\n",
      "Performed 1100 steps\n",
      "Computed in: 26.637\n",
      "Estimated value: -1.4970028400421143\n",
      "________________________________\n",
      "Learning rate:  0.001\n",
      "Performed 2800 steps\n",
      "Computed in: 75.413\n",
      "Estimated value: -1.3473550081253052\n",
      "________________________________\n"
     ]
    }
   ],
   "source": [
    "# Data\n",
    "T = 40  # Number of time points\n",
    "x = torch.tensor([0.0530897649405518, -0.427176340746955, 0.575506045064776, -1.05503057032362, -0.00138425373659317, 0.362367184144129, -0.906400668762085, 1.39464604836768, -1.40047244298115, -0.872458836353285, -0.425555167755021, -0.192907289991263, 0.611345320709905, 0.223493915844394, -0.335855643300744, -0.786177511979181, 1.0466888412128, -1.35578280849525, -0.4802662607177, -0.482825573577857, -0.44808934155094, 1.41677018342172, -1.12722529948411, -1.52518755310289, -0.232336215009525, -0.452482201859223, -0.235580964484178, -0.789514125170731, 1.61944620303219, 0.735756130006795, -1.0253656503392, 0.936124304383727, 1.10587169595422, 0.833182124741184, 0.113696178051401, -1.15636049024915, 1.85507312756962, 1.30957252757083, 0.822235075588577, -1.43800316565635]) \n",
    "y = torch.tensor([-1.09070023335653, -2.49513228748069, -2.07918898737732, -3.34621083464711, -3.21905761756761, -3.84835139936697, -4.14591579938845, -2.17085702918779, -2.72986009710348, -2.35417403593087, -3.05798313015489, -2.85360404455837, -2.9261492993768, -2.67713444957349, -2.97731974867721, -4.7510500052692, -3.2939903406896, -4.11626048191435, -4.08086402479665, -3.34743297842617, -3.59294970060833, -1.70489370379594, -3.522911840642, -4.13944648650588, -4.04992280586435, -3.71707285571859, -2.6830205191276, -3.21920265745786, -1.78221835462429, -1.71385611701893, -3.15284681754168, -3.26094915407183, -2.92240028325557, -2.40186352631743, -3.1697331801915, -4.00540748111558, -2.32625323220302, -1.74827635320394, -1.05716214917384, -3.44536781268663]) \n",
    "obs_y = torch.tensor([-1.09070023335653, -2.49513228748069, -2.07918898737732, -3.34621083464711, -3.21905761756761, -3.84835139936697, -4.14591579938845, -2.17085702918779, -2.72986009710348, -2.35417403593087, -3.05798313015489, -2.85360404455837, -2.9261492993768, -2.67713444957349, -2.97731974867721, -4.7510500052692, -3.2939903406896, -4.11626048191435, -4.08086402479665, -3.34743297842617, -3.59294970060833, -1.70489370379594, -3.522911840642, -4.13944648650588, -4.04992280586435, -3.71707285571859, -2.6830205191276, -3.21920265745786, -1.78221835462429, -1.71385611701893, -3.15284681754168, -3.26094915407183, -2.92240028325557, -2.40186352631743, -3.1697331801915, -4.00540748111558, -2.32625323220302, -1.74827635320394, -1.05716214917384, -3.44536781268663]) \n",
    "\n",
    "# Define the Pyro model\n",
    "def model(T, y, x):\n",
    "    alpha = pyro.sample(\"alpha\", dist.Uniform(-5, 5))\n",
    "    beta = pyro.sample(\"beta\", dist.Uniform(-5, 5))\n",
    "    lambda_ = pyro.sample(\"lambda\", dist.Uniform(0, 1))\n",
    "    \n",
    "    for i in pyro.plate('obs', T-1):\n",
    "        pyro.sample(\"y{}\".format(i+1), dist.Normal(alpha + beta *x[i+1] + lambda_ *obs_y[i], 0.5), obs=obs_y[i+1])\n",
    "\n",
    "def guide(T, y, x):\n",
    "    alpha_map = pyro.param('alpha_map', torch.tensor(0.))\n",
    "    alpha = pyro.sample(\"alpha\", dist.Delta(alpha_map))\n",
    "    beta = pyro.sample(\"beta\", dist.Uniform(-5, 5))\n",
    "    lambda_ = pyro.sample(\"lambda\", dist.Uniform(0, 1))\n",
    "    \n",
    "\n",
    "res = test(model, guide, 'alpha', args=(T, y, x))"
   ]
  },
  {
   "cell_type": "code",
   "execution_count": null,
   "id": "d96a1732",
   "metadata": {},
   "outputs": [],
   "source": []
  }
 ],
 "metadata": {
  "kernelspec": {
   "display_name": "Python 3 (ipykernel)",
   "language": "python",
   "name": "python3"
  },
  "language_info": {
   "codemirror_mode": {
    "name": "ipython",
    "version": 3
   },
   "file_extension": ".py",
   "mimetype": "text/x-python",
   "name": "python",
   "nbconvert_exporter": "python",
   "pygments_lexer": "ipython3",
   "version": "3.11.5"
  }
 },
 "nbformat": 4,
 "nbformat_minor": 5
}
