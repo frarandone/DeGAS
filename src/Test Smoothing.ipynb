{
 "cells": [
  {
   "cell_type": "markdown",
   "id": "24e66b63",
   "metadata": {},
   "source": [
    "# Smoothing Test"
   ]
  },
  {
   "cell_type": "code",
   "execution_count": 1,
   "id": "afa5e2d3-2260-471c-adc0-83ca1a02a269",
   "metadata": {},
   "outputs": [],
   "source": [
    "from sogaPreprocessor import *\n",
    "from producecfg import *\n",
    "from libSOGA import *\n",
    "from smoothcfg import *\n",
    "\n",
    "torch.set_default_dtype(torch.float64)"
   ]
  },
  {
   "cell_type": "markdown",
   "id": "f2e042c0",
   "metadata": {},
   "source": [
    "### Test 1: Assigning Constants"
   ]
  },
  {
   "cell_type": "code",
   "execution_count": 2,
   "id": "f2a4e2eb",
   "metadata": {},
   "outputs": [
    {
     "data": {
      "text/plain": [
       "Dist<['y', 'x'],pi: tensor([[1.]])\n",
       "mu: tensor([[0., 0.]])\n",
       "sigma: tensor([[[1.0000e+00, 0.0000e+00],\n",
       "         [0.0000e+00, 1.0000e-06]]])>"
      ]
     },
     "execution_count": 2,
     "metadata": {},
     "output_type": "execute_result"
    }
   ],
   "source": [
    "text = 'y = gauss(0,1); x = 0;'\n",
    "\n",
    "text = compile2SOGA_text(text)\n",
    "cfg = produce_cfg_text(text)\n",
    "smooth_cfg(cfg)\n",
    "output_dist = start_SOGA(cfg)\n",
    "output_dist"
   ]
  },
  {
   "cell_type": "code",
   "execution_count": 3,
   "id": "7731fa08",
   "metadata": {},
   "outputs": [
    {
     "data": {
      "text/plain": [
       "{'entry': EntryNode<>,\n",
       " 'state0': StateNode<state0,None,y=gm([1.0],[0.000000],[1.000000])>,\n",
       " 'state1': StateNode<state1,None,x=0,smoothed:x=0+ gm([1.], [0.], [0.0010000000])>,\n",
       " 'exit': ExitNode<>}"
      ]
     },
     "execution_count": 3,
     "metadata": {},
     "output_type": "execute_result"
    }
   ],
   "source": [
    "cfg.node_list"
   ]
  },
  {
   "cell_type": "markdown",
   "id": "38563950",
   "metadata": {},
   "source": [
    "### Test 2: Assigning Discrete Distributions"
   ]
  },
  {
   "cell_type": "code",
   "execution_count": 4,
   "id": "fc182a15",
   "metadata": {},
   "outputs": [
    {
     "data": {
      "text/plain": [
       "Dist<['y', 'x'],pi: tensor([[0.5000],\n",
       "        [0.5000]])\n",
       "mu: tensor([[0., 0.],\n",
       "        [0., 1.]])\n",
       "sigma: tensor([[[1.0000e+00, 0.0000e+00],\n",
       "         [0.0000e+00, 1.0000e-06]],\n",
       "\n",
       "        [[1.0000e+00, 0.0000e+00],\n",
       "         [0.0000e+00, 1.0000e-06]]])>"
      ]
     },
     "execution_count": 4,
     "metadata": {},
     "output_type": "execute_result"
    }
   ],
   "source": [
    "text = 'y = gauss(0,1); x = bern(0.5);'\n",
    "\n",
    "text = compile2SOGA_text(text)\n",
    "cfg = produce_cfg_text(text)\n",
    "smooth_cfg(cfg)\n",
    "output_dist = start_SOGA(cfg)\n",
    "output_dist"
   ]
  },
  {
   "cell_type": "code",
   "execution_count": 5,
   "id": "3d340fac",
   "metadata": {},
   "outputs": [
    {
     "data": {
      "text/plain": [
       "{'entry': EntryNode<>,\n",
       " 'state0': StateNode<state0,None,y=gm([1.0],[0.000000],[1.000000])>,\n",
       " 'state1': StateNode<state1,None,x=gm([0.500000,0.500000],[0.0,1.0],[0.0,0.0]),smoothed:x=gm([0.500000,0.500000], [0.0,1.0], [0.0010000000, 0.0010000000])>,\n",
       " 'exit': ExitNode<>}"
      ]
     },
     "execution_count": 5,
     "metadata": {},
     "output_type": "execute_result"
    }
   ],
   "source": [
    "cfg.node_list"
   ]
  },
  {
   "cell_type": "markdown",
   "id": "6b28f98b",
   "metadata": {},
   "source": [
    "### Test 3: Assigning Constant times Discrete"
   ]
  },
  {
   "cell_type": "code",
   "execution_count": 6,
   "id": "7a2b4e5e",
   "metadata": {},
   "outputs": [
    {
     "data": {
      "text/plain": [
       "Dist<['y', 'x'],pi: tensor([[0.5000],\n",
       "        [0.5000]])\n",
       "mu: tensor([[0., 0.],\n",
       "        [0., 2.]])\n",
       "sigma: tensor([[[1.0000e+00, 0.0000e+00],\n",
       "         [0.0000e+00, 4.0000e-06]],\n",
       "\n",
       "        [[1.0000e+00, 0.0000e+00],\n",
       "         [0.0000e+00, 4.0000e-06]]])>"
      ]
     },
     "execution_count": 6,
     "metadata": {},
     "output_type": "execute_result"
    }
   ],
   "source": [
    "text = 'y = gauss(0,1); x = 2*gm([0.5, 0.5], [0., 1.], [0., 0.]);'\n",
    "\n",
    "text = compile2SOGA_text(text)\n",
    "cfg = produce_cfg_text(text)\n",
    "smooth_cfg(cfg)\n",
    "output_dist = start_SOGA(cfg)\n",
    "output_dist\n"
   ]
  },
  {
   "cell_type": "code",
   "execution_count": 7,
   "id": "ccfa8174",
   "metadata": {},
   "outputs": [
    {
     "data": {
      "text/plain": [
       "{'entry': EntryNode<>,\n",
       " 'state0': StateNode<state0,None,y=gm([1.0],[0.000000],[1.000000])>,\n",
       " 'state1': StateNode<state1,None,x=2*gm([0.5,0.5],[0.,1.],[0.,0.]),smoothed:x=2*gm([0.5,0.5], [0.,1.], [0.0010000000, 0.0010000000])>,\n",
       " 'exit': ExitNode<>}"
      ]
     },
     "execution_count": 7,
     "metadata": {},
     "output_type": "execute_result"
    }
   ],
   "source": [
    "cfg.node_list"
   ]
  },
  {
   "cell_type": "markdown",
   "id": "fd1d9a7b",
   "metadata": {},
   "source": [
    "### Test 4: Assigning Other Variables"
   ]
  },
  {
   "cell_type": "code",
   "execution_count": 8,
   "id": "af761af0",
   "metadata": {},
   "outputs": [
    {
     "data": {
      "text/plain": [
       "Dist<['y', 'x'],pi: tensor([[1.]])\n",
       "mu: tensor([[0., 0.]])\n",
       "sigma: tensor([[[1.0000, 1.0000],\n",
       "         [1.0000, 1.0000]]])>"
      ]
     },
     "execution_count": 8,
     "metadata": {},
     "output_type": "execute_result"
    }
   ],
   "source": [
    "text = 'y = gauss(0,1); x = y;'\n",
    "\n",
    "text = compile2SOGA_text(text)\n",
    "cfg = produce_cfg_text(text)\n",
    "smooth_cfg(cfg)\n",
    "output_dist = start_SOGA(cfg)\n",
    "output_dist\n",
    "\n"
   ]
  },
  {
   "cell_type": "code",
   "execution_count": 9,
   "id": "7aff8d3b",
   "metadata": {},
   "outputs": [
    {
     "data": {
      "text/plain": [
       "{'entry': EntryNode<>,\n",
       " 'state0': StateNode<state0,None,y=gm([1.0],[0.000000],[1.000000])>,\n",
       " 'state1': StateNode<state1,None,x=y,smoothed:x=y+ gm([1.], [0.], [0.0010000000])>,\n",
       " 'exit': ExitNode<>}"
      ]
     },
     "execution_count": 9,
     "metadata": {},
     "output_type": "execute_result"
    }
   ],
   "source": [
    "cfg.node_list"
   ]
  },
  {
   "cell_type": "markdown",
   "id": "5520cf5c",
   "metadata": {},
   "source": [
    "### Test 5: If Clauses depending on Extreme Discrete Values"
   ]
  },
  {
   "cell_type": "code",
   "execution_count": 10,
   "id": "dcaa7a50",
   "metadata": {},
   "outputs": [
    {
     "data": {
      "text/plain": [
       "Dist<['x'],pi: tensor([[5.0000e-01],\n",
       "        [5.0000e-01],\n",
       "        [1.4333e-07],\n",
       "        [1.4333e-07]])\n",
       "mu: tensor([[ 2.0000e+00],\n",
       "        [-1.0000e+00],\n",
       "        [-5.1865e-05],\n",
       "        [ 5.1865e-05]])\n",
       "sigma: tensor([[[2.0000e-10]],\n",
       "\n",
       "        [[2.0000e-10]],\n",
       "\n",
       "        [[1.0327e-10]],\n",
       "\n",
       "        [[1.0327e-10]]])>"
      ]
     },
     "execution_count": 10,
     "metadata": {},
     "output_type": "execute_result"
    }
   ],
   "source": [
    "text = 'x = bern(0.5); if x == 1 { x = x + 1; } else { x = x - 1; } end if;'\n",
    "\n",
    "text=compile2SOGA_text(text)\n",
    "cfg = produce_cfg_text(text)\n",
    "smooth_cfg(cfg, smooth_eps = 1e-5)\n",
    "output_dist = start_SOGA(cfg)\n",
    "output_dist"
   ]
  },
  {
   "cell_type": "code",
   "execution_count": 11,
   "id": "f7125f85",
   "metadata": {},
   "outputs": [
    {
     "data": {
      "text/plain": [
       "{'entry': EntryNode<>,\n",
       " 'state0': StateNode<state0,None,x=gm([0.500000,0.500000],[0.0,1.0],[0.0,0.0]),smoothed:x=gm([0.500000,0.500000], [0.0,1.0], [0.0000100000, 0.0000100000])>,\n",
       " 'test0': TestNode<test0,x==1,smoothed:x > 1 - 0.0000500000 and x < 1 + 0.0000500000>,\n",
       " 'state1': StateNode<state1,True,x=x+1,smoothed:x=x+1+ gm([1.], [0.], [0.0000100000])>,\n",
       " 'state2': StateNode<state2,False,x=x-1,smoothed:x=x-1+ gm([1.], [0.], [0.0000100000])>,\n",
       " 'merge0': MergeNode<merge0>,\n",
       " 'exit': ExitNode<>}"
      ]
     },
     "execution_count": 11,
     "metadata": {},
     "output_type": "execute_result"
    }
   ],
   "source": [
    "cfg.node_list"
   ]
  },
  {
   "cell_type": "markdown",
   "id": "98a0e018",
   "metadata": {},
   "source": [
    "### Test 6: If Clauses depending on Discrete Variables + Double Degenerate update"
   ]
  },
  {
   "cell_type": "code",
   "execution_count": 12,
   "id": "7d54c903",
   "metadata": {},
   "outputs": [
    {
     "data": {
      "text/plain": [
       "Dist<['x', 'y'],pi: tensor([[5.0000e-01],\n",
       "        [5.0000e-01],\n",
       "        [1.4333e-07],\n",
       "        [1.4333e-07]])\n",
       "mu: tensor([[ 1.0000,  1.0000],\n",
       "        [ 0.0000, -1.0000],\n",
       "        [ 0.9948, -1.0000],\n",
       "        [ 1.0052, -1.0000]])\n",
       "sigma: tensor([[[9.9999e-07, 0.0000e+00],\n",
       "         [0.0000e+00, 1.0000e-06]],\n",
       "\n",
       "        [[1.0000e-06, 0.0000e+00],\n",
       "         [0.0000e+00, 1.0000e-06]],\n",
       "\n",
       "        [[3.2696e-08, 0.0000e+00],\n",
       "         [0.0000e+00, 1.0000e-06]],\n",
       "\n",
       "        [[3.2696e-08, 0.0000e+00],\n",
       "         [0.0000e+00, 1.0000e-06]]])>"
      ]
     },
     "execution_count": 12,
     "metadata": {},
     "output_type": "execute_result"
    }
   ],
   "source": [
    "text = 'x = bern(0.5); if x == 1 { y = 1; } else { y = -1; } end if;'\n",
    "\n",
    "compiledFile=compile2SOGA_text(text)\n",
    "cfg = produce_cfg_text(compiledFile)\n",
    "smooth_cfg(cfg)\n",
    "output_dist = start_SOGA(cfg)\n",
    "output_dist\n"
   ]
  },
  {
   "cell_type": "code",
   "execution_count": 13,
   "id": "899d7601",
   "metadata": {},
   "outputs": [
    {
     "data": {
      "text/plain": [
       "{'entry': EntryNode<>,\n",
       " 'state0': StateNode<state0,None,x=gm([0.500000,0.500000],[0.0,1.0],[0.0,0.0]),smoothed:x=gm([0.500000,0.500000], [0.0,1.0], [0.0010000000, 0.0010000000])>,\n",
       " 'test0': TestNode<test0,x==1,smoothed:x > 1 - 0.0050000000 and x < 1 + 0.0050000000>,\n",
       " 'state1': StateNode<state1,True,y=1,smoothed:y=1+ gm([1.], [0.], [0.0010000000])>,\n",
       " 'state2': StateNode<state2,False,y=-1,smoothed:y=-1+ gm([1.], [0.], [0.0010000000])>,\n",
       " 'merge0': MergeNode<merge0>,\n",
       " 'exit': ExitNode<>}"
      ]
     },
     "execution_count": 13,
     "metadata": {},
     "output_type": "execute_result"
    }
   ],
   "source": [
    "cfg.node_list"
   ]
  },
  {
   "cell_type": "code",
   "execution_count": 14,
   "id": "5e993962",
   "metadata": {},
   "outputs": [
    {
     "data": {
      "text/plain": [
       "['x', 'y']"
      ]
     },
     "execution_count": 14,
     "metadata": {},
     "output_type": "execute_result"
    }
   ],
   "source": [
    "cfg.smoothed_vars"
   ]
  },
  {
   "cell_type": "markdown",
   "id": "6ed6f422",
   "metadata": {},
   "source": [
    "### Test 7: If Clauses depending on intermediate values"
   ]
  },
  {
   "cell_type": "code",
   "execution_count": 15,
   "id": "98e40398",
   "metadata": {},
   "outputs": [
    {
     "data": {
      "text/plain": [
       "Dist<['x', 'y'],pi: tensor([[3.3000e-01],\n",
       "        [3.3000e-01],\n",
       "        [9.4595e-08],\n",
       "        [9.4595e-08],\n",
       "        [3.4000e-01]])\n",
       "mu: tensor([[1.0000, 1.0000],\n",
       "        [0.0000, 0.0000],\n",
       "        [0.9948, 0.0000],\n",
       "        [1.0052, 0.0000],\n",
       "        [2.0000, 0.0000]])\n",
       "sigma: tensor([[[9.9999e-07, 0.0000e+00],\n",
       "         [0.0000e+00, 1.0000e-06]],\n",
       "\n",
       "        [[1.0000e-06, 0.0000e+00],\n",
       "         [0.0000e+00, 1.0000e-06]],\n",
       "\n",
       "        [[3.2696e-08, 0.0000e+00],\n",
       "         [0.0000e+00, 1.0000e-06]],\n",
       "\n",
       "        [[3.2696e-08, 0.0000e+00],\n",
       "         [0.0000e+00, 1.0000e-06]],\n",
       "\n",
       "        [[1.0000e-06, 0.0000e+00],\n",
       "         [0.0000e+00, 1.0000e-06]]])>"
      ]
     },
     "execution_count": 15,
     "metadata": {},
     "output_type": "execute_result"
    }
   ],
   "source": [
    "text = 'x = gm([0.33, 0.33, 0.34], [0., 1. , 2.], [0., 0., 0.]); if x == 1 { y = 1; } else { y = 0; } end if;'\n",
    "\n",
    "compiledFile=compile2SOGA_text(text)\n",
    "cfg = produce_cfg_text(compiledFile)\n",
    "smooth_cfg(cfg)\n",
    "output_dist = start_SOGA(cfg)\n",
    "output_dist"
   ]
  },
  {
   "cell_type": "code",
   "execution_count": 16,
   "id": "2cf086eb",
   "metadata": {},
   "outputs": [
    {
     "data": {
      "text/plain": [
       "{'entry': EntryNode<>,\n",
       " 'state0': StateNode<state0,None,x=gm([0.33,0.33,0.34],[0.,1.,2.],[0.,0.,0.]),smoothed:x=gm([0.33,0.33,0.34], [0.,1.,2.], [0.0010000000, 0.0010000000, 0.0010000000])>,\n",
       " 'test0': TestNode<test0,x==1,smoothed:x > 1 - 0.0050000000 and x < 1 + 0.0050000000>,\n",
       " 'state1': StateNode<state1,True,y=1,smoothed:y=1+ gm([1.], [0.], [0.0010000000])>,\n",
       " 'state2': StateNode<state2,False,y=0,smoothed:y=0+ gm([1.], [0.], [0.0010000000])>,\n",
       " 'merge0': MergeNode<merge0>,\n",
       " 'exit': ExitNode<>}"
      ]
     },
     "execution_count": 16,
     "metadata": {},
     "output_type": "execute_result"
    }
   ],
   "source": [
    "cfg.node_list\n"
   ]
  },
  {
   "cell_type": "code",
   "execution_count": 17,
   "id": "fb241268",
   "metadata": {},
   "outputs": [
    {
     "data": {
      "text/plain": [
       "['x', 'y']"
      ]
     },
     "execution_count": 17,
     "metadata": {},
     "output_type": "execute_result"
    }
   ],
   "source": [
    "cfg.smoothed_vars"
   ]
  },
  {
   "cell_type": "markdown",
   "id": "655a4635",
   "metadata": {},
   "source": [
    "### Test 8: Observing equalities"
   ]
  },
  {
   "cell_type": "code",
   "execution_count": 18,
   "id": "48d986e5",
   "metadata": {},
   "outputs": [
    {
     "data": {
      "text/plain": [
       "Dist<['x'],pi: tensor([], size=(0, 1))\n",
       "mu: tensor([], size=(0, 1))\n",
       "sigma: tensor([], size=(0, 1, 1))>"
      ]
     },
     "execution_count": 18,
     "metadata": {},
     "output_type": "execute_result"
    }
   ],
   "source": [
    "text = 'x = gauss(0,1); observe(x==1);'\n",
    "\n",
    "compiledFile=compile2SOGA_text(text)\n",
    "cfg = produce_cfg_text(compiledFile)\n",
    "smooth_cfg(cfg)\n",
    "output_dist = start_SOGA(cfg)\n",
    "output_dist"
   ]
  },
  {
   "cell_type": "code",
   "execution_count": 19,
   "id": "f614cfc6",
   "metadata": {},
   "outputs": [
    {
     "data": {
      "text/plain": [
       "{'entry': EntryNode<>,\n",
       " 'state0': StateNode<state0,None,x=gm([1.0],[0.000000],[1.000000])>,\n",
       " 'observe0': ObserveNode<observe0,x==1>,\n",
       " 'exit': ExitNode<>}"
      ]
     },
     "execution_count": 19,
     "metadata": {},
     "output_type": "execute_result"
    }
   ],
   "source": [
    "cfg.node_list"
   ]
  },
  {
   "cell_type": "code",
   "execution_count": 20,
   "id": "35cfb3d4",
   "metadata": {},
   "outputs": [
    {
     "data": {
      "text/plain": [
       "Dist<['x'],pi: tensor([[1.]])\n",
       "mu: tensor([[1.]])\n",
       "sigma: tensor([[[9.9999e-07]]])>"
      ]
     },
     "execution_count": 20,
     "metadata": {},
     "output_type": "execute_result"
    }
   ],
   "source": [
    "text = 'x = bern(0.5); observe(x==1);'\n",
    "\n",
    "compiledFile=compile2SOGA_text(text)\n",
    "cfg = produce_cfg_text(compiledFile)\n",
    "smooth_cfg(cfg)\n",
    "output_dist = start_SOGA(cfg)\n",
    "output_dist"
   ]
  },
  {
   "cell_type": "code",
   "execution_count": 21,
   "id": "a6e522a0",
   "metadata": {},
   "outputs": [
    {
     "data": {
      "text/plain": [
       "{'entry': EntryNode<>,\n",
       " 'state0': StateNode<state0,None,x=gm([0.500000,0.500000],[0.0,1.0],[0.0,0.0]),smoothed:x=gm([0.500000,0.500000], [0.0,1.0], [0.0010000000, 0.0010000000])>,\n",
       " 'observe0': ObserveNode<observe0,x==1,smoothed:x > 1 - 0.0050000000 and x < 1 + 0.0050000000>,\n",
       " 'exit': ExitNode<>}"
      ]
     },
     "execution_count": 21,
     "metadata": {},
     "output_type": "execute_result"
    }
   ],
   "source": [
    "cfg.node_list"
   ]
  },
  {
   "cell_type": "code",
   "execution_count": 22,
   "id": "90b0cd41",
   "metadata": {},
   "outputs": [
    {
     "data": {
      "text/plain": [
       "['x']"
      ]
     },
     "execution_count": 22,
     "metadata": {},
     "output_type": "execute_result"
    }
   ],
   "source": [
    "cfg.smoothed_vars"
   ]
  },
  {
   "cell_type": "code",
   "execution_count": null,
   "id": "3589b8d3",
   "metadata": {},
   "outputs": [],
   "source": []
  }
 ],
 "metadata": {
  "kernelspec": {
   "display_name": "base",
   "language": "python",
   "name": "python3"
  },
  "language_info": {
   "codemirror_mode": {
    "name": "ipython",
    "version": 3
   },
   "file_extension": ".py",
   "mimetype": "text/x-python",
   "name": "python",
   "nbconvert_exporter": "python",
   "pygments_lexer": "ipython3",
   "version": "3.11.5"
  }
 },
 "nbformat": 4,
 "nbformat_minor": 5
}
