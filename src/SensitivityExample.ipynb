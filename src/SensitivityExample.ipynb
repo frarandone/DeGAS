{
 "cells": [
  {
   "cell_type": "code",
   "execution_count": 33,
   "id": "c8d8b95d",
   "metadata": {},
   "outputs": [],
   "source": [
    "from optimization import *\n",
    "torch.set_default_dtype(torch.float64)"
   ]
  },
  {
   "cell_type": "markdown",
   "id": "c0883d34",
   "metadata": {},
   "source": [
    "### Program 1\n",
    "\n",
    "we consider the program\n",
    "\n",
    "$$ P_1 = x = 0; observe(x \\ge 0); $$"
   ]
  },
  {
   "cell_type": "code",
   "execution_count": 39,
   "id": "29fceeca",
   "metadata": {},
   "outputs": [
    {
     "name": "stdout",
     "output_type": "stream",
     "text": [
      "[0.9992172988709987, 1.0, 1.0, 1.0]\n",
      "[0.00026901575303753635, 7.69459862670641e-25, 2.8422947585999937e-221, 0.0]\n",
      "[0.09957337686308636, 0.01, 0.001, 0.0001]\n"
     ]
    }
   ],
   "source": [
    "eps_list = torch.tensor([1e-1, 1e-2, 1e-3, 1e-4])\n",
    "\n",
    "p_list = []\n",
    "m_list = []\n",
    "s_list = []\n",
    "\n",
    "for eps in eps_list:\n",
    "    delta = torch.sqrt(eps)\n",
    "    init_dist = Dist(['x'], GaussianMix(torch.tensor([[1.]]),\n",
    "                                             torch.tensor([[0.]]),\n",
    "                                             torch.tensor([[[eps**2]]])))\n",
    "    p, trunc_dist = truncate(init_dist, 'x > - {}'.format(delta.item()), [], {})\n",
    "    p_list.append(p.item())\n",
    "    m_list.append(trunc_dist.gm.mu.item())\n",
    "    s_list.append(torch.sqrt(trunc_dist.gm.sigma).item())\n",
    "\n",
    "print(p_list)\n",
    "print(m_list)\n",
    "print(s_list)\n",
    "    \n",
    "    "
   ]
  },
  {
   "cell_type": "code",
   "execution_count": 28,
   "id": "45004411",
   "metadata": {},
   "outputs": [
    {
     "name": "stdout",
     "output_type": "stream",
     "text": [
      "[0.8413447460685429, 0.8413447460685429, 0.8413447460685429, 0.8413447460685429]\n",
      "[0.02875999709391784, 0.0028759997093917838, 0.0002875999709391784, 2.875999709391784e-05]\n",
      "[0.07935277473262076, 0.007935277473262076, 0.0007935277473262075, 7.935277473262076e-05]\n"
     ]
    }
   ],
   "source": [
    "eps_list = torch.tensor([1e-1, 1e-2, 1e-3, 1e-4])\n",
    "\n",
    "p_list = []\n",
    "m_list = []\n",
    "s_list = []\n",
    "\n",
    "for eps in eps_list:\n",
    "    delta = eps\n",
    "    init_dist = Dist(['x'], GaussianMix(torch.tensor([[1.]]),\n",
    "                                             torch.tensor([[0.]]),\n",
    "                                             torch.tensor([[[eps**2]]])))\n",
    "    p, trunc_dist = truncate(init_dist, 'x > - {}'.format(delta.item()), [], {})\n",
    "    p_list.append(p.item())\n",
    "    m_list.append(trunc_dist.gm.mu.item())\n",
    "    s_list.append(torch.sqrt(trunc_dist.gm.sigma).item())\n",
    "\n",
    "print(p_list)\n",
    "print(m_list)\n",
    "print(s_list)\n",
    "    "
   ]
  },
  {
   "cell_type": "markdown",
   "id": "e4ce236d",
   "metadata": {},
   "source": [
    "### Program 2\n",
    "\n",
    "we consider the program\n",
    "\n",
    "$$ P_1 = x = 0; observe(x > 0); $$"
   ]
  },
  {
   "cell_type": "code",
   "execution_count": 31,
   "id": "cd109877",
   "metadata": {},
   "outputs": [
    {
     "name": "stdout",
     "output_type": "stream",
     "text": [
      "[0.0007827011290012509, 0.0, 0.0, 0.0]\n",
      "[0.34343274098367266, 0.0, 0.0, 0.0]\n",
      "[0.025630467782460475, 0.01, 0.001, 0.0001]\n"
     ]
    }
   ],
   "source": [
    "eps_list = torch.tensor([1e-1, 1e-2, 1e-3, 1e-4])\n",
    "\n",
    "p_list = []\n",
    "m_list = []\n",
    "s_list = []\n",
    "\n",
    "for eps in eps_list:\n",
    "    delta = torch.sqrt(eps)\n",
    "    init_dist = Dist(['x'], GaussianMix(torch.tensor([[1.]]),\n",
    "                                             torch.tensor([[0.]]),\n",
    "                                             torch.tensor([[[eps**2]]])))\n",
    "    p, trunc_dist = truncate(init_dist, 'x > {}'.format(delta.item()), [], {})\n",
    "    p_list.append(p.item())\n",
    "    m_list.append(trunc_dist.gm.mu.item())\n",
    "    s_list.append(torch.sqrt(trunc_dist.gm.sigma).item())\n",
    "\n",
    "print(p_list)\n",
    "print(m_list)\n",
    "print(s_list)\n",
    "    "
   ]
  },
  {
   "cell_type": "code",
   "execution_count": 32,
   "id": "ebbbdb14",
   "metadata": {},
   "outputs": [
    {
     "name": "stdout",
     "output_type": "stream",
     "text": [
      "[0.15865525393145707, 0.15865525393145707, 0.15865525393145707, 0.15865525393145707]\n",
      "[0.15251352761609813, 0.015251352761609811, 0.0015251352761609812, 0.00015251352761609812]\n",
      "[0.04462036144747695, 0.004462036144747695, 0.00044620361447476946, 4.4620361447476946e-05]\n"
     ]
    }
   ],
   "source": [
    "eps_list = torch.tensor([1e-1, 1e-2, 1e-3, 1e-4])\n",
    "\n",
    "p_list = []\n",
    "m_list = []\n",
    "s_list = []\n",
    "\n",
    "for eps in eps_list:\n",
    "    delta = eps\n",
    "    init_dist = Dist(['x'], GaussianMix(torch.tensor([[1.]]),\n",
    "                                             torch.tensor([[0.]]),\n",
    "                                             torch.tensor([[[eps**2]]])))\n",
    "    p, trunc_dist = truncate(init_dist, 'x > {}'.format(delta.item()), [], {})\n",
    "    p_list.append(p.item())\n",
    "    m_list.append(trunc_dist.gm.mu.item())\n",
    "    s_list.append(torch.sqrt(trunc_dist.gm.sigma).item())\n",
    "\n",
    "print(p_list)\n",
    "print(m_list)\n",
    "print(s_list)\n",
    "    "
   ]
  },
  {
   "cell_type": "markdown",
   "id": "ca658198",
   "metadata": {},
   "source": [
    "### Program 3\n",
    "\n",
    "we consider the program\n",
    "\n",
    "$$ P_1 = x = gm([0.5, 0.5], [0, 1], [0, 0]); observe(x == 0); $$"
   ]
  },
  {
   "cell_type": "code",
   "execution_count": 36,
   "id": "d755d842",
   "metadata": {},
   "outputs": [
    {
     "name": "stdout",
     "output_type": "stream",
     "text": [
      "[0.49921729887099875, 0.5, 0.5, 0.5]\n",
      "[[0.0], [0.0], [0.0], [0.0]]\n",
      "[[0.09914497526770921], [0.01], [0.001], [0.0001]]\n"
     ]
    }
   ],
   "source": [
    "eps_list = torch.tensor([1e-1, 1e-2, 1e-3, 1e-4])\n",
    "\n",
    "p_list = []\n",
    "m_list = []\n",
    "s_list = []\n",
    "\n",
    "for eps in eps_list:\n",
    "    delta = torch.sqrt(eps)\n",
    "    init_dist = Dist(['x'], GaussianMix(torch.tensor([[0.5], [0.5]]),\n",
    "                                             torch.tensor([[0.], [1.]]),\n",
    "                                             torch.tensor([[[eps**2]], [[eps**2]]])))\n",
    "    p, trunc_dist = truncate(init_dist, 'x > - {} and x < {}'.format(delta.item(), delta.item()), [], {})\n",
    "    p_list.append(p.item())\n",
    "    m_list.append(trunc_dist.gm.mu.flatten().tolist())\n",
    "    s_list.append(torch.sqrt(trunc_dist.gm.sigma).flatten().tolist())\n",
    "\n",
    "print(p_list)\n",
    "print(m_list)\n",
    "print(s_list)\n",
    "    "
   ]
  },
  {
   "cell_type": "code",
   "execution_count": 35,
   "id": "fb70a2e4",
   "metadata": {},
   "outputs": [
    {
     "name": "stdout",
     "output_type": "stream",
     "text": [
      "[0.3413447460685429, 0.3413447460685429, 0.3413447460685429, 0.3413447460685429]\n",
      "[tensor([0.]), tensor([0.]), tensor([0.]), tensor([0.])]\n",
      "[tensor([0.0540]), tensor([0.0054]), tensor([0.0005]), tensor([5.3956e-05])]\n"
     ]
    }
   ],
   "source": [
    "eps_list = torch.tensor([1e-1, 1e-2, 1e-3, 1e-4])\n",
    "\n",
    "p_list = []\n",
    "m_list = []\n",
    "s_list = []\n",
    "\n",
    "for eps in eps_list:\n",
    "    delta = eps\n",
    "    init_dist = Dist(['x'], GaussianMix(torch.tensor([[0.5], [0.5]]),\n",
    "                                             torch.tensor([[0.], [1.]]),\n",
    "                                             torch.tensor([[[eps**2]], [[eps**2]]])))\n",
    "    p, trunc_dist = truncate(init_dist, 'x > - {} and x < {}'.format(delta.item(), delta.item()), [], {})\n",
    "    p_list.append(p.item())\n",
    "    m_list.append(trunc_dist.gm.mu.flatten())\n",
    "    s_list.append(torch.sqrt(trunc_dist.gm.sigma).flatten())\n",
    "\n",
    "print(p_list)\n",
    "print(m_list)\n",
    "print(s_list)\n",
    "    "
   ]
  },
  {
   "cell_type": "code",
   "execution_count": null,
   "id": "1b05ed8f",
   "metadata": {},
   "outputs": [],
   "source": []
  }
 ],
 "metadata": {
  "kernelspec": {
   "display_name": "Python 3",
   "language": "python",
   "name": "python3"
  },
  "language_info": {
   "codemirror_mode": {
    "name": "ipython",
    "version": 3
   },
   "file_extension": ".py",
   "mimetype": "text/x-python",
   "name": "python",
   "nbconvert_exporter": "python",
   "pygments_lexer": "ipython3",
   "version": "3.13.8"
  }
 },
 "nbformat": 4,
 "nbformat_minor": 5
}
